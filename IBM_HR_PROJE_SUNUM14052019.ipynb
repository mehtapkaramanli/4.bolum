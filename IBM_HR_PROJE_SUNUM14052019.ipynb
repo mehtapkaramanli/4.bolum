{
 "cells": [
  {
   "cell_type": "markdown",
   "metadata": {},
   "source": [
    "# IBM şirketinde çalışan personelin işten çıkmasını etkileyen faktorler nelerdir?\n",
    "\n",
    "## 1. Giriş\n",
    "## 2. Veriye genel bakış\n",
    "## 3. Veri Temizliği\n",
    "## 4. Keşifsel Veri Analizi-Özellik Mühendisliği\n",
    "## 5. Modeller\n",
    "## 6. Model Performansları\n",
    "\n",
    "\n"
   ]
  },
  {
   "cell_type": "markdown",
   "metadata": {},
   "source": [
    "# 1. Giriş:\n",
    "\"IBM HR Analytics Employee Attrition & Performance\" veri setini kullanarak IBM şirketinin işten çıkmayı etkileyen faktorleri nelerdir? sorusuna cevap bulmaya çalışacağız? Veri setimizdeki Hedef özelliğimi olarak yani Target olarak 'Attrition' özelliğini seçtim."
   ]
  },
  {
   "cell_type": "code",
   "execution_count": 1,
   "metadata": {},
   "outputs": [
    {
     "data": {
      "text/html": [
       "<div>\n",
       "<style scoped>\n",
       "    .dataframe tbody tr th:only-of-type {\n",
       "        vertical-align: middle;\n",
       "    }\n",
       "\n",
       "    .dataframe tbody tr th {\n",
       "        vertical-align: top;\n",
       "    }\n",
       "\n",
       "    .dataframe thead th {\n",
       "        text-align: right;\n",
       "    }\n",
       "</style>\n",
       "<table border=\"1\" class=\"dataframe\">\n",
       "  <thead>\n",
       "    <tr style=\"text-align: right;\">\n",
       "      <th></th>\n",
       "      <th>Age</th>\n",
       "      <th>Attrition</th>\n",
       "      <th>BusinessTravel</th>\n",
       "      <th>DailyRate</th>\n",
       "      <th>Department</th>\n",
       "      <th>DistanceFromHome</th>\n",
       "      <th>Education</th>\n",
       "      <th>EducationField</th>\n",
       "      <th>EmployeeCount</th>\n",
       "      <th>EmployeeNumber</th>\n",
       "      <th>...</th>\n",
       "      <th>RelationshipSatisfaction</th>\n",
       "      <th>StandardHours</th>\n",
       "      <th>StockOptionLevel</th>\n",
       "      <th>TotalWorkingYears</th>\n",
       "      <th>TrainingTimesLastYear</th>\n",
       "      <th>WorkLifeBalance</th>\n",
       "      <th>YearsAtCompany</th>\n",
       "      <th>YearsInCurrentRole</th>\n",
       "      <th>YearsSinceLastPromotion</th>\n",
       "      <th>YearsWithCurrManager</th>\n",
       "    </tr>\n",
       "  </thead>\n",
       "  <tbody>\n",
       "    <tr>\n",
       "      <th>0</th>\n",
       "      <td>41</td>\n",
       "      <td>Yes</td>\n",
       "      <td>Travel_Rarely</td>\n",
       "      <td>1102</td>\n",
       "      <td>Sales</td>\n",
       "      <td>1</td>\n",
       "      <td>2</td>\n",
       "      <td>Life Sciences</td>\n",
       "      <td>1</td>\n",
       "      <td>1</td>\n",
       "      <td>...</td>\n",
       "      <td>1</td>\n",
       "      <td>80</td>\n",
       "      <td>0</td>\n",
       "      <td>8</td>\n",
       "      <td>0</td>\n",
       "      <td>1</td>\n",
       "      <td>6</td>\n",
       "      <td>4</td>\n",
       "      <td>0</td>\n",
       "      <td>5</td>\n",
       "    </tr>\n",
       "    <tr>\n",
       "      <th>1</th>\n",
       "      <td>49</td>\n",
       "      <td>No</td>\n",
       "      <td>Travel_Frequently</td>\n",
       "      <td>279</td>\n",
       "      <td>Research &amp; Development</td>\n",
       "      <td>8</td>\n",
       "      <td>1</td>\n",
       "      <td>Life Sciences</td>\n",
       "      <td>1</td>\n",
       "      <td>2</td>\n",
       "      <td>...</td>\n",
       "      <td>4</td>\n",
       "      <td>80</td>\n",
       "      <td>1</td>\n",
       "      <td>10</td>\n",
       "      <td>3</td>\n",
       "      <td>3</td>\n",
       "      <td>10</td>\n",
       "      <td>7</td>\n",
       "      <td>1</td>\n",
       "      <td>7</td>\n",
       "    </tr>\n",
       "    <tr>\n",
       "      <th>2</th>\n",
       "      <td>37</td>\n",
       "      <td>Yes</td>\n",
       "      <td>Travel_Rarely</td>\n",
       "      <td>1373</td>\n",
       "      <td>Research &amp; Development</td>\n",
       "      <td>2</td>\n",
       "      <td>2</td>\n",
       "      <td>Other</td>\n",
       "      <td>1</td>\n",
       "      <td>4</td>\n",
       "      <td>...</td>\n",
       "      <td>2</td>\n",
       "      <td>80</td>\n",
       "      <td>0</td>\n",
       "      <td>7</td>\n",
       "      <td>3</td>\n",
       "      <td>3</td>\n",
       "      <td>0</td>\n",
       "      <td>0</td>\n",
       "      <td>0</td>\n",
       "      <td>0</td>\n",
       "    </tr>\n",
       "    <tr>\n",
       "      <th>3</th>\n",
       "      <td>33</td>\n",
       "      <td>No</td>\n",
       "      <td>Travel_Frequently</td>\n",
       "      <td>1392</td>\n",
       "      <td>Research &amp; Development</td>\n",
       "      <td>3</td>\n",
       "      <td>4</td>\n",
       "      <td>Life Sciences</td>\n",
       "      <td>1</td>\n",
       "      <td>5</td>\n",
       "      <td>...</td>\n",
       "      <td>3</td>\n",
       "      <td>80</td>\n",
       "      <td>0</td>\n",
       "      <td>8</td>\n",
       "      <td>3</td>\n",
       "      <td>3</td>\n",
       "      <td>8</td>\n",
       "      <td>7</td>\n",
       "      <td>3</td>\n",
       "      <td>0</td>\n",
       "    </tr>\n",
       "    <tr>\n",
       "      <th>4</th>\n",
       "      <td>27</td>\n",
       "      <td>No</td>\n",
       "      <td>Travel_Rarely</td>\n",
       "      <td>591</td>\n",
       "      <td>Research &amp; Development</td>\n",
       "      <td>2</td>\n",
       "      <td>1</td>\n",
       "      <td>Medical</td>\n",
       "      <td>1</td>\n",
       "      <td>7</td>\n",
       "      <td>...</td>\n",
       "      <td>4</td>\n",
       "      <td>80</td>\n",
       "      <td>1</td>\n",
       "      <td>6</td>\n",
       "      <td>3</td>\n",
       "      <td>3</td>\n",
       "      <td>2</td>\n",
       "      <td>2</td>\n",
       "      <td>2</td>\n",
       "      <td>2</td>\n",
       "    </tr>\n",
       "  </tbody>\n",
       "</table>\n",
       "<p>5 rows × 35 columns</p>\n",
       "</div>"
      ],
      "text/plain": [
       "   Age Attrition     BusinessTravel  DailyRate              Department  \\\n",
       "0   41       Yes      Travel_Rarely       1102                   Sales   \n",
       "1   49        No  Travel_Frequently        279  Research & Development   \n",
       "2   37       Yes      Travel_Rarely       1373  Research & Development   \n",
       "3   33        No  Travel_Frequently       1392  Research & Development   \n",
       "4   27        No      Travel_Rarely        591  Research & Development   \n",
       "\n",
       "   DistanceFromHome  Education EducationField  EmployeeCount  EmployeeNumber  \\\n",
       "0                 1          2  Life Sciences              1               1   \n",
       "1                 8          1  Life Sciences              1               2   \n",
       "2                 2          2          Other              1               4   \n",
       "3                 3          4  Life Sciences              1               5   \n",
       "4                 2          1        Medical              1               7   \n",
       "\n",
       "           ...           RelationshipSatisfaction StandardHours  \\\n",
       "0          ...                                  1            80   \n",
       "1          ...                                  4            80   \n",
       "2          ...                                  2            80   \n",
       "3          ...                                  3            80   \n",
       "4          ...                                  4            80   \n",
       "\n",
       "   StockOptionLevel  TotalWorkingYears  TrainingTimesLastYear WorkLifeBalance  \\\n",
       "0                 0                  8                      0               1   \n",
       "1                 1                 10                      3               3   \n",
       "2                 0                  7                      3               3   \n",
       "3                 0                  8                      3               3   \n",
       "4                 1                  6                      3               3   \n",
       "\n",
       "   YearsAtCompany YearsInCurrentRole  YearsSinceLastPromotion  \\\n",
       "0               6                  4                        0   \n",
       "1              10                  7                        1   \n",
       "2               0                  0                        0   \n",
       "3               8                  7                        3   \n",
       "4               2                  2                        2   \n",
       "\n",
       "   YearsWithCurrManager  \n",
       "0                     5  \n",
       "1                     7  \n",
       "2                     0  \n",
       "3                     0  \n",
       "4                     2  \n",
       "\n",
       "[5 rows x 35 columns]"
      ]
     },
     "execution_count": 1,
     "metadata": {},
     "output_type": "execute_result"
    }
   ],
   "source": [
    "import plotly \n",
    "plotly.tools.set_credentials_file(username='mehtapc', api_key='235ZAxumoJILdvQGhnP7')\n",
    "import numpy as np\n",
    "import pandas as pd\n",
    "import matplotlib.pyplot as plt\n",
    "import scipy.stats as norm\n",
    "import seaborn as sns\n",
    "import scipy.stats as stats\n",
    "import plotly.plotly as py\n",
    "import plotly.graph_objs as go\n",
    "import math\n",
    "from plotly.tools import FigureFactory as FF\n",
    "from scipy.stats.mstats import winsorize\n",
    "from plotly import tools\n",
    "import warnings\n",
    "warnings.filterwarnings('ignore')\n",
    "employee = pd.read_csv(\"WA_Fn-UseC_-HR-Employee-Attrition.csv\")\n",
    "employee_attrition = pd.read_csv(\"WA_Fn-UseC_-HR-Employee-Attrition.csv\")\n",
    "employee.head()"
   ]
  },
  {
   "cell_type": "markdown",
   "metadata": {},
   "source": [
    "## 1.2  Veriye genel bakış\n",
    "Özellikler ve açıklamaları aşağıdadır:\n",
    "    \n",
    "* AGE:                           Numerical Value\n",
    "* ATTRITION:                       Employee leaving the company (0=no, 1=yes)\n",
    "* BUSINESS TRAVEL:                (1=No Travel, 2=Travel Frequently, 3=Tavel Rarely)\n",
    "* DAILY RATE:                      Numerical Value - Salary Level\n",
    "* DEPARTMENT:                      (1=HR, 2=R&D, 3=Sales)\n",
    "* DISTANCE FROM HOME:              Numerical Value - THE DISTANCE FROM WORK TO HOME\n",
    "* EDUCATION:                       Numerical Value\n",
    "* EDUCATION FIELD:                 (1=HR, 2=LIFE SCIENCES, 3=MARKETING, 4=MEDICAL SCIENCES, 5=OTHERS, 6= TEHCNICAL)\n",
    "* ENVIROMENT SATISFACTION:         Numerical Value - SATISFACTION WITH THE ENVIROMENT\n",
    "* GENDER:                          (1=FEMALE, 2=MALE)\n",
    "* HOURLY RATE:                     Numerical Value - HOURLY SALARY\n",
    "* JOB INVOLVEMENT:                 Numerical Value - JOB INVOLVEMENT\n",
    "* JOB LEVEL:                       Numerical Value - LEVEL OF JOB\n",
    "* JOB ROLE:                        (1=HC REP, 2=HR, 3=LAB TECHNICIAN, 4=MANAGER, 5= MANAGING DIRECTOR, 6= REASEARCH DIRECTOR, 7= RESEARCH SCIENTIST, 8=SALES EXECUTIEVE, 9= SALES REPRESENTATIVE)\n",
    "* JOB SATISFACTION:                Numerical Value - SATISFACTION WITH THE JOB\n",
    "* MARITAL STATUS:                  (1=DIVORCED, 2=MARRIED, 3=SINGLE)\n",
    "* MONTHLY INCOME:                  Numerical Value - MONTHLY SALARY\n",
    "* MONTHY RATE:                     Numerical Value - MONTHY RATE\n",
    "* NUMCOMPANIES WORKED:             Numerical Value - NO. OF COMPANIES WORKED AT\n",
    "* OVERTIME:                        (1=NO, 2=YES)\n",
    "* PERCENT SALARY HIKE:             Numerical Value - PERCENTAGE INCREASE IN SALARY\n",
    "* PERFORMANCE RATING:              Numerical Value - ERFORMANCE RATING\n",
    "* RELATIONS SATISFACTION:          Numerical Value - RELATIONS SATISFACTION\n",
    "* STOCK OPTIONS LEVEL:             Numerical Value - STOCK OPTIONS\n",
    "* TOTAL WORKING YEARS:             Numerical Value - TOTAL YEARS WORKED\n",
    "* TRAINING TIMES LAST YEAR:        Numerical Value - HOURS SPENT TRAINING\n",
    "* WORK LIFE BALANCE:               Numerical Value - TIME SPENT BEWTWEEN WORK AND OUTSIDE\n",
    "* YEARS AT COMPANY:                Numerical Value - TOTAL NUMBER OF YEARS AT THE COMPNAY\n",
    "* YEARS IN CURRENT ROLE:           Numerical Value -YEARS IN CURRENT ROLE\n",
    "* YEARS SINCE LAST PROMOTION:      Numerical Value - LAST PROMOTION\n",
    "* YEARS WITH CURRENT MANAGER:      Numerical Value - YEARS SPENT WITH CURRENT MANAGER\n"
   ]
  },
  {
   "cell_type": "code",
   "execution_count": 2,
   "metadata": {},
   "outputs": [
    {
     "data": {
      "text/html": [
       "<iframe id=\"igraph\" scrolling=\"no\" style=\"border:none;\" seamless=\"seamless\" src=\"https://plot.ly/~mehtapc/258.embed\" height=\"525px\" width=\"100%\"></iframe>"
      ],
      "text/plain": [
       "<chart_studio.tools.PlotlyDisplay object>"
      ]
     },
     "execution_count": 2,
     "metadata": {},
     "output_type": "execute_result"
    }
   ],
   "source": [
    "#Attrition Histogramını çizdirdiğimizde dengesiz (imbalance) oran olduğunu görüyoruz.\n",
    "\n",
    "data = [go.Bar(\n",
    "            x=employee[\"Attrition\"].value_counts().index.values,\n",
    "            y= employee[\"Attrition\"].value_counts().values\n",
    "    )]\n",
    "\n",
    "layout = go.Layout(\n",
    "    title='Attrition Özelliğinin Genel Dağılımı Grafiği',\n",
    ")\n",
    "fig = go.Figure(data=data, layout=layout)\n",
    "py.iplot(fig, filename='basic-attrition-bar')\n"
   ]
  },
  {
   "cell_type": "markdown",
   "metadata": {},
   "source": [
    "* Veri Seti yapısı:  1470 satır, 35 özellik\n",
    "* Veri tipi: int64 ve object\n",
    "* Dengesiz(Imbalanced dataset): 1233 (84%) 'no' attrition ve 237 (16%) 'yes' attrition"
   ]
  },
  {
   "cell_type": "markdown",
   "metadata": {},
   "source": [
    "# 2. Veri Temizliği\n"
   ]
  },
  {
   "cell_type": "markdown",
   "metadata": {},
   "source": [
    "Öncelikle veri setimizdeki genel durumuna bakıyoruz ve de unique değerleri üzerinden etkisiz özellikler var mı ona bakıyoruz"
   ]
  },
  {
   "cell_type": "code",
   "execution_count": 3,
   "metadata": {},
   "outputs": [
    {
     "name": "stdout",
     "output_type": "stream",
     "text": [
      "<class 'pandas.core.frame.DataFrame'>\n",
      "RangeIndex: 1470 entries, 0 to 1469\n",
      "Data columns (total 35 columns):\n",
      "Age                         1470 non-null int64\n",
      "Attrition                   1470 non-null object\n",
      "BusinessTravel              1470 non-null object\n",
      "DailyRate                   1470 non-null int64\n",
      "Department                  1470 non-null object\n",
      "DistanceFromHome            1470 non-null int64\n",
      "Education                   1470 non-null int64\n",
      "EducationField              1470 non-null object\n",
      "EmployeeCount               1470 non-null int64\n",
      "EmployeeNumber              1470 non-null int64\n",
      "EnvironmentSatisfaction     1470 non-null int64\n",
      "Gender                      1470 non-null object\n",
      "HourlyRate                  1470 non-null int64\n",
      "JobInvolvement              1470 non-null int64\n",
      "JobLevel                    1470 non-null int64\n",
      "JobRole                     1470 non-null object\n",
      "JobSatisfaction             1470 non-null int64\n",
      "MaritalStatus               1470 non-null object\n",
      "MonthlyIncome               1470 non-null int64\n",
      "MonthlyRate                 1470 non-null int64\n",
      "NumCompaniesWorked          1470 non-null int64\n",
      "Over18                      1470 non-null object\n",
      "OverTime                    1470 non-null object\n",
      "PercentSalaryHike           1470 non-null int64\n",
      "PerformanceRating           1470 non-null int64\n",
      "RelationshipSatisfaction    1470 non-null int64\n",
      "StandardHours               1470 non-null int64\n",
      "StockOptionLevel            1470 non-null int64\n",
      "TotalWorkingYears           1470 non-null int64\n",
      "TrainingTimesLastYear       1470 non-null int64\n",
      "WorkLifeBalance             1470 non-null int64\n",
      "YearsAtCompany              1470 non-null int64\n",
      "YearsInCurrentRole          1470 non-null int64\n",
      "YearsSinceLastPromotion     1470 non-null int64\n",
      "YearsWithCurrManager        1470 non-null int64\n",
      "dtypes: int64(26), object(9)\n",
      "memory usage: 402.0+ KB\n"
     ]
    }
   ],
   "source": [
    "employee.info()"
   ]
  },
  {
   "cell_type": "code",
   "execution_count": 4,
   "metadata": {},
   "outputs": [
    {
     "data": {
      "text/plain": [
       "Age                           43\n",
       "Attrition                      2\n",
       "BusinessTravel                 3\n",
       "DailyRate                    886\n",
       "Department                     3\n",
       "DistanceFromHome              29\n",
       "Education                      5\n",
       "EducationField                 6\n",
       "EmployeeCount                  1\n",
       "EmployeeNumber              1470\n",
       "EnvironmentSatisfaction        4\n",
       "Gender                         2\n",
       "HourlyRate                    71\n",
       "JobInvolvement                 4\n",
       "JobLevel                       5\n",
       "JobRole                        9\n",
       "JobSatisfaction                4\n",
       "MaritalStatus                  3\n",
       "MonthlyIncome               1349\n",
       "MonthlyRate                 1427\n",
       "NumCompaniesWorked            10\n",
       "Over18                         1\n",
       "OverTime                       2\n",
       "PercentSalaryHike             15\n",
       "PerformanceRating              2\n",
       "RelationshipSatisfaction       4\n",
       "StandardHours                  1\n",
       "StockOptionLevel               4\n",
       "TotalWorkingYears             40\n",
       "TrainingTimesLastYear          7\n",
       "WorkLifeBalance                4\n",
       "YearsAtCompany                37\n",
       "YearsInCurrentRole            19\n",
       "YearsSinceLastPromotion       16\n",
       "YearsWithCurrManager          18\n",
       "dtype: int64"
      ]
     },
     "execution_count": 4,
     "metadata": {},
     "output_type": "execute_result"
    }
   ],
   "source": [
    "employee.nunique()"
   ]
  },
  {
   "cell_type": "markdown",
   "metadata": {},
   "source": [
    "Özelliklerden 'EmployeeNumber', 'EmployeeCount', 'Over18' ve 'StandardHours' etkisiz eleman oldukları için verisetimizden çıkarıyoruz."
   ]
  },
  {
   "cell_type": "code",
   "execution_count": 5,
   "metadata": {},
   "outputs": [],
   "source": [
    "employee.drop(['EmployeeNumber','EmployeeCount','Over18','StandardHours'],axis=1,inplace=True)"
   ]
  },
  {
   "cell_type": "markdown",
   "metadata": {},
   "source": [
    "## 2.1 Veri Türü Tespiti"
   ]
  },
  {
   "cell_type": "markdown",
   "metadata": {},
   "source": [
    "Kategorik veri tipi olarak object olan veya int olup kategorik olanları kategorik olarak gruplandırdım.\n",
    "(Attrition özelliği bizim hedef değişkenimiz olduğu için onu da data setten çıkarıyorum.)"
   ]
  },
  {
   "cell_type": "markdown",
   "metadata": {},
   "source": [
    "Kategorik Veriler\n",
    "* 'BusinessTravel'\n",
    "* 'Department'\n",
    "* 'Education'\n",
    "* 'EducationField'\n",
    "* 'EnvironmentSatisfaction'\n",
    "* 'Gender'\n",
    "* 'JobInvolvement'\n",
    "* 'JobLevel'\n",
    "* 'JobRole'\n",
    "* 'JobSatisfaction'\n",
    "* 'MaritalStatus'\n",
    "* 'NumCompaniesWorked'\n",
    "* 'OverTime'\n",
    "* 'PerformanceRating'\n",
    "* 'RelationshipSatisfaction'\n",
    "* 'StockOptionLevel'\n",
    "* 'TrainingTimesLastYear'\n",
    "* 'WorkLifeBalance'\n",
    "\n"
   ]
  },
  {
   "cell_type": "code",
   "execution_count": 6,
   "metadata": {},
   "outputs": [],
   "source": [
    "kategorik_employee=employee.drop(['Attrition','Age','DailyRate','DistanceFromHome','HourlyRate','MonthlyIncome','MonthlyRate','PercentSalaryHike','TotalWorkingYears','YearsAtCompany','YearsInCurrentRole','YearsSinceLastPromotion','YearsWithCurrManager'],axis=1)"
   ]
  },
  {
   "cell_type": "markdown",
   "metadata": {},
   "source": [
    "\n",
    "Sürekli veriler:\n",
    "* 'Age'\n",
    "* 'DailyRate'\n",
    "* 'DistanceFromHome'\n",
    "* 'HourlyRate'\n",
    "* 'MonthlyIncome'\n",
    "* 'MonthlyRate'\n",
    "* 'TotalWorkingYears'\n",
    "* 'YearsAtCompany'\n",
    "* YearsInCurrentRole\n",
    "* 'YearsSinceLastPromotion'\n",
    "* 'YearsWithCurrManager'\n",
    "* 'PercentSalaryHike'"
   ]
  },
  {
   "cell_type": "code",
   "execution_count": 7,
   "metadata": {},
   "outputs": [],
   "source": [
    "surekli_employee=employee.drop(['Attrition','BusinessTravel','Department','Education','EducationField','EnvironmentSatisfaction','Gender','JobInvolvement','JobLevel','JobRole','JobSatisfaction','MaritalStatus','NumCompaniesWorked','OverTime','PerformanceRating','RelationshipSatisfaction','StockOptionLevel','TrainingTimesLastYear','WorkLifeBalance'],axis=1)"
   ]
  },
  {
   "cell_type": "markdown",
   "metadata": {},
   "source": [
    "## 2.2 Eksik Veri Araştırması"
   ]
  },
  {
   "cell_type": "markdown",
   "metadata": {},
   "source": [
    "Info ve null değerlerimize incelediğimizde Sürekli ve Kategorik veri tiplerinin ikisinde de eksik veri olmadığını görüyoruz."
   ]
  },
  {
   "cell_type": "code",
   "execution_count": 8,
   "metadata": {},
   "outputs": [
    {
     "name": "stdout",
     "output_type": "stream",
     "text": [
      "<class 'pandas.core.frame.DataFrame'>\n",
      "RangeIndex: 1470 entries, 0 to 1469\n",
      "Data columns (total 31 columns):\n",
      "Age                         1470 non-null int64\n",
      "Attrition                   1470 non-null object\n",
      "BusinessTravel              1470 non-null object\n",
      "DailyRate                   1470 non-null int64\n",
      "Department                  1470 non-null object\n",
      "DistanceFromHome            1470 non-null int64\n",
      "Education                   1470 non-null int64\n",
      "EducationField              1470 non-null object\n",
      "EnvironmentSatisfaction     1470 non-null int64\n",
      "Gender                      1470 non-null object\n",
      "HourlyRate                  1470 non-null int64\n",
      "JobInvolvement              1470 non-null int64\n",
      "JobLevel                    1470 non-null int64\n",
      "JobRole                     1470 non-null object\n",
      "JobSatisfaction             1470 non-null int64\n",
      "MaritalStatus               1470 non-null object\n",
      "MonthlyIncome               1470 non-null int64\n",
      "MonthlyRate                 1470 non-null int64\n",
      "NumCompaniesWorked          1470 non-null int64\n",
      "OverTime                    1470 non-null object\n",
      "PercentSalaryHike           1470 non-null int64\n",
      "PerformanceRating           1470 non-null int64\n",
      "RelationshipSatisfaction    1470 non-null int64\n",
      "StockOptionLevel            1470 non-null int64\n",
      "TotalWorkingYears           1470 non-null int64\n",
      "TrainingTimesLastYear       1470 non-null int64\n",
      "WorkLifeBalance             1470 non-null int64\n",
      "YearsAtCompany              1470 non-null int64\n",
      "YearsInCurrentRole          1470 non-null int64\n",
      "YearsSinceLastPromotion     1470 non-null int64\n",
      "YearsWithCurrManager        1470 non-null int64\n",
      "dtypes: int64(23), object(8)\n",
      "memory usage: 356.1+ KB\n"
     ]
    }
   ],
   "source": [
    "employee.info()"
   ]
  },
  {
   "cell_type": "code",
   "execution_count": 9,
   "metadata": {},
   "outputs": [
    {
     "data": {
      "text/plain": [
       "Age                         0.0\n",
       "Attrition                   0.0\n",
       "BusinessTravel              0.0\n",
       "DailyRate                   0.0\n",
       "Department                  0.0\n",
       "DistanceFromHome            0.0\n",
       "Education                   0.0\n",
       "EducationField              0.0\n",
       "EnvironmentSatisfaction     0.0\n",
       "Gender                      0.0\n",
       "HourlyRate                  0.0\n",
       "JobInvolvement              0.0\n",
       "JobLevel                    0.0\n",
       "JobRole                     0.0\n",
       "JobSatisfaction             0.0\n",
       "MaritalStatus               0.0\n",
       "MonthlyIncome               0.0\n",
       "MonthlyRate                 0.0\n",
       "NumCompaniesWorked          0.0\n",
       "OverTime                    0.0\n",
       "PercentSalaryHike           0.0\n",
       "PerformanceRating           0.0\n",
       "RelationshipSatisfaction    0.0\n",
       "StockOptionLevel            0.0\n",
       "TotalWorkingYears           0.0\n",
       "TrainingTimesLastYear       0.0\n",
       "WorkLifeBalance             0.0\n",
       "YearsAtCompany              0.0\n",
       "YearsInCurrentRole          0.0\n",
       "YearsSinceLastPromotion     0.0\n",
       "YearsWithCurrManager        0.0\n",
       "dtype: float64"
      ]
     },
     "execution_count": 9,
     "metadata": {},
     "output_type": "execute_result"
    }
   ],
   "source": [
    "employee.isnull().sum()*100/employee.shape[0]"
   ]
  },
  {
   "cell_type": "markdown",
   "metadata": {},
   "source": [
    "## 2.3 Aşırı Veri Değerlendirmesi"
   ]
  },
  {
   "cell_type": "code",
   "execution_count": 10,
   "metadata": {},
   "outputs": [],
   "source": [
    "def datauret(attribute,employee):\n",
    "    y0 = employee[attribute]\n",
    "    trace0 = go.Box(\n",
    "        y=y0,\n",
    "        name = attribute,\n",
    "        )\n",
    "    return trace0"
   ]
  },
  {
   "cell_type": "code",
   "execution_count": 11,
   "metadata": {},
   "outputs": [],
   "source": [
    "data_surekli=list()\n",
    "rate=surekli_employee\n",
    "for i in range(len(rate.columns)):\n",
    "    data_surekli.append(datauret(rate.columns[i],employee))\n",
    "    #data_surekli2.append(datauret2(rate.columns[i],employee))"
   ]
  },
  {
   "cell_type": "code",
   "execution_count": 12,
   "metadata": {},
   "outputs": [],
   "source": [
    "def visibleTF(number):\n",
    "    liste=list()\n",
    "    for i in range(len(data_surekli)):\n",
    "        liste.append(False)\n",
    "    liste[number]=True\n",
    "    return liste"
   ]
  },
  {
   "cell_type": "code",
   "execution_count": 13,
   "metadata": {},
   "outputs": [],
   "source": [
    "def button(attribute,number):\n",
    "    return dict(label = attribute,method = 'update',args = [{'visible': visibleTF(number)},{'title': 'Attrition ilişkisi'}])"
   ]
  },
  {
   "cell_type": "code",
   "execution_count": 14,
   "metadata": {},
   "outputs": [],
   "source": [
    "layout = go.Layout(\n",
    "    #barmode='box',\n",
    "    width=800,\n",
    "    height=500,\n",
    "    autosize=False,\n",
    "    #margin=dict(t=0, b=0, l=0, r=0),\n",
    "    title='Attrition-Sürekli Özellik Box Grafiği',\n",
    "    xaxis=go.layout.XAxis(\n",
    "        title=go.layout.xaxis.Title(\n",
    "            #text='x Axis',\n",
    "            font=dict(\n",
    "                family='Courier New, monospace',\n",
    "                size=18,\n",
    "                color='#7f7f7f'\n",
    "            )\n",
    "        )\n",
    "    ),\n",
    "    yaxis=go.layout.YAxis(\n",
    "        title=go.layout.yaxis.Title(\n",
    "            #text='y Axis',\n",
    "            font=dict(\n",
    "                family='Courier New, monospace',\n",
    "                size=18,\n",
    "                color='#7f7f7f'\n",
    "            )\n",
    "        )\n",
    "    )\n",
    ")\n",
    "rate=surekli_employee\n",
    "updatemenus = list([dict(active=-1,buttons=[button(rate.columns[i],i) for i in range(len(rate.columns))])])"
   ]
  },
  {
   "cell_type": "code",
   "execution_count": 15,
   "metadata": {},
   "outputs": [
    {
     "data": {
      "text/html": [
       "<iframe id=\"igraph\" scrolling=\"no\" style=\"border:none;\" seamless=\"seamless\" src=\"https://plot.ly/~mehtapc/260.embed\" height=\"500px\" width=\"800px\"></iframe>"
      ],
      "text/plain": [
       "<chart_studio.tools.PlotlyDisplay object>"
      ]
     },
     "execution_count": 15,
     "metadata": {},
     "output_type": "execute_result"
    }
   ],
   "source": [
    "layout['updatemenus']=updatemenus\n",
    "fig = dict(data=data_surekli, layout=layout)\n",
    "py.iplot(fig, filename='a')"
   ]
  },
  {
   "cell_type": "markdown",
   "metadata": {},
   "source": [
    "Aykırı değerleri düzenlemek için log ve winsorize işlemlerini uyguladım."
   ]
  },
  {
   "cell_type": "code",
   "execution_count": 16,
   "metadata": {},
   "outputs": [],
   "source": [
    "def datauret(attribute,employee):\n",
    "    \n",
    "    y0 = employee[attribute]\n",
    "    y1 = np.log(employee[attribute])\n",
    "    y2 = winsorize(employee[attribute], (0, 0.05))\n",
    "    log=attribute+'_log'\n",
    "    wins=attribute+'_wins'\n",
    "    employee[log]=np.log(employee[attribute])\n",
    "    employee[wins]=winsorize(employee[attribute], (0, 0.05))\n",
    "    \n",
    "    trace = go.Box(\n",
    "        y=y0,\n",
    "        name = attribute,\n",
    "        marker = dict(\n",
    "            color = 'rgb(214, 12, 140)',\n",
    "        )\n",
    "    )\n",
    "    trace1 = go.Box(\n",
    "        y=y1,\n",
    "        name = attribute+'_log',\n",
    "        marker = dict(\n",
    "            color = 'rgb(0, 128, 128)',\n",
    "        )\n",
    "    )\n",
    "    trace2 = go.Box(\n",
    "        y=y2,\n",
    "        name = attribute+'_winsorize',\n",
    "        boxpoints = False,\n",
    "        marker = dict(\n",
    "            color = 'rgb(214, 12, 0)',\n",
    "        )\n",
    "    )\n",
    "\n",
    "    data = [trace, trace1, trace2]\n",
    "    return data"
   ]
  },
  {
   "cell_type": "code",
   "execution_count": 17,
   "metadata": {},
   "outputs": [],
   "source": [
    "data_surekli=list()\n",
    "rate=surekli_employee[['MonthlyIncome','TotalWorkingYears','YearsAtCompany','YearsInCurrentRole','YearsSinceLastPromotion','YearsWithCurrManager']]\n",
    "for i in range(len(rate.columns)):\n",
    "    for j in range(3):\n",
    "        data_surekli.append(datauret(rate.columns[i],employee)[j])\n",
    "        "
   ]
  },
  {
   "cell_type": "code",
   "execution_count": 18,
   "metadata": {},
   "outputs": [
    {
     "name": "stdout",
     "output_type": "stream",
     "text": [
      "This is the format of your plot grid:\n",
      "[ (1,1) x1,y1 ]    [ (1,2) x2,y2 ]    [ (1,3) x3,y3 ]  \n",
      "[ (2,1) x4,y4 ]    [ (2,2) x5,y5 ]    [ (2,3) x6,y6 ]  \n",
      "[ (3,1) x7,y7 ]    [ (3,2) x8,y8 ]    [ (3,3) x9,y9 ]  \n",
      "[ (4,1) x10,y10 ]  [ (4,2) x11,y11 ]  [ (4,3) x12,y12 ]\n",
      "[ (5,1) x13,y13 ]  [ (5,2) x14,y14 ]  [ (5,3) x15,y15 ]\n",
      "[ (6,1) x16,y16 ]  [ (6,2) x17,y17 ]  [ (6,3) x18,y18 ]\n",
      "\n"
     ]
    },
    {
     "data": {
      "text/html": [
       "<iframe id=\"igraph\" scrolling=\"no\" style=\"border:none;\" seamless=\"seamless\" src=\"https://plot.ly/~mehtapc/262.embed\" height=\"800px\" width=\"1000px\"></iframe>"
      ],
      "text/plain": [
       "<chart_studio.tools.PlotlyDisplay object>"
      ]
     },
     "execution_count": 18,
     "metadata": {},
     "output_type": "execute_result"
    }
   ],
   "source": [
    "fig = tools.make_subplots(rows=6, cols=3)\n",
    "\n",
    "for i in range(6*3):\n",
    "    if(i<3):\n",
    "        fig.append_trace(data_surekli[i], 1, i+1)\n",
    "    elif(i<6):\n",
    "        fig.append_trace(data_surekli[i], 2, i-2)\n",
    "    elif(i<9):\n",
    "        fig.append_trace(data_surekli[i], 3, i-5)\n",
    "    elif(i<12):\n",
    "        fig.append_trace(data_surekli[i], 4, i-8)\n",
    "    elif(i<15):\n",
    "        fig.append_trace(data_surekli[i], 5, i-11)\n",
    "    else:\n",
    "        fig.append_trace(data_surekli[i], 6, i-14)\n",
    "    \n",
    "fig['layout'].update(height=800, width=1000, title='Aşırı değerler için log-winsorize grafikleri')\n",
    "py.iplot(fig, filename='simple-subplot-with-annotations')"
   ]
  },
  {
   "cell_type": "markdown",
   "metadata": {},
   "source": [
    "Logaritma uygulanan bazı değerlerde -inf olduğu için onları median ve meanden uygun olana eşitleyerek, eksik verilerini doldurdum\n",
    "    "
   ]
  },
  {
   "cell_type": "code",
   "execution_count": 19,
   "metadata": {},
   "outputs": [],
   "source": [
    "median_TotalWorkingYears=employee[employee[\"TotalWorkingYears_log\"]!=-math.inf][\"TotalWorkingYears_log\"].median()\n",
    "TotalWorkingYears_inf=employee[employee[\"TotalWorkingYears_log\"]==-math.inf][\"TotalWorkingYears_log\"]\n",
    "for i in range(len(TotalWorkingYears_inf.index)):\n",
    "    employee.loc[TotalWorkingYears_inf.index[i],\"TotalWorkingYears_log\"]=median_TotalWorkingYears"
   ]
  },
  {
   "cell_type": "code",
   "execution_count": 20,
   "metadata": {},
   "outputs": [],
   "source": [
    "median_YearsAtCompany=employee[employee[\"YearsAtCompany_log\"]!=-math.inf][\"YearsAtCompany_log\"].median()\n",
    "YearsAtCompany_inf=employee[employee[\"YearsAtCompany_log\"]==-math.inf][\"YearsAtCompany_log\"]\n",
    "for i in range(len(YearsAtCompany_inf.index)):\n",
    "    employee.loc[YearsAtCompany_inf.index[i],\"YearsAtCompany_log\"]=median_YearsAtCompany"
   ]
  },
  {
   "cell_type": "code",
   "execution_count": 21,
   "metadata": {},
   "outputs": [],
   "source": [
    "median_YearsInCurrentRole=employee[employee[\"YearsInCurrentRole_log\"]!=-math.inf][\"YearsInCurrentRole_log\"].median()\n",
    "YearsInCurrentRole_inf=employee[employee[\"YearsInCurrentRole_log\"]==-math.inf][\"YearsInCurrentRole_log\"]\n",
    "for i in range(len(YearsInCurrentRole_inf.index)):\n",
    "    employee.loc[YearsInCurrentRole_inf.index[i],\"YearsInCurrentRole_log\"]=median_YearsInCurrentRole"
   ]
  },
  {
   "cell_type": "code",
   "execution_count": 22,
   "metadata": {},
   "outputs": [],
   "source": [
    "median_YearsSinceLastPromotion=employee[employee[\"YearsSinceLastPromotion_log\"]!=-math.inf][\"YearsSinceLastPromotion_log\"].median()\n",
    "YearsSinceLastPromotion_inf=employee[employee[\"YearsSinceLastPromotion_log\"]==-math.inf][\"YearsSinceLastPromotion_log\"]\n",
    "for i in range(len(YearsSinceLastPromotion_inf.index)):\n",
    "    employee.loc[YearsSinceLastPromotion_inf.index[i],\"YearsSinceLastPromotion_log\"]=median_YearsSinceLastPromotion"
   ]
  },
  {
   "cell_type": "code",
   "execution_count": 23,
   "metadata": {},
   "outputs": [],
   "source": [
    "median_YearsWithCurrManager=employee[employee[\"YearsWithCurrManager_log\"]!=-math.inf][\"YearsWithCurrManager_log\"].median()\n",
    "YearsWithCurrManager_inf=employee[employee[\"YearsWithCurrManager_log\"]==-math.inf][\"YearsWithCurrManager_log\"]\n",
    "for i in range(len(YearsWithCurrManager_inf.index)):\n",
    "    employee.loc[YearsWithCurrManager_inf.index[i],\"YearsWithCurrManager_log\"]=median_YearsWithCurrManager"
   ]
  },
  {
   "cell_type": "code",
   "execution_count": 24,
   "metadata": {},
   "outputs": [],
   "source": [
    "surekli_employee=employee.drop(['Attrition','BusinessTravel','Department','Education','EducationField','EnvironmentSatisfaction','Gender','JobInvolvement','JobLevel','JobRole','JobSatisfaction','MaritalStatus','NumCompaniesWorked','OverTime','PerformanceRating','RelationshipSatisfaction','StockOptionLevel','TrainingTimesLastYear','WorkLifeBalance'],axis=1)"
   ]
  },
  {
   "cell_type": "code",
   "execution_count": 25,
   "metadata": {},
   "outputs": [],
   "source": [
    "surekli_employee=surekli_employee.drop(['MonthlyIncome_wins','MonthlyIncome','TotalWorkingYears_wins','TotalWorkingYears','YearsAtCompany_wins','YearsAtCompany','YearsInCurrentRole','YearsInCurrentRole_wins','YearsSinceLastPromotion','YearsSinceLastPromotion_wins','YearsWithCurrManager','YearsWithCurrManager_wins'],axis=1)"
   ]
  },
  {
   "cell_type": "markdown",
   "metadata": {},
   "source": [
    "Aşırı değerleri düzenledikten sonra sürekli özelliklerimizin listesi aşağıdaki şekildedir.;"
   ]
  },
  {
   "cell_type": "code",
   "execution_count": 26,
   "metadata": {},
   "outputs": [
    {
     "name": "stdout",
     "output_type": "stream",
     "text": [
      "<class 'pandas.core.frame.DataFrame'>\n",
      "RangeIndex: 1470 entries, 0 to 1469\n",
      "Data columns (total 12 columns):\n",
      "Age                            1470 non-null int64\n",
      "DailyRate                      1470 non-null int64\n",
      "DistanceFromHome               1470 non-null int64\n",
      "HourlyRate                     1470 non-null int64\n",
      "MonthlyRate                    1470 non-null int64\n",
      "PercentSalaryHike              1470 non-null int64\n",
      "MonthlyIncome_log              1470 non-null float64\n",
      "TotalWorkingYears_log          1470 non-null float64\n",
      "YearsAtCompany_log             1470 non-null float64\n",
      "YearsInCurrentRole_log         1470 non-null float64\n",
      "YearsSinceLastPromotion_log    1470 non-null float64\n",
      "YearsWithCurrManager_log       1470 non-null float64\n",
      "dtypes: float64(6), int64(6)\n",
      "memory usage: 137.9 KB\n"
     ]
    }
   ],
   "source": [
    "surekli_employee.info()"
   ]
  },
  {
   "cell_type": "code",
   "execution_count": 27,
   "metadata": {},
   "outputs": [
    {
     "data": {
      "text/html": [
       "<div>\n",
       "<style scoped>\n",
       "    .dataframe tbody tr th:only-of-type {\n",
       "        vertical-align: middle;\n",
       "    }\n",
       "\n",
       "    .dataframe tbody tr th {\n",
       "        vertical-align: top;\n",
       "    }\n",
       "\n",
       "    .dataframe thead th {\n",
       "        text-align: right;\n",
       "    }\n",
       "</style>\n",
       "<table border=\"1\" class=\"dataframe\">\n",
       "  <thead>\n",
       "    <tr style=\"text-align: right;\">\n",
       "      <th></th>\n",
       "      <th>Age</th>\n",
       "      <th>DailyRate</th>\n",
       "      <th>DistanceFromHome</th>\n",
       "      <th>HourlyRate</th>\n",
       "      <th>MonthlyRate</th>\n",
       "      <th>PercentSalaryHike</th>\n",
       "      <th>MonthlyIncome_log</th>\n",
       "      <th>TotalWorkingYears_log</th>\n",
       "      <th>YearsAtCompany_log</th>\n",
       "      <th>YearsInCurrentRole_log</th>\n",
       "      <th>YearsSinceLastPromotion_log</th>\n",
       "      <th>YearsWithCurrManager_log</th>\n",
       "    </tr>\n",
       "  </thead>\n",
       "  <tbody>\n",
       "    <tr>\n",
       "      <th>Age</th>\n",
       "      <td>1.000000</td>\n",
       "      <td>0.010661</td>\n",
       "      <td>-0.001686</td>\n",
       "      <td>0.024287</td>\n",
       "      <td>0.028051</td>\n",
       "      <td>0.003634</td>\n",
       "      <td>0.494310</td>\n",
       "      <td>0.611616</td>\n",
       "      <td>0.231438</td>\n",
       "      <td>0.179766</td>\n",
       "      <td>0.179211</td>\n",
       "      <td>0.176081</td>\n",
       "    </tr>\n",
       "    <tr>\n",
       "      <th>DailyRate</th>\n",
       "      <td>0.010661</td>\n",
       "      <td>1.000000</td>\n",
       "      <td>-0.004985</td>\n",
       "      <td>0.023381</td>\n",
       "      <td>-0.032182</td>\n",
       "      <td>0.022704</td>\n",
       "      <td>0.012503</td>\n",
       "      <td>0.013387</td>\n",
       "      <td>-0.012674</td>\n",
       "      <td>-0.009439</td>\n",
       "      <td>-0.018053</td>\n",
       "      <td>-0.039872</td>\n",
       "    </tr>\n",
       "    <tr>\n",
       "      <th>DistanceFromHome</th>\n",
       "      <td>-0.001686</td>\n",
       "      <td>-0.004985</td>\n",
       "      <td>1.000000</td>\n",
       "      <td>0.031131</td>\n",
       "      <td>0.027473</td>\n",
       "      <td>0.040235</td>\n",
       "      <td>0.005683</td>\n",
       "      <td>0.016699</td>\n",
       "      <td>0.011001</td>\n",
       "      <td>0.014248</td>\n",
       "      <td>-0.000379</td>\n",
       "      <td>0.006461</td>\n",
       "    </tr>\n",
       "    <tr>\n",
       "      <th>HourlyRate</th>\n",
       "      <td>0.024287</td>\n",
       "      <td>0.023381</td>\n",
       "      <td>0.031131</td>\n",
       "      <td>1.000000</td>\n",
       "      <td>-0.015297</td>\n",
       "      <td>-0.009062</td>\n",
       "      <td>-0.017349</td>\n",
       "      <td>-0.009133</td>\n",
       "      <td>-0.021240</td>\n",
       "      <td>-0.033121</td>\n",
       "      <td>-0.020716</td>\n",
       "      <td>0.012356</td>\n",
       "    </tr>\n",
       "    <tr>\n",
       "      <th>MonthlyRate</th>\n",
       "      <td>0.028051</td>\n",
       "      <td>-0.032182</td>\n",
       "      <td>0.027473</td>\n",
       "      <td>-0.015297</td>\n",
       "      <td>1.000000</td>\n",
       "      <td>-0.006429</td>\n",
       "      <td>0.044495</td>\n",
       "      <td>0.005070</td>\n",
       "      <td>-0.035002</td>\n",
       "      <td>-0.010808</td>\n",
       "      <td>0.002496</td>\n",
       "      <td>-0.037586</td>\n",
       "    </tr>\n",
       "    <tr>\n",
       "      <th>PercentSalaryHike</th>\n",
       "      <td>0.003634</td>\n",
       "      <td>0.022704</td>\n",
       "      <td>0.040235</td>\n",
       "      <td>-0.009062</td>\n",
       "      <td>-0.006429</td>\n",
       "      <td>1.000000</td>\n",
       "      <td>-0.027516</td>\n",
       "      <td>-0.029886</td>\n",
       "      <td>-0.041508</td>\n",
       "      <td>0.011301</td>\n",
       "      <td>0.001506</td>\n",
       "      <td>0.034756</td>\n",
       "    </tr>\n",
       "    <tr>\n",
       "      <th>MonthlyIncome_log</th>\n",
       "      <td>0.494310</td>\n",
       "      <td>0.012503</td>\n",
       "      <td>0.005683</td>\n",
       "      <td>-0.017349</td>\n",
       "      <td>0.044495</td>\n",
       "      <td>-0.027516</td>\n",
       "      <td>1.000000</td>\n",
       "      <td>0.696870</td>\n",
       "      <td>0.450581</td>\n",
       "      <td>0.342093</td>\n",
       "      <td>0.281570</td>\n",
       "      <td>0.294585</td>\n",
       "    </tr>\n",
       "    <tr>\n",
       "      <th>TotalWorkingYears_log</th>\n",
       "      <td>0.611616</td>\n",
       "      <td>0.013387</td>\n",
       "      <td>0.016699</td>\n",
       "      <td>-0.009133</td>\n",
       "      <td>0.005070</td>\n",
       "      <td>-0.029886</td>\n",
       "      <td>0.696870</td>\n",
       "      <td>1.000000</td>\n",
       "      <td>0.615157</td>\n",
       "      <td>0.406789</td>\n",
       "      <td>0.305849</td>\n",
       "      <td>0.377817</td>\n",
       "    </tr>\n",
       "    <tr>\n",
       "      <th>YearsAtCompany_log</th>\n",
       "      <td>0.231438</td>\n",
       "      <td>-0.012674</td>\n",
       "      <td>0.011001</td>\n",
       "      <td>-0.021240</td>\n",
       "      <td>-0.035002</td>\n",
       "      <td>-0.041508</td>\n",
       "      <td>0.450581</td>\n",
       "      <td>0.615157</td>\n",
       "      <td>1.000000</td>\n",
       "      <td>0.612921</td>\n",
       "      <td>0.425238</td>\n",
       "      <td>0.581681</td>\n",
       "    </tr>\n",
       "    <tr>\n",
       "      <th>YearsInCurrentRole_log</th>\n",
       "      <td>0.179766</td>\n",
       "      <td>-0.009439</td>\n",
       "      <td>0.014248</td>\n",
       "      <td>-0.033121</td>\n",
       "      <td>-0.010808</td>\n",
       "      <td>0.011301</td>\n",
       "      <td>0.342093</td>\n",
       "      <td>0.406789</td>\n",
       "      <td>0.612921</td>\n",
       "      <td>1.000000</td>\n",
       "      <td>0.437535</td>\n",
       "      <td>0.625934</td>\n",
       "    </tr>\n",
       "    <tr>\n",
       "      <th>YearsSinceLastPromotion_log</th>\n",
       "      <td>0.179211</td>\n",
       "      <td>-0.018053</td>\n",
       "      <td>-0.000379</td>\n",
       "      <td>-0.020716</td>\n",
       "      <td>0.002496</td>\n",
       "      <td>0.001506</td>\n",
       "      <td>0.281570</td>\n",
       "      <td>0.305849</td>\n",
       "      <td>0.425238</td>\n",
       "      <td>0.437535</td>\n",
       "      <td>1.000000</td>\n",
       "      <td>0.419968</td>\n",
       "    </tr>\n",
       "    <tr>\n",
       "      <th>YearsWithCurrManager_log</th>\n",
       "      <td>0.176081</td>\n",
       "      <td>-0.039872</td>\n",
       "      <td>0.006461</td>\n",
       "      <td>0.012356</td>\n",
       "      <td>-0.037586</td>\n",
       "      <td>0.034756</td>\n",
       "      <td>0.294585</td>\n",
       "      <td>0.377817</td>\n",
       "      <td>0.581681</td>\n",
       "      <td>0.625934</td>\n",
       "      <td>0.419968</td>\n",
       "      <td>1.000000</td>\n",
       "    </tr>\n",
       "  </tbody>\n",
       "</table>\n",
       "</div>"
      ],
      "text/plain": [
       "                                  Age  DailyRate  DistanceFromHome  \\\n",
       "Age                          1.000000   0.010661         -0.001686   \n",
       "DailyRate                    0.010661   1.000000         -0.004985   \n",
       "DistanceFromHome            -0.001686  -0.004985          1.000000   \n",
       "HourlyRate                   0.024287   0.023381          0.031131   \n",
       "MonthlyRate                  0.028051  -0.032182          0.027473   \n",
       "PercentSalaryHike            0.003634   0.022704          0.040235   \n",
       "MonthlyIncome_log            0.494310   0.012503          0.005683   \n",
       "TotalWorkingYears_log        0.611616   0.013387          0.016699   \n",
       "YearsAtCompany_log           0.231438  -0.012674          0.011001   \n",
       "YearsInCurrentRole_log       0.179766  -0.009439          0.014248   \n",
       "YearsSinceLastPromotion_log  0.179211  -0.018053         -0.000379   \n",
       "YearsWithCurrManager_log     0.176081  -0.039872          0.006461   \n",
       "\n",
       "                             HourlyRate  MonthlyRate  PercentSalaryHike  \\\n",
       "Age                            0.024287     0.028051           0.003634   \n",
       "DailyRate                      0.023381    -0.032182           0.022704   \n",
       "DistanceFromHome               0.031131     0.027473           0.040235   \n",
       "HourlyRate                     1.000000    -0.015297          -0.009062   \n",
       "MonthlyRate                   -0.015297     1.000000          -0.006429   \n",
       "PercentSalaryHike             -0.009062    -0.006429           1.000000   \n",
       "MonthlyIncome_log             -0.017349     0.044495          -0.027516   \n",
       "TotalWorkingYears_log         -0.009133     0.005070          -0.029886   \n",
       "YearsAtCompany_log            -0.021240    -0.035002          -0.041508   \n",
       "YearsInCurrentRole_log        -0.033121    -0.010808           0.011301   \n",
       "YearsSinceLastPromotion_log   -0.020716     0.002496           0.001506   \n",
       "YearsWithCurrManager_log       0.012356    -0.037586           0.034756   \n",
       "\n",
       "                             MonthlyIncome_log  TotalWorkingYears_log  \\\n",
       "Age                                   0.494310               0.611616   \n",
       "DailyRate                             0.012503               0.013387   \n",
       "DistanceFromHome                      0.005683               0.016699   \n",
       "HourlyRate                           -0.017349              -0.009133   \n",
       "MonthlyRate                           0.044495               0.005070   \n",
       "PercentSalaryHike                    -0.027516              -0.029886   \n",
       "MonthlyIncome_log                     1.000000               0.696870   \n",
       "TotalWorkingYears_log                 0.696870               1.000000   \n",
       "YearsAtCompany_log                    0.450581               0.615157   \n",
       "YearsInCurrentRole_log                0.342093               0.406789   \n",
       "YearsSinceLastPromotion_log           0.281570               0.305849   \n",
       "YearsWithCurrManager_log              0.294585               0.377817   \n",
       "\n",
       "                             YearsAtCompany_log  YearsInCurrentRole_log  \\\n",
       "Age                                    0.231438                0.179766   \n",
       "DailyRate                             -0.012674               -0.009439   \n",
       "DistanceFromHome                       0.011001                0.014248   \n",
       "HourlyRate                            -0.021240               -0.033121   \n",
       "MonthlyRate                           -0.035002               -0.010808   \n",
       "PercentSalaryHike                     -0.041508                0.011301   \n",
       "MonthlyIncome_log                      0.450581                0.342093   \n",
       "TotalWorkingYears_log                  0.615157                0.406789   \n",
       "YearsAtCompany_log                     1.000000                0.612921   \n",
       "YearsInCurrentRole_log                 0.612921                1.000000   \n",
       "YearsSinceLastPromotion_log            0.425238                0.437535   \n",
       "YearsWithCurrManager_log               0.581681                0.625934   \n",
       "\n",
       "                             YearsSinceLastPromotion_log  \\\n",
       "Age                                             0.179211   \n",
       "DailyRate                                      -0.018053   \n",
       "DistanceFromHome                               -0.000379   \n",
       "HourlyRate                                     -0.020716   \n",
       "MonthlyRate                                     0.002496   \n",
       "PercentSalaryHike                               0.001506   \n",
       "MonthlyIncome_log                               0.281570   \n",
       "TotalWorkingYears_log                           0.305849   \n",
       "YearsAtCompany_log                              0.425238   \n",
       "YearsInCurrentRole_log                          0.437535   \n",
       "YearsSinceLastPromotion_log                     1.000000   \n",
       "YearsWithCurrManager_log                        0.419968   \n",
       "\n",
       "                             YearsWithCurrManager_log  \n",
       "Age                                          0.176081  \n",
       "DailyRate                                   -0.039872  \n",
       "DistanceFromHome                             0.006461  \n",
       "HourlyRate                                   0.012356  \n",
       "MonthlyRate                                 -0.037586  \n",
       "PercentSalaryHike                            0.034756  \n",
       "MonthlyIncome_log                            0.294585  \n",
       "TotalWorkingYears_log                        0.377817  \n",
       "YearsAtCompany_log                           0.581681  \n",
       "YearsInCurrentRole_log                       0.625934  \n",
       "YearsSinceLastPromotion_log                  0.419968  \n",
       "YearsWithCurrManager_log                     1.000000  "
      ]
     },
     "execution_count": 27,
     "metadata": {},
     "output_type": "execute_result"
    }
   ],
   "source": [
    "surekli_employee.corr()"
   ]
  },
  {
   "cell_type": "markdown",
   "metadata": {},
   "source": [
    "Correlation Matrix te de goruldugu üzere 2li ilişkilere bakarsak\n",
    "* TotalWorkingYears_log   ---   Age                    ---0.61\n",
    "* TotalWorkingYears_log   ---   MonthlyIncome_log      ---0.70\n",
    "* TotalWorkingYears_log   ---   YearsAtCompany_log     ---0.61\n",
    "* YearsInCurrentRole_log  ---   YearsAtCompany_log     ---0.61\n",
    "* YearsWithCurrManager_log---   YearsInCurrentRole_log ---0.62\n"
   ]
  },
  {
   "cell_type": "markdown",
   "metadata": {},
   "source": [
    "# 3 Keşifsel Veri Analizi-Özellik Mühendisliği"
   ]
  },
  {
   "cell_type": "markdown",
   "metadata": {},
   "source": [
    "## 3.1 Sürekli değişkenler-Attrition İlişkisi"
   ]
  },
  {
   "cell_type": "markdown",
   "metadata": {},
   "source": [
    "Sürekli değişkenler için Attrition ilişkilerine baktım ve Ttestle anlamlı farkındalık olup olmadığını kontrol ettim"
   ]
  },
  {
   "cell_type": "code",
   "execution_count": 28,
   "metadata": {},
   "outputs": [],
   "source": [
    "def datauret(a,surekli_employee):\n",
    "    x = [\"Yes\", \"No\"]\n",
    "    y = [surekli_employee[employee['Attrition']=='Yes'][a].mean(),surekli_employee[employee['Attrition']=='No'][a].mean()]\n",
    "    \n",
    "    trace = go.Bar(\n",
    "        name=a,\n",
    "        x=x,\n",
    "        y=y,\n",
    "    )\n",
    "    \n",
    "    return trace"
   ]
  },
  {
   "cell_type": "code",
   "execution_count": 29,
   "metadata": {},
   "outputs": [],
   "source": [
    "data_surekli=list()\n",
    "rate=surekli_employee\n",
    "for i in range(len(rate.columns)):\n",
    "    data_surekli.append(datauret(rate.columns[i],surekli_employee))\n"
   ]
  },
  {
   "cell_type": "code",
   "execution_count": 30,
   "metadata": {},
   "outputs": [],
   "source": [
    "def visibleTF_s(number):\n",
    "    liste=list()\n",
    "    for i in range(len(data_surekli)):\n",
    "        liste.append(False)\n",
    "    liste[number]=True\n",
    "    return liste"
   ]
  },
  {
   "cell_type": "code",
   "execution_count": 31,
   "metadata": {},
   "outputs": [],
   "source": [
    "def button(attribute,number):\n",
    "    return dict(label = attribute,method = 'update',args = [{'visible': visibleTF_s(number)},{'title': 'Sürekli-Attribute ilişkisi'}])"
   ]
  },
  {
   "cell_type": "code",
   "execution_count": 32,
   "metadata": {},
   "outputs": [],
   "source": [
    "layout = go.Layout(\n",
    "    barmode='stack',\n",
    "    width=700,\n",
    "    height=500,\n",
    "    autosize=False,\n",
    "    title='Sürekli-Attribute ilişkisi',\n",
    "        \n",
    "    xaxis=go.layout.XAxis(\n",
    "        title=go.layout.xaxis.Title(\n",
    "            #text='x Axis',\n",
    "            font=dict(\n",
    "                family='Courier New, monospace',\n",
    "                size=18,\n",
    "                color='#7f7f6f'\n",
    "            )\n",
    "        )\n",
    "    ),\n",
    "    yaxis=go.layout.YAxis(\n",
    "        title=go.layout.yaxis.Title(\n",
    "            #text='y Axis',\n",
    "            font=dict(\n",
    "                family='Courier New, monospace',\n",
    "                size=18,\n",
    "                color='#7f7f7f'\n",
    "            )\n",
    "        )\n",
    "    )\n",
    ")\n",
    "rate=surekli_employee\n",
    "updatemenus = list([dict(active=-1,buttons=[button(rate.columns[i],i) for i in range(len(rate.columns))])])"
   ]
  },
  {
   "cell_type": "code",
   "execution_count": 33,
   "metadata": {
    "scrolled": true
   },
   "outputs": [
    {
     "data": {
      "text/html": [
       "<iframe id=\"igraph\" scrolling=\"no\" style=\"border:none;\" seamless=\"seamless\" src=\"https://plot.ly/~mehtapc/264.embed\" height=\"500px\" width=\"700px\"></iframe>"
      ],
      "text/plain": [
       "<chart_studio.tools.PlotlyDisplay object>"
      ]
     },
     "execution_count": 33,
     "metadata": {},
     "output_type": "execute_result"
    }
   ],
   "source": [
    "layout['updatemenus']=updatemenus\n",
    "fig = dict(data=data_surekli, layout=layout)\n",
    "py.iplot(fig, filename='Sürekli-Attribute ilişkisi')"
   ]
  },
  {
   "cell_type": "markdown",
   "metadata": {},
   "source": [
    "T test için "
   ]
  },
  {
   "cell_type": "code",
   "execution_count": 34,
   "metadata": {},
   "outputs": [
    {
     "name": "stdout",
     "output_type": "stream",
     "text": [
      "PercentSalaryHike için karşılaştırma"
     ]
    },
    {
     "data": {
      "text/html": [
       "<div>\n",
       "<style scoped>\n",
       "    .dataframe tbody tr th:only-of-type {\n",
       "        vertical-align: middle;\n",
       "    }\n",
       "\n",
       "    .dataframe tbody tr th {\n",
       "        vertical-align: top;\n",
       "    }\n",
       "\n",
       "    .dataframe thead th {\n",
       "        text-align: right;\n",
       "    }\n",
       "</style>\n",
       "<table border=\"1\" class=\"dataframe\">\n",
       "  <thead>\n",
       "    <tr style=\"text-align: right;\">\n",
       "      <th></th>\n",
       "      <th>grup_1</th>\n",
       "      <th>grup_2</th>\n",
       "      <th>istatistik</th>\n",
       "      <th>p_degeri</th>\n",
       "    </tr>\n",
       "  </thead>\n",
       "  <tbody>\n",
       "    <tr>\n",
       "      <th>0</th>\n",
       "      <td>Yes</td>\n",
       "      <td>No</td>\n",
       "      <td>-0.516457325074764</td>\n",
       "      <td>0.605612823889376</td>\n",
       "    </tr>\n",
       "  </tbody>\n",
       "</table>\n",
       "</div>"
      ],
      "text/plain": [
       "  grup_1 grup_2         istatistik          p_degeri\n",
       "0    Yes     No -0.516457325074764 0.605612823889376"
      ]
     },
     "metadata": {},
     "output_type": "display_data"
    },
    {
     "name": "stdout",
     "output_type": "stream",
     "text": [
      "DistanceFromHome için karşılaştırma"
     ]
    },
    {
     "data": {
      "text/html": [
       "<div>\n",
       "<style scoped>\n",
       "    .dataframe tbody tr th:only-of-type {\n",
       "        vertical-align: middle;\n",
       "    }\n",
       "\n",
       "    .dataframe tbody tr th {\n",
       "        vertical-align: top;\n",
       "    }\n",
       "\n",
       "    .dataframe thead th {\n",
       "        text-align: right;\n",
       "    }\n",
       "</style>\n",
       "<table border=\"1\" class=\"dataframe\">\n",
       "  <thead>\n",
       "    <tr style=\"text-align: right;\">\n",
       "      <th></th>\n",
       "      <th>grup_1</th>\n",
       "      <th>grup_2</th>\n",
       "      <th>istatistik</th>\n",
       "      <th>p_degeri</th>\n",
       "    </tr>\n",
       "  </thead>\n",
       "  <tbody>\n",
       "    <tr>\n",
       "      <th>0</th>\n",
       "      <td>Yes</td>\n",
       "      <td>No</td>\n",
       "      <td>2.994708098265125</td>\n",
       "      <td>0.002793060080213</td>\n",
       "    </tr>\n",
       "  </tbody>\n",
       "</table>\n",
       "</div>"
      ],
      "text/plain": [
       "  grup_1 grup_2        istatistik          p_degeri\n",
       "0    Yes     No 2.994708098265125 0.002793060080213"
      ]
     },
     "metadata": {},
     "output_type": "display_data"
    },
    {
     "name": "stdout",
     "output_type": "stream",
     "text": [
      "YearsInCurrentRole_log için karşılaştırma"
     ]
    },
    {
     "data": {
      "text/html": [
       "<div>\n",
       "<style scoped>\n",
       "    .dataframe tbody tr th:only-of-type {\n",
       "        vertical-align: middle;\n",
       "    }\n",
       "\n",
       "    .dataframe tbody tr th {\n",
       "        vertical-align: top;\n",
       "    }\n",
       "\n",
       "    .dataframe thead th {\n",
       "        text-align: right;\n",
       "    }\n",
       "</style>\n",
       "<table border=\"1\" class=\"dataframe\">\n",
       "  <thead>\n",
       "    <tr style=\"text-align: right;\">\n",
       "      <th></th>\n",
       "      <th>grup_1</th>\n",
       "      <th>grup_2</th>\n",
       "      <th>istatistik</th>\n",
       "      <th>p_degeri</th>\n",
       "    </tr>\n",
       "  </thead>\n",
       "  <tbody>\n",
       "    <tr>\n",
       "      <th>0</th>\n",
       "      <td>Yes</td>\n",
       "      <td>No</td>\n",
       "      <td>-3.563178395003217</td>\n",
       "      <td>0.000378115569559</td>\n",
       "    </tr>\n",
       "  </tbody>\n",
       "</table>\n",
       "</div>"
      ],
      "text/plain": [
       "  grup_1 grup_2         istatistik          p_degeri\n",
       "0    Yes     No -3.563178395003217 0.000378115569559"
      ]
     },
     "metadata": {},
     "output_type": "display_data"
    },
    {
     "name": "stdout",
     "output_type": "stream",
     "text": [
      "YearsSinceLastPromotion_log için karşılaştırma"
     ]
    },
    {
     "data": {
      "text/html": [
       "<div>\n",
       "<style scoped>\n",
       "    .dataframe tbody tr th:only-of-type {\n",
       "        vertical-align: middle;\n",
       "    }\n",
       "\n",
       "    .dataframe tbody tr th {\n",
       "        vertical-align: top;\n",
       "    }\n",
       "\n",
       "    .dataframe thead th {\n",
       "        text-align: right;\n",
       "    }\n",
       "</style>\n",
       "<table border=\"1\" class=\"dataframe\">\n",
       "  <thead>\n",
       "    <tr style=\"text-align: right;\">\n",
       "      <th></th>\n",
       "      <th>grup_1</th>\n",
       "      <th>grup_2</th>\n",
       "      <th>istatistik</th>\n",
       "      <th>p_degeri</th>\n",
       "    </tr>\n",
       "  </thead>\n",
       "  <tbody>\n",
       "    <tr>\n",
       "      <th>0</th>\n",
       "      <td>Yes</td>\n",
       "      <td>No</td>\n",
       "      <td>-0.293133614862030</td>\n",
       "      <td>0.769461454453264</td>\n",
       "    </tr>\n",
       "  </tbody>\n",
       "</table>\n",
       "</div>"
      ],
      "text/plain": [
       "  grup_1 grup_2         istatistik          p_degeri\n",
       "0    Yes     No -0.293133614862030 0.769461454453264"
      ]
     },
     "metadata": {},
     "output_type": "display_data"
    },
    {
     "name": "stdout",
     "output_type": "stream",
     "text": [
      "YearsWithCurrManager_log için karşılaştırma"
     ]
    },
    {
     "data": {
      "text/html": [
       "<div>\n",
       "<style scoped>\n",
       "    .dataframe tbody tr th:only-of-type {\n",
       "        vertical-align: middle;\n",
       "    }\n",
       "\n",
       "    .dataframe tbody tr th {\n",
       "        vertical-align: top;\n",
       "    }\n",
       "\n",
       "    .dataframe thead th {\n",
       "        text-align: right;\n",
       "    }\n",
       "</style>\n",
       "<table border=\"1\" class=\"dataframe\">\n",
       "  <thead>\n",
       "    <tr style=\"text-align: right;\">\n",
       "      <th></th>\n",
       "      <th>grup_1</th>\n",
       "      <th>grup_2</th>\n",
       "      <th>istatistik</th>\n",
       "      <th>p_degeri</th>\n",
       "    </tr>\n",
       "  </thead>\n",
       "  <tbody>\n",
       "    <tr>\n",
       "      <th>0</th>\n",
       "      <td>Yes</td>\n",
       "      <td>No</td>\n",
       "      <td>-1.741552615111132</td>\n",
       "      <td>0.081796225211709</td>\n",
       "    </tr>\n",
       "  </tbody>\n",
       "</table>\n",
       "</div>"
      ],
      "text/plain": [
       "  grup_1 grup_2         istatistik          p_degeri\n",
       "0    Yes     No -1.741552615111132 0.081796225211709"
      ]
     },
     "metadata": {},
     "output_type": "display_data"
    },
    {
     "name": "stdout",
     "output_type": "stream",
     "text": [
      "MonthlyIncome_log için karşılaştırma"
     ]
    },
    {
     "data": {
      "text/html": [
       "<div>\n",
       "<style scoped>\n",
       "    .dataframe tbody tr th:only-of-type {\n",
       "        vertical-align: middle;\n",
       "    }\n",
       "\n",
       "    .dataframe tbody tr th {\n",
       "        vertical-align: top;\n",
       "    }\n",
       "\n",
       "    .dataframe thead th {\n",
       "        text-align: right;\n",
       "    }\n",
       "</style>\n",
       "<table border=\"1\" class=\"dataframe\">\n",
       "  <thead>\n",
       "    <tr style=\"text-align: right;\">\n",
       "      <th></th>\n",
       "      <th>grup_1</th>\n",
       "      <th>grup_2</th>\n",
       "      <th>istatistik</th>\n",
       "      <th>p_degeri</th>\n",
       "    </tr>\n",
       "  </thead>\n",
       "  <tbody>\n",
       "    <tr>\n",
       "      <th>0</th>\n",
       "      <td>Yes</td>\n",
       "      <td>No</td>\n",
       "      <td>-7.748053631123342</td>\n",
       "      <td>0.000000000000017</td>\n",
       "    </tr>\n",
       "  </tbody>\n",
       "</table>\n",
       "</div>"
      ],
      "text/plain": [
       "  grup_1 grup_2         istatistik          p_degeri\n",
       "0    Yes     No -7.748053631123342 0.000000000000017"
      ]
     },
     "metadata": {},
     "output_type": "display_data"
    },
    {
     "name": "stdout",
     "output_type": "stream",
     "text": [
      "TotalWorkingYears_log için karşılaştırma"
     ]
    },
    {
     "data": {
      "text/html": [
       "<div>\n",
       "<style scoped>\n",
       "    .dataframe tbody tr th:only-of-type {\n",
       "        vertical-align: middle;\n",
       "    }\n",
       "\n",
       "    .dataframe tbody tr th {\n",
       "        vertical-align: top;\n",
       "    }\n",
       "\n",
       "    .dataframe thead th {\n",
       "        text-align: right;\n",
       "    }\n",
       "</style>\n",
       "<table border=\"1\" class=\"dataframe\">\n",
       "  <thead>\n",
       "    <tr style=\"text-align: right;\">\n",
       "      <th></th>\n",
       "      <th>grup_1</th>\n",
       "      <th>grup_2</th>\n",
       "      <th>istatistik</th>\n",
       "      <th>p_degeri</th>\n",
       "    </tr>\n",
       "  </thead>\n",
       "  <tbody>\n",
       "    <tr>\n",
       "      <th>0</th>\n",
       "      <td>Yes</td>\n",
       "      <td>No</td>\n",
       "      <td>-9.007604542365765</td>\n",
       "      <td>0.000000000000000</td>\n",
       "    </tr>\n",
       "  </tbody>\n",
       "</table>\n",
       "</div>"
      ],
      "text/plain": [
       "  grup_1 grup_2         istatistik          p_degeri\n",
       "0    Yes     No -9.007604542365765 0.000000000000000"
      ]
     },
     "metadata": {},
     "output_type": "display_data"
    },
    {
     "name": "stdout",
     "output_type": "stream",
     "text": [
      "YearsAtCompany_log için karşılaştırma"
     ]
    },
    {
     "data": {
      "text/html": [
       "<div>\n",
       "<style scoped>\n",
       "    .dataframe tbody tr th:only-of-type {\n",
       "        vertical-align: middle;\n",
       "    }\n",
       "\n",
       "    .dataframe tbody tr th {\n",
       "        vertical-align: top;\n",
       "    }\n",
       "\n",
       "    .dataframe thead th {\n",
       "        text-align: right;\n",
       "    }\n",
       "</style>\n",
       "<table border=\"1\" class=\"dataframe\">\n",
       "  <thead>\n",
       "    <tr style=\"text-align: right;\">\n",
       "      <th></th>\n",
       "      <th>grup_1</th>\n",
       "      <th>grup_2</th>\n",
       "      <th>istatistik</th>\n",
       "      <th>p_degeri</th>\n",
       "    </tr>\n",
       "  </thead>\n",
       "  <tbody>\n",
       "    <tr>\n",
       "      <th>0</th>\n",
       "      <td>Yes</td>\n",
       "      <td>No</td>\n",
       "      <td>-7.181158202104013</td>\n",
       "      <td>0.000000000001095</td>\n",
       "    </tr>\n",
       "  </tbody>\n",
       "</table>\n",
       "</div>"
      ],
      "text/plain": [
       "  grup_1 grup_2         istatistik          p_degeri\n",
       "0    Yes     No -7.181158202104013 0.000000000001095"
      ]
     },
     "metadata": {},
     "output_type": "display_data"
    },
    {
     "name": "stdout",
     "output_type": "stream",
     "text": [
      "Age için karşılaştırma"
     ]
    },
    {
     "data": {
      "text/html": [
       "<div>\n",
       "<style scoped>\n",
       "    .dataframe tbody tr th:only-of-type {\n",
       "        vertical-align: middle;\n",
       "    }\n",
       "\n",
       "    .dataframe tbody tr th {\n",
       "        vertical-align: top;\n",
       "    }\n",
       "\n",
       "    .dataframe thead th {\n",
       "        text-align: right;\n",
       "    }\n",
       "</style>\n",
       "<table border=\"1\" class=\"dataframe\">\n",
       "  <thead>\n",
       "    <tr style=\"text-align: right;\">\n",
       "      <th></th>\n",
       "      <th>grup_1</th>\n",
       "      <th>grup_2</th>\n",
       "      <th>istatistik</th>\n",
       "      <th>p_degeri</th>\n",
       "    </tr>\n",
       "  </thead>\n",
       "  <tbody>\n",
       "    <tr>\n",
       "      <th>0</th>\n",
       "      <td>Yes</td>\n",
       "      <td>No</td>\n",
       "      <td>-6.178663835307217</td>\n",
       "      <td>0.000000000835631</td>\n",
       "    </tr>\n",
       "  </tbody>\n",
       "</table>\n",
       "</div>"
      ],
      "text/plain": [
       "  grup_1 grup_2         istatistik          p_degeri\n",
       "0    Yes     No -6.178663835307217 0.000000000835631"
      ]
     },
     "metadata": {},
     "output_type": "display_data"
    },
    {
     "name": "stdout",
     "output_type": "stream",
     "text": [
      "DailyRate için karşılaştırma"
     ]
    },
    {
     "data": {
      "text/html": [
       "<div>\n",
       "<style scoped>\n",
       "    .dataframe tbody tr th:only-of-type {\n",
       "        vertical-align: middle;\n",
       "    }\n",
       "\n",
       "    .dataframe tbody tr th {\n",
       "        vertical-align: top;\n",
       "    }\n",
       "\n",
       "    .dataframe thead th {\n",
       "        text-align: right;\n",
       "    }\n",
       "</style>\n",
       "<table border=\"1\" class=\"dataframe\">\n",
       "  <thead>\n",
       "    <tr style=\"text-align: right;\">\n",
       "      <th></th>\n",
       "      <th>grup_1</th>\n",
       "      <th>grup_2</th>\n",
       "      <th>istatistik</th>\n",
       "      <th>p_degeri</th>\n",
       "    </tr>\n",
       "  </thead>\n",
       "  <tbody>\n",
       "    <tr>\n",
       "      <th>0</th>\n",
       "      <td>Yes</td>\n",
       "      <td>No</td>\n",
       "      <td>-2.174083677701775</td>\n",
       "      <td>0.029858160660265</td>\n",
       "    </tr>\n",
       "  </tbody>\n",
       "</table>\n",
       "</div>"
      ],
      "text/plain": [
       "  grup_1 grup_2         istatistik          p_degeri\n",
       "0    Yes     No -2.174083677701775 0.029858160660265"
      ]
     },
     "metadata": {},
     "output_type": "display_data"
    },
    {
     "name": "stdout",
     "output_type": "stream",
     "text": [
      "HourlyRate için karşılaştırma"
     ]
    },
    {
     "data": {
      "text/html": [
       "<div>\n",
       "<style scoped>\n",
       "    .dataframe tbody tr th:only-of-type {\n",
       "        vertical-align: middle;\n",
       "    }\n",
       "\n",
       "    .dataframe tbody tr th {\n",
       "        vertical-align: top;\n",
       "    }\n",
       "\n",
       "    .dataframe thead th {\n",
       "        text-align: right;\n",
       "    }\n",
       "</style>\n",
       "<table border=\"1\" class=\"dataframe\">\n",
       "  <thead>\n",
       "    <tr style=\"text-align: right;\">\n",
       "      <th></th>\n",
       "      <th>grup_1</th>\n",
       "      <th>grup_2</th>\n",
       "      <th>istatistik</th>\n",
       "      <th>p_degeri</th>\n",
       "    </tr>\n",
       "  </thead>\n",
       "  <tbody>\n",
       "    <tr>\n",
       "      <th>0</th>\n",
       "      <td>Yes</td>\n",
       "      <td>No</td>\n",
       "      <td>-0.262289873492645</td>\n",
       "      <td>0.793134768994424</td>\n",
       "    </tr>\n",
       "  </tbody>\n",
       "</table>\n",
       "</div>"
      ],
      "text/plain": [
       "  grup_1 grup_2         istatistik          p_degeri\n",
       "0    Yes     No -0.262289873492645 0.793134768994424"
      ]
     },
     "metadata": {},
     "output_type": "display_data"
    },
    {
     "name": "stdout",
     "output_type": "stream",
     "text": [
      "MonthlyRate için karşılaştırma"
     ]
    },
    {
     "data": {
      "text/html": [
       "<div>\n",
       "<style scoped>\n",
       "    .dataframe tbody tr th:only-of-type {\n",
       "        vertical-align: middle;\n",
       "    }\n",
       "\n",
       "    .dataframe tbody tr th {\n",
       "        vertical-align: top;\n",
       "    }\n",
       "\n",
       "    .dataframe thead th {\n",
       "        text-align: right;\n",
       "    }\n",
       "</style>\n",
       "<table border=\"1\" class=\"dataframe\">\n",
       "  <thead>\n",
       "    <tr style=\"text-align: right;\">\n",
       "      <th></th>\n",
       "      <th>grup_1</th>\n",
       "      <th>grup_2</th>\n",
       "      <th>istatistik</th>\n",
       "      <th>p_degeri</th>\n",
       "    </tr>\n",
       "  </thead>\n",
       "  <tbody>\n",
       "    <tr>\n",
       "      <th>0</th>\n",
       "      <td>Yes</td>\n",
       "      <td>No</td>\n",
       "      <td>0.581305821154532</td>\n",
       "      <td>0.561123598224301</td>\n",
       "    </tr>\n",
       "  </tbody>\n",
       "</table>\n",
       "</div>"
      ],
      "text/plain": [
       "  grup_1 grup_2        istatistik          p_degeri\n",
       "0    Yes     No 0.581305821154532 0.561123598224301"
      ]
     },
     "metadata": {},
     "output_type": "display_data"
    }
   ],
   "source": [
    "attrition = employee[\"Attrition\"].unique()\n",
    "pd.options.display.float_format = '{:.15f}'.format\n",
    "for var in [\"PercentSalaryHike\",\"DistanceFromHome\",\"YearsInCurrentRole_log\",\"YearsSinceLastPromotion_log\",\"YearsWithCurrManager_log\",\"MonthlyIncome_log\", \"TotalWorkingYears_log\",'YearsAtCompany_log','Age','DailyRate','HourlyRate','MonthlyRate']:\n",
    "    karsilastirma = pd.DataFrame(columns=['grup_1', 'grup_2','istatistik', 'p_degeri'])\n",
    "    print(\"{} için karşılaştırma\".format(var),end='')\n",
    "    for i in range(0, len(attrition)):\n",
    "        for j in range(i+1, len(attrition)):\n",
    "            ttest = stats.ttest_ind(employee[employee[\"Attrition\"]==attrition[i]][var], \n",
    "                                employee[employee[\"Attrition\"]==attrition[j]][var])\n",
    "            grup_1 = attrition[i]\n",
    "            grup_2 = attrition[j]\n",
    "            istatistik = ttest[0]\n",
    "            p_degeri = ttest[1]\n",
    "            \n",
    "            karsilastirma = karsilastirma.append({\"grup_1\" : grup_1 ,\n",
    "                                                  \"grup_2\" : grup_2 ,\n",
    "                                                  \"istatistik\": istatistik , \n",
    "                                                  \"p_degeri\" : p_degeri}, ignore_index=True)\n",
    "    display(karsilastirma)"
   ]
  },
  {
   "cell_type": "markdown",
   "metadata": {},
   "source": [
    "Tteste göre p>0.05 olan özelliklerin anlamlı farklılık olmadığını biliyoruz.\n",
    "YearsSinceLastPromotion, YearsWithCurrManager,PercentSalaryHike , MonthlyRate ve HourlyRate özelliklerinin ,p degerlerinin 0.05 ten yuksek olmasından dolayı, anlamlı farklılık olmadığını görüyoruz. \n",
    "\n"
   ]
  },
  {
   "cell_type": "raw",
   "metadata": {},
   "source": [
    "Grafikleri incelediğimizde\n",
    "* Age:ayrılan ve ayrılmayan kişilerin yaş ortalamasında bir fark gözüktüğü için işten ayrılmayı(attrition) etkileyen özelliklerden biridir diyebiliriz\n",
    "* DailyRate:ayrılan ve ayrılmayan kişilerin DailyRate ortalamasında bir fark olmadığından işten ayrılmayı(attrition) etkileyen özelliklerden biri değildir.\n",
    "* DistanceFromHome:ayrılan ve ayrılmayan kişilerin uzaklık ortalamasında bir fark gözüktüğü için işten ayrılmayı(attrition) etkileyen özelliklerden biridir diyebiliriz\n",
    "* HourlyRate:t-testinde p degerlerinin 0.05 ten yüksek olmasından dolayı, anlamlı farklılık olmadığını görüyoruz. O yüzden Perfomance Rating işten ayrılmayı(attrition) etkileyen özelliklerde değildir \n",
    "* MonthlyRate:t-testinde p degerlerinin 0.05 ten yüksek olmasından dolayı, anlamlı farklılık olmadığını görüyoruz. O yüzden Perfomance Rating işten ayrılmayı(attrition) etkileyen özelliklerde değildir \n",
    "* PercentSalaryHike: t-testinde p degerlerinin 0.05 ten yüksek olmasından dolayı, anlamlı farklılık olmadığını görüyoruz. O yüzden Perfomance Rating işten ayrılmayı(attrition) etkileyen özelliklerde değildir\n",
    "* MonthlyIncome:ayrılan ve ayrılmayan kişilerin DailyRate ortalamasında bir fark olmadığından işten ayrılmayı(attrition) etkileyen özelliklerden biridir.\n",
    "* TotalWorkingYears:ayrılan ve ayrılmayan kişilerin toplam çalıştığı yıl ortalamasında bir fark gözüktüğü için işten ayrılmayı(attrition) etkileyen özelliklerden biridir diyebiliriz\n",
    "* YearsAtCompany:ayrılan ve ayrılmayan kişilerin şirketteki  çalıştığı yıl ortalamasında bir fark gözüktüğü için işten ayrılmayı(attrition) etkileyen özelliklerden biridir diyebiliriz\n",
    "* YearsInCurrentRole:ayrılan ve ayrılmayan kişilerin şirketteki  çalıştığı yıl ortalamasında bir fark gözüktüğü için işten ayrılmayı(attrition) etkileyen özelliklerden biridir diyebiliriz\n",
    "* YearsSinceLastPromotion: t-testinde p degerlerinin 0.05 ten yüksek olmasından dolayı, anlamlı farklılık olmadığını görüyoruz. O yüzden Perfomance Rating işten ayrılmayı(attrition) etkileyen özelliklerde değildir\n",
    "* YearsWithCurrManager: t-testinde p degerlerinin 0.05 ten yüksek olmasından dolayı, anlamlı farklılık olmadığını görüyoruz. O yüzden Perfomance Rating işten ayrılmayı(attrition) etkileyen özelliklerde değildir\n",
    "\n",
    "*Age\n",
    "*DistanceFromHome\n",
    "*MonthlyIncome\n",
    "*TotalWorkingYears\n",
    "*YearsAtCompany\n",
    "*YearsInCurrentRole"
   ]
  },
  {
   "cell_type": "markdown",
   "metadata": {},
   "source": [
    "## 3.2 Kategorik değişkenler-Attrition İlişkisi"
   ]
  },
  {
   "cell_type": "markdown",
   "metadata": {},
   "source": [
    "Kategorik değişkenler için Attrition ilişkilerine baktım ve chisquare testiyle anlamlı farkındalık olup olmadığını kontrol ettim"
   ]
  },
  {
   "cell_type": "code",
   "execution_count": 35,
   "metadata": {},
   "outputs": [],
   "source": [
    "def percent_attritionbarplot2(x,employee):\n",
    "    liste=employee.sort_values(by=x)[x].unique().tolist()\n",
    "    #liste=employee[x].unique().tolist()\n",
    "    listepercentyes=[]\n",
    "    listepercentno=[]\n",
    "    genele_etki=[]\n",
    "    for i in range(len(liste)):\n",
    "        a=(len(employee[employee[x]==liste[i]][employee['Attrition']=='Yes'])/len(employee[employee[x]==liste[i]]))*100\n",
    "        b=100-a\n",
    "        listepercentyes.append(a)\n",
    "        listepercentno.append(b)\n",
    "        geneleoran=len(employee[employee[x]==liste[i]])/len(employee)\n",
    "        genele_etki.append(geneleoran*a)\n",
    "\n",
    "    trace1 = go.Bar(\n",
    "        x=liste,\n",
    "        y=listepercentyes,\n",
    "        name='Yes',\n",
    "        \n",
    "    )\n",
    "    trace2 = go.Bar(\n",
    "        x=liste,\n",
    "        y=listepercentno,\n",
    "        name='No',\n",
    "    )\n",
    "\n",
    "    data = [trace1, trace2]\n",
    "    return data"
   ]
  },
  {
   "cell_type": "code",
   "execution_count": 36,
   "metadata": {},
   "outputs": [],
   "source": [
    "\n",
    "data_kategorik=list()\n",
    "rate=kategorik_employee\n",
    "for i in range(len(rate.columns)):\n",
    "    for j in range(2):\n",
    "        data_kategorik.append(percent_attritionbarplot2(rate.columns[i],employee)[j])"
   ]
  },
  {
   "cell_type": "code",
   "execution_count": 37,
   "metadata": {},
   "outputs": [],
   "source": [
    "def visibleTF(number):\n",
    "    liste=list()\n",
    "    for i in range(len(data_kategorik)):\n",
    "        liste.append(False)\n",
    "    liste[2*number-2]=True\n",
    "    liste[2*number-1]=True\n",
    "    return liste"
   ]
  },
  {
   "cell_type": "code",
   "execution_count": 38,
   "metadata": {},
   "outputs": [],
   "source": [
    "def button(attribute,number):\n",
    "    return dict(label = attribute,method = 'update',args = [{'visible': visibleTF(number)},{'title': 'Kategorik-Attrition yüzde ilişkisi'}])"
   ]
  },
  {
   "cell_type": "code",
   "execution_count": 39,
   "metadata": {},
   "outputs": [],
   "source": [
    "layout = go.Layout(\n",
    "     barmode='stack',\n",
    "    width=700,\n",
    "    height=500,\n",
    "    autosize=False,\n",
    "    title='Kategorik-Attribute ilişkisi',\n",
    "        \n",
    "    xaxis=go.layout.XAxis(\n",
    "        title=go.layout.xaxis.Title(\n",
    "            #text='x Axis',\n",
    "            font=dict(\n",
    "                family='Courier New, monospace',\n",
    "                size=18,\n",
    "                color='#7f7f6f'\n",
    "            )\n",
    "        )\n",
    "    ),\n",
    "    yaxis=go.layout.YAxis(\n",
    "        title=go.layout.yaxis.Title(\n",
    "            #text='y Axis',\n",
    "            font=dict(\n",
    "                family='Courier New, monospace',\n",
    "                size=18,\n",
    "                color='#7f7f7f'\n",
    "            )\n",
    "        )\n",
    "    )\n",
    ")\n",
    "\n",
    "rate=kategorik_employee\n",
    "updatemenus = list([dict(active=-1,buttons=[button(rate.columns[i],i+1) for i in range(len(rate.columns))])])"
   ]
  },
  {
   "cell_type": "code",
   "execution_count": 40,
   "metadata": {
    "scrolled": true
   },
   "outputs": [
    {
     "data": {
      "text/html": [
       "<iframe id=\"igraph\" scrolling=\"no\" style=\"border:none;\" seamless=\"seamless\" src=\"https://plot.ly/~mehtapc/266.embed\" height=\"500px\" width=\"700px\"></iframe>"
      ],
      "text/plain": [
       "<chart_studio.tools.PlotlyDisplay object>"
      ]
     },
     "execution_count": 40,
     "metadata": {},
     "output_type": "execute_result"
    }
   ],
   "source": [
    "layout['updatemenus']=updatemenus\n",
    "fig = dict(data=data_kategorik, layout=layout)\n",
    "py.iplot(fig, filename='Kategorik-Attribute yuzdesi')"
   ]
  },
  {
   "cell_type": "code",
   "execution_count": 41,
   "metadata": {},
   "outputs": [
    {
     "name": "stdout",
     "output_type": "stream",
     "text": [
      "Power_divergenceResult(statistic=2114.9714285714285, pvalue=0.0)\n",
      "Power_divergenceResult(statistic=1957.7469387755102, pvalue=0.0)\n",
      "Power_divergenceResult(statistic=1477.142857142857, pvalue=0.0)\n",
      "Power_divergenceResult(statistic=2392.987755102041, pvalue=0.0)\n",
      "Power_divergenceResult(statistic=820.2530612244899, pvalue=7.900930552947623e-173)\n",
      "Power_divergenceResult(statistic=752.8408163265306, pvalue=7.304007796791317e-163)\n",
      "Power_divergenceResult(statistic=2264.802721088435, pvalue=0.0)\n",
      "Power_divergenceResult(statistic=1696.2857142857144, pvalue=0.0)\n",
      "Power_divergenceResult(statistic=1403.1673469387754, pvalue=3.229571482791907e-288)\n",
      "Power_divergenceResult(statistic=820.0680272108843, pvalue=8.661907034984411e-173)\n",
      "Power_divergenceResult(statistic=890.8244897959185, pvalue=2.5756605932932327e-190)\n",
      "Power_divergenceResult(statistic=2409.9455782312925, pvalue=0.0)\n",
      "Power_divergenceResult(statistic=1258.9414965986393, pvalue=1.1929298006311467e-272)\n",
      "Power_divergenceResult(statistic=1705.5809523809523, pvalue=0.0)\n",
      "Power_divergenceResult(statistic=787.9809523809524, pvalue=7.277895977662358e-166)\n",
      "Power_divergenceResult(statistic=1646.0054421768707, pvalue=0.0)\n",
      "Power_divergenceResult(statistic=2573.276190476191, pvalue=0.0)\n",
      "Power_divergenceResult(statistic=2384.6938775510203, pvalue=0.0)\n"
     ]
    }
   ],
   "source": [
    "rate=kategorik_employee\n",
    "for i in range(len(rate.columns)):\n",
    "    employ_tablosu=pd.crosstab(employee[\"Attrition\"],employee[rate.columns[i]])\n",
    "    print(stats.chisquare(employ_tablosu, axis=None))"
   ]
  },
  {
   "cell_type": "markdown",
   "metadata": {},
   "source": [
    "Bütün p değerleri 0.05 in altında, yani yukarıda gördüğümüz grafikteki kategorik - attrition ilişkilerindeki farklılıkları anlamlı olarak değerlendirilebilir."
   ]
  },
  {
   "cell_type": "markdown",
   "metadata": {},
   "source": [
    "Grafikleri incelediğimizde \n",
    "* BusinessTravel:Alt başlıkları olan Non-Travel, Travel_Frequently ve Travel_Rarely oranları birbirinden farklı olduğu için işten ayrılmayı(attrition) etkileyen özelliklerden biridir diyebiliriz\n",
    "* Department:Human Resources ve Sales oranları birbirine oldukça yakındır, bunun yanında Research&Development ayrılma oranı bu iki değerden farklıdır. Genel olarak bir fark gözüktüğü için işten ayrılmayı(attrition) etkileyen özelliklerden biridir diyebiliriz\n",
    "* Education:1 den 5 e kadar olan eğitim seviyelerinde işten ayrılma oranı farkları %10 ile 18 arasında değişiklik göstermektedir.İşten ayrılmayı(attrition) etkileyen özelliklerden biridir diyebiliriz\n",
    "* EducationField:Life Science, Medical ve Other neredeyse aynı işten ayrılma yüzdelerine sahiptirler. Bunun yanında HR ve Technical Degree oranları da neredeyse aynıdır. Marketing diğerlerinden farklı orandadır. Grupsal olarak ta olsa educationfield özelliği işten ayrılmayı(attrition) etkileyen özelliklerden biridir diyebiliriz\n",
    "* EnvironmentSatisfaction:1. seviye ile neredeyse aynı olan 2., 3. ve 4. seviyeler arasında fark vardır.Grupsal olarak ta olsa EnvironmentSatisfaction özelliği işten ayrılmayı(attrition) etkileyen özelliklerden biridir diyebiliriz\n",
    "* Gender:Female ve Male arasında %2,8 fark vardır. Yeterli bir fark mıdır emin olamadım.yüzdelik oranda farklı görmediğim için özelliklerden biri diyemem.\n",
    "* JobInvolvement:Bu özelliğin bütün seviyeleri için yeterli farklılıklar vardır. O yuzden işten ayrılmayı(attrition) etkileyen özelliklerden biridir diyebiliriz\n",
    "* JobLevel:1. seviyenin işten ayrılma oranı farklı yüksek olmasıyla beraber her seviyenin birbirinden farklı yüzdede etkilediğini söyleyebiliriz.işten ayrılmayı(attrition) etkileyen özelliklerden biridir diyebiliriz\n",
    "* JobRole:Bazı roller oran olarak birbirine yakın gözükmesiyle beraber genel olarak işten ayrılmayı(attrition) etkileyen özelliklerden biridir diyebiliriz\n",
    "* JobSatisfaction:2. ve 3. seviyelerin oranları birbirine çok yakın olmakta birlikte 1. ve 4. seviyeler birbirlerinden farklıdır.işten ayrılmayı(attrition) etkileyen özelliklerden biridir diyebiliriz\n",
    "* MaritalStatus:Özellikle Single daki büyük işten ayrılma oranı ile birlikte oranların hepsi birbirinden farklı diyebiliriz. Böylelikle işten ayrılmayı(attrition) etkileyen özelliklerden biridir diyebiliriz\n",
    "* NumCompaniesWorked:Bazı değerlerde kısmı aynılıklar olsa da Genel olarak bir fark gözüktüğü için işten ayrılmayı(attrition) etkileyen özelliklerden biridir diyebiliriz\n",
    "* OverTime:Bu özellikte fark oldukça belirgindir. İşten ayrılmayı(attrition) etkileyen özelliklerden biridir\n",
    "* PerformanceRating:Performance Rating te bir fark olmadıgını goruyoruz. O yüzden Perfomance Rating işten ayrılmayı(attrition) etkileyen özelliklerde değil\n",
    "* RelationshipSatisfaction:1. değerin oranı oldukça farklı olmasına rağmen diğer 3 değer neredeyse aynı oranlardadır. Kısmı de olsa bu farkla işten ayrılmayı(attrition) etkileyen özelliklerden biridir diyebiliriz \n",
    "* StockOptionLevel:1 ve 2 nin oranları oldukca aynı olsada 0 ve 4. ile oranlarının farkları ile birlikte işten ayrılmayı(attrition) etkileyen özelliklerden biridir diyebiliriz\n",
    "* TrainingTimesLastYear:Bazı değerlerde kısmı aynılıklar olsa da Genel olarak bir fark gözüktüğü için işten ayrılmayı(attrition) etkileyen özelliklerden biridir diyebiliriz\n",
    "* WorkLifeBalance:2. ,3. ve 4. değerlerin oranları birbirine yakın olsa da 1. değer farklıdır. Kısmı de olsa bu farkla işten ayrılmayı(attrition) etkileyen özelliklerden biridir diyebiliriz "
   ]
  },
  {
   "cell_type": "markdown",
   "metadata": {},
   "source": [
    "## 5. Sonuç olarak \n",
    "IBM şirketinin işten çıkmayı etkileyen faktorleri nelerdir? sorusuna cevap aradık? 1470 satır , 35 özellikten oluşan bir veri tipine sahiptik.Veri setimizdeki hedef olarak yani Target olarak 'Attrition' özelliğini seçtim. Öncelikle hedef özelliğimiz olan attrition'ın verisetindeki 1233 (84%) 'no' attrition ve 237 (16%) 'yes' attrition oranları ile verisetimizin dengesiz(imbalanced) yapıda olduğunu gördük. Yaptığımız analizler sonucu özellikleri incelediğimizde 'Attrition' hedef özelliği altında 12 tane attritionı etkilemeyen özellik, 22 tane de etkileyen özelliği tespit ettik.\n",
    "\n",
    "* Hedef Özellik:Attrition\n",
    "* Hedefe etki etmeyenler özellikler:Gender, PerformanceRating, DailyRate, HourlyRate, MonthlyRate, PercentSalaryHike, YearsSinceLastPromotion, YearsWithCurrManager, EmployeeNumber, EmployeeCount, Over18, StandardHours, \n",
    "* Hedefe etki edenler özellikler:Age, BusinessTravel, Department, DistanceFromHome, Education, EducationField , EnvironmentSatisfaction, JobInvolvement, JobLevel, JobRole, JobSatisfaction, MaritalStatus, MonthlyIncome, NumCompaniesWorked, OverTime, RelationshipSatisfaction, StockOptionLevel, TotalWorkingYears,TrainingTimesLastYear, WorkLifeBalance, YearsAtCompany, YearsInCurrentRole    \n"
   ]
  },
  {
   "cell_type": "code",
   "execution_count": 42,
   "metadata": {},
   "outputs": [],
   "source": [
    "employee_sade2=employee[['Attrition','Age', 'BusinessTravel', 'Department', 'DistanceFromHome', 'Education' , 'EducationField' , 'EnvironmentSatisfaction', 'JobInvolvement', 'JobLevel', 'JobRole', 'JobSatisfaction', 'MaritalStatus', 'MonthlyIncome', 'NumCompaniesWorked', 'OverTime', 'RelationshipSatisfaction', 'StockOptionLevel', 'TotalWorkingYears','TrainingTimesLastYear', 'WorkLifeBalance', 'YearsAtCompany', 'YearsInCurrentRole']]"
   ]
  },
  {
   "cell_type": "code",
   "execution_count": 43,
   "metadata": {},
   "outputs": [
    {
     "name": "stdout",
     "output_type": "stream",
     "text": [
      "<class 'pandas.core.frame.DataFrame'>\n",
      "RangeIndex: 1470 entries, 0 to 1469\n",
      "Data columns (total 23 columns):\n",
      "Attrition                   1470 non-null object\n",
      "Age                         1470 non-null int64\n",
      "BusinessTravel              1470 non-null object\n",
      "Department                  1470 non-null object\n",
      "DistanceFromHome            1470 non-null int64\n",
      "Education                   1470 non-null int64\n",
      "EducationField              1470 non-null object\n",
      "EnvironmentSatisfaction     1470 non-null int64\n",
      "JobInvolvement              1470 non-null int64\n",
      "JobLevel                    1470 non-null int64\n",
      "JobRole                     1470 non-null object\n",
      "JobSatisfaction             1470 non-null int64\n",
      "MaritalStatus               1470 non-null object\n",
      "MonthlyIncome               1470 non-null int64\n",
      "NumCompaniesWorked          1470 non-null int64\n",
      "OverTime                    1470 non-null object\n",
      "RelationshipSatisfaction    1470 non-null int64\n",
      "StockOptionLevel            1470 non-null int64\n",
      "TotalWorkingYears           1470 non-null int64\n",
      "TrainingTimesLastYear       1470 non-null int64\n",
      "WorkLifeBalance             1470 non-null int64\n",
      "YearsAtCompany              1470 non-null int64\n",
      "YearsInCurrentRole          1470 non-null int64\n",
      "dtypes: int64(16), object(7)\n",
      "memory usage: 264.2+ KB\n"
     ]
    }
   ],
   "source": [
    "employee_sade2.info()"
   ]
  },
  {
   "cell_type": "code",
   "execution_count": 44,
   "metadata": {},
   "outputs": [
    {
     "data": {
      "text/plain": [
       "array(['Travel_Rarely', 'Travel_Frequently', 'Non-Travel'], dtype=object)"
      ]
     },
     "execution_count": 44,
     "metadata": {},
     "output_type": "execute_result"
    }
   ],
   "source": [
    "employee_sade2['BusinessTravel'].unique()"
   ]
  },
  {
   "cell_type": "code",
   "execution_count": 45,
   "metadata": {},
   "outputs": [],
   "source": [
    "#'Non-Travel'---------------------------0\n",
    "#'Travel_Rarely'------------------------1\n",
    "#'Travel_Frequently'--------------------2\n",
    "\n",
    "\n",
    "for i in range(len(employee_sade2)):\n",
    "    if(employee_sade2['BusinessTravel'].iloc[i]=='Non-Travel'):\n",
    "        employee_sade2['BusinessTravel'].iloc[i]=0\n",
    "    elif(employee_sade2['BusinessTravel'].iloc[i]=='Travel_Rarely'):\n",
    "        employee_sade2['BusinessTravel'].iloc[i]=1\n",
    "    elif(employee_sade2['BusinessTravel'].iloc[i]=='Travel_Frequently'):\n",
    "        employee_sade2['BusinessTravel'].iloc[i]=2  \n"
   ]
  },
  {
   "cell_type": "code",
   "execution_count": 46,
   "metadata": {},
   "outputs": [
    {
     "data": {
      "text/plain": [
       "array(['Sales', 'Research & Development', 'Human Resources'], dtype=object)"
      ]
     },
     "execution_count": 46,
     "metadata": {},
     "output_type": "execute_result"
    }
   ],
   "source": [
    "employee_sade2['Department'].unique()"
   ]
  },
  {
   "cell_type": "code",
   "execution_count": 47,
   "metadata": {},
   "outputs": [],
   "source": [
    "#'Sales'------------------------------0\n",
    "#'Research & Development'-------------1\n",
    "#'Human Resources'--------------------2\n",
    "\n",
    "for i in range(len(employee_sade2)):\n",
    "    if(employee_sade2['Department'].iloc[i]=='Sales'):\n",
    "        employee_sade2['Department'].iloc[i]=0\n",
    "    elif(employee_sade2['Department'].iloc[i]=='Research & Development'):\n",
    "        employee_sade2['Department'].iloc[i]=1\n",
    "    elif(employee_sade2['Department'].iloc[i]=='Human Resources'):\n",
    "        employee_sade2['Department'].iloc[i]=2  \n"
   ]
  },
  {
   "cell_type": "code",
   "execution_count": 48,
   "metadata": {},
   "outputs": [
    {
     "data": {
      "text/plain": [
       "array(['Life Sciences', 'Other', 'Medical', 'Marketing',\n",
       "       'Technical Degree', 'Human Resources'], dtype=object)"
      ]
     },
     "execution_count": 48,
     "metadata": {},
     "output_type": "execute_result"
    }
   ],
   "source": [
    "employee_sade2['EducationField'].unique()"
   ]
  },
  {
   "cell_type": "code",
   "execution_count": 49,
   "metadata": {},
   "outputs": [],
   "source": [
    "#'Life Sciences'---------------0\n",
    "#'Medical'---------------------1\n",
    "#'Marketing'-------------------2\n",
    "#'Technical Degree' -----------3\n",
    "#'Human Resources'-------------4\n",
    "#'Other'-----------------------5\n",
    "\n",
    "for i in range(len(employee_sade2)):\n",
    "    if(employee_sade2['EducationField'].iloc[i]=='Life Sciences'):\n",
    "        employee_sade2['EducationField'].iloc[i]=0\n",
    "    elif(employee_sade2['EducationField'].iloc[i]=='Medical'):\n",
    "        employee_sade2['EducationField'].iloc[i]=1\n",
    "    elif(employee_sade2['EducationField'].iloc[i]=='Marketing'):\n",
    "        employee_sade2['EducationField'].iloc[i]=2 \n",
    "    elif(employee_sade2['EducationField'].iloc[i]=='Technical Degree'):\n",
    "        employee_sade2['EducationField'].iloc[i]=3\n",
    "    elif(employee_sade2['EducationField'].iloc[i]=='Human Resources'):\n",
    "        employee_sade2['EducationField'].iloc[i]=4\n",
    "    elif(employee_sade2['EducationField'].iloc[i]=='Other'):\n",
    "        employee_sade2['EducationField'].iloc[i]=5"
   ]
  },
  {
   "cell_type": "code",
   "execution_count": 50,
   "metadata": {},
   "outputs": [
    {
     "data": {
      "text/plain": [
       "array(['Sales Executive', 'Research Scientist', 'Laboratory Technician',\n",
       "       'Manufacturing Director', 'Healthcare Representative', 'Manager',\n",
       "       'Sales Representative', 'Research Director', 'Human Resources'],\n",
       "      dtype=object)"
      ]
     },
     "execution_count": 50,
     "metadata": {},
     "output_type": "execute_result"
    }
   ],
   "source": [
    "employee_sade2['JobRole'].unique()"
   ]
  },
  {
   "cell_type": "code",
   "execution_count": 51,
   "metadata": {},
   "outputs": [],
   "source": [
    "#'Sales Executive'----------------------0\n",
    "#'Research Scientist'-------------------1\n",
    "#'Laboratory Technician'----------------2\n",
    "#'Manufacturing Director'---------------3\n",
    "#'Healthcare Representative'------------4 \n",
    "#'Manager'------------------------------5\n",
    "#'Sales Representative'-----------------6\n",
    "#'Research Director'--------------------7\n",
    "#'Human Resources'----------------------8\n",
    "\n",
    "for i in range(len(employee_sade2)):\n",
    "    if(employee_sade2['JobRole'].iloc[i]=='Sales Executive'):\n",
    "        employee_sade2['JobRole'].iloc[i]=0\n",
    "    elif(employee_sade2['JobRole'].iloc[i]=='Research Scientist'):\n",
    "        employee_sade2['JobRole'].iloc[i]=1\n",
    "    elif(employee_sade2['JobRole'].iloc[i]=='Laboratory Technician'):\n",
    "        employee_sade2['JobRole'].iloc[i]=2 \n",
    "    elif(employee_sade2['JobRole'].iloc[i]=='Manufacturing Director'):\n",
    "        employee_sade2['JobRole'].iloc[i]=3\n",
    "    elif(employee_sade2['JobRole'].iloc[i]=='Healthcare Representative'):\n",
    "        employee_sade2['JobRole'].iloc[i]=4\n",
    "    elif(employee_sade2['JobRole'].iloc[i]=='Manager'):\n",
    "        employee_sade2['JobRole'].iloc[i]=5\n",
    "    elif(employee_sade2['JobRole'].iloc[i]=='Sales Representative'):\n",
    "        employee_sade2['JobRole'].iloc[i]=6\n",
    "    elif(employee_sade2['JobRole'].iloc[i]=='Research Director'):\n",
    "        employee_sade2['JobRole'].iloc[i]=7\n",
    "    elif(employee_sade2['JobRole'].iloc[i]=='Human Resources'):\n",
    "        employee_sade2['JobRole'].iloc[i]=8"
   ]
  },
  {
   "cell_type": "code",
   "execution_count": 52,
   "metadata": {},
   "outputs": [
    {
     "data": {
      "text/plain": [
       "array(['Single', 'Married', 'Divorced'], dtype=object)"
      ]
     },
     "execution_count": 52,
     "metadata": {},
     "output_type": "execute_result"
    }
   ],
   "source": [
    "employee_sade2['MaritalStatus'].unique()"
   ]
  },
  {
   "cell_type": "code",
   "execution_count": 53,
   "metadata": {},
   "outputs": [],
   "source": [
    "#'Single'------------------------------0\n",
    "#'Married'-----------------------------1\n",
    "#'Divorced'----------------------------2\n",
    "\n",
    "for i in range(len(employee_sade2)):\n",
    "    if(employee_sade2['MaritalStatus'].iloc[i]=='Single'):\n",
    "        employee_sade2['MaritalStatus'].iloc[i]=0\n",
    "    elif(employee_sade2['MaritalStatus'].iloc[i]=='Married'):\n",
    "        employee_sade2['MaritalStatus'].iloc[i]=1\n",
    "    elif(employee_sade2['MaritalStatus'].iloc[i]=='Divorced'):\n",
    "        employee_sade2['MaritalStatus'].iloc[i]=2 "
   ]
  },
  {
   "cell_type": "code",
   "execution_count": 54,
   "metadata": {},
   "outputs": [
    {
     "data": {
      "text/plain": [
       "array(['Yes', 'No'], dtype=object)"
      ]
     },
     "execution_count": 54,
     "metadata": {},
     "output_type": "execute_result"
    }
   ],
   "source": [
    "employee_sade2['OverTime'].unique()"
   ]
  },
  {
   "cell_type": "code",
   "execution_count": 55,
   "metadata": {},
   "outputs": [],
   "source": [
    "#'No'------------------------------0\n",
    "#'Yes'-----------------------------1\n",
    "\n",
    "for i in range(len(employee_sade2)):\n",
    "    if(employee_sade2['OverTime'].iloc[i]=='No'):\n",
    "        employee_sade2['OverTime'].iloc[i]=0\n",
    "    elif(employee_sade2['OverTime'].iloc[i]=='Yes'):\n",
    "        employee_sade2['OverTime'].iloc[i]=1"
   ]
  },
  {
   "cell_type": "code",
   "execution_count": 56,
   "metadata": {},
   "outputs": [
    {
     "data": {
      "text/plain": [
       "array(['Yes', 'No'], dtype=object)"
      ]
     },
     "execution_count": 56,
     "metadata": {},
     "output_type": "execute_result"
    }
   ],
   "source": [
    "employee_sade2['Attrition'].unique()"
   ]
  },
  {
   "cell_type": "code",
   "execution_count": 57,
   "metadata": {},
   "outputs": [],
   "source": [
    "for i in range(len(employee_sade2)):\n",
    "    if(employee_sade2['Attrition'].iloc[i]=='No'):\n",
    "        employee_sade2['Attrition'].iloc[i]=0\n",
    "    elif(employee_sade2['Attrition'].iloc[i]=='Yes'):\n",
    "        employee_sade2['Attrition'].iloc[i]=1"
   ]
  },
  {
   "cell_type": "code",
   "execution_count": 58,
   "metadata": {},
   "outputs": [
    {
     "name": "stdout",
     "output_type": "stream",
     "text": [
      "<class 'pandas.core.frame.DataFrame'>\n",
      "RangeIndex: 1470 entries, 0 to 1469\n",
      "Data columns (total 23 columns):\n",
      "Attrition                   1470 non-null int64\n",
      "Age                         1470 non-null int64\n",
      "BusinessTravel              1470 non-null int64\n",
      "Department                  1470 non-null int64\n",
      "DistanceFromHome            1470 non-null int64\n",
      "Education                   1470 non-null int64\n",
      "EducationField              1470 non-null int64\n",
      "EnvironmentSatisfaction     1470 non-null int64\n",
      "JobInvolvement              1470 non-null int64\n",
      "JobLevel                    1470 non-null int64\n",
      "JobRole                     1470 non-null int64\n",
      "JobSatisfaction             1470 non-null int64\n",
      "MaritalStatus               1470 non-null int64\n",
      "MonthlyIncome               1470 non-null int64\n",
      "NumCompaniesWorked          1470 non-null int64\n",
      "OverTime                    1470 non-null int64\n",
      "RelationshipSatisfaction    1470 non-null int64\n",
      "StockOptionLevel            1470 non-null int64\n",
      "TotalWorkingYears           1470 non-null int64\n",
      "TrainingTimesLastYear       1470 non-null int64\n",
      "WorkLifeBalance             1470 non-null int64\n",
      "YearsAtCompany              1470 non-null int64\n",
      "YearsInCurrentRole          1470 non-null int64\n",
      "dtypes: int64(23)\n",
      "memory usage: 264.2 KB\n"
     ]
    }
   ],
   "source": [
    "employee_sade2.info()"
   ]
  },
  {
   "cell_type": "code",
   "execution_count": 59,
   "metadata": {},
   "outputs": [],
   "source": [
    "# 10 özelliğe indirgenmiş verisetinin düzenlenmesi\n",
    "# * BusinessTravel, \n",
    "# * JobInvolvement, \n",
    "# * JobLevel, \n",
    "# * JobSatisfaction,\n",
    "# * MaritalStatus, \n",
    "# * MonthlyIncome,  \n",
    "# * OverTime, \n",
    "# * StockOptionLevel, \n",
    "# * WorkLifeBalance, \n",
    "# * YearsAtCompany, \n"
   ]
  },
  {
   "cell_type": "code",
   "execution_count": 60,
   "metadata": {},
   "outputs": [],
   "source": [
    "employee_sade=employee[['Attrition', 'BusinessTravel', 'JobInvolvement', 'JobLevel', 'JobSatisfaction', 'MaritalStatus', 'MonthlyIncome', 'OverTime', 'WorkLifeBalance', 'YearsAtCompany']]"
   ]
  },
  {
   "cell_type": "code",
   "execution_count": 61,
   "metadata": {},
   "outputs": [
    {
     "name": "stdout",
     "output_type": "stream",
     "text": [
      "<class 'pandas.core.frame.DataFrame'>\n",
      "RangeIndex: 1470 entries, 0 to 1469\n",
      "Data columns (total 10 columns):\n",
      "Attrition          1470 non-null object\n",
      "BusinessTravel     1470 non-null object\n",
      "JobInvolvement     1470 non-null int64\n",
      "JobLevel           1470 non-null int64\n",
      "JobSatisfaction    1470 non-null int64\n",
      "MaritalStatus      1470 non-null object\n",
      "MonthlyIncome      1470 non-null int64\n",
      "OverTime           1470 non-null object\n",
      "WorkLifeBalance    1470 non-null int64\n",
      "YearsAtCompany     1470 non-null int64\n",
      "dtypes: int64(6), object(4)\n",
      "memory usage: 114.9+ KB\n"
     ]
    }
   ],
   "source": [
    "employee_sade.info()"
   ]
  },
  {
   "cell_type": "code",
   "execution_count": 62,
   "metadata": {},
   "outputs": [
    {
     "data": {
      "text/plain": [
       "array(['Travel_Rarely', 'Travel_Frequently', 'Non-Travel'], dtype=object)"
      ]
     },
     "execution_count": 62,
     "metadata": {},
     "output_type": "execute_result"
    }
   ],
   "source": [
    "employee_sade['BusinessTravel'].unique()"
   ]
  },
  {
   "cell_type": "code",
   "execution_count": 63,
   "metadata": {},
   "outputs": [],
   "source": [
    "#'Non-Travel'---------------------------0\n",
    "#'Travel_Rarely'------------------------1\n",
    "#'Travel_Frequently'--------------------2\n"
   ]
  },
  {
   "cell_type": "code",
   "execution_count": 64,
   "metadata": {},
   "outputs": [],
   "source": [
    "for i in range(len(employee_sade)):\n",
    "    if(employee_sade['BusinessTravel'].iloc[i]=='Non-Travel'):\n",
    "        employee_sade['BusinessTravel'].iloc[i]=0\n",
    "    elif(employee_sade['BusinessTravel'].iloc[i]=='Travel_Rarely'):\n",
    "        employee_sade['BusinessTravel'].iloc[i]=1\n",
    "    elif(employee_sade['BusinessTravel'].iloc[i]=='Travel_Frequently'):\n",
    "        employee_sade['BusinessTravel'].iloc[i]=2  \n"
   ]
  },
  {
   "cell_type": "code",
   "execution_count": 65,
   "metadata": {},
   "outputs": [
    {
     "data": {
      "text/plain": [
       "array(['Single', 'Married', 'Divorced'], dtype=object)"
      ]
     },
     "execution_count": 65,
     "metadata": {},
     "output_type": "execute_result"
    }
   ],
   "source": [
    "employee_sade['MaritalStatus'].unique()"
   ]
  },
  {
   "cell_type": "code",
   "execution_count": 66,
   "metadata": {},
   "outputs": [],
   "source": [
    "#'Single'------------------------------0\n",
    "#'Married'-----------------------------1\n",
    "#'Divorced'----------------------------2"
   ]
  },
  {
   "cell_type": "code",
   "execution_count": 67,
   "metadata": {},
   "outputs": [],
   "source": [
    "for i in range(len(employee_sade)):\n",
    "    if(employee_sade['MaritalStatus'].iloc[i]=='Single'):\n",
    "        employee_sade['MaritalStatus'].iloc[i]=0\n",
    "    elif(employee_sade['MaritalStatus'].iloc[i]=='Married'):\n",
    "        employee_sade['MaritalStatus'].iloc[i]=1\n",
    "    elif(employee_sade['MaritalStatus'].iloc[i]=='Divorced'):\n",
    "        employee_sade['MaritalStatus'].iloc[i]=2 "
   ]
  },
  {
   "cell_type": "code",
   "execution_count": 68,
   "metadata": {},
   "outputs": [
    {
     "data": {
      "text/plain": [
       "array(['Yes', 'No'], dtype=object)"
      ]
     },
     "execution_count": 68,
     "metadata": {},
     "output_type": "execute_result"
    }
   ],
   "source": [
    "employee_sade['OverTime'].unique()"
   ]
  },
  {
   "cell_type": "code",
   "execution_count": 69,
   "metadata": {},
   "outputs": [],
   "source": [
    "#'No'------------------------------0\n",
    "#'Yes'-----------------------------1"
   ]
  },
  {
   "cell_type": "code",
   "execution_count": 70,
   "metadata": {},
   "outputs": [],
   "source": [
    "for i in range(len(employee_sade)):\n",
    "    if(employee_sade['OverTime'].iloc[i]=='No'):\n",
    "        employee_sade['OverTime'].iloc[i]=0\n",
    "    elif(employee_sade['OverTime'].iloc[i]=='Yes'):\n",
    "        employee_sade['OverTime'].iloc[i]=1"
   ]
  },
  {
   "cell_type": "code",
   "execution_count": 71,
   "metadata": {},
   "outputs": [
    {
     "data": {
      "text/plain": [
       "array(['Yes', 'No'], dtype=object)"
      ]
     },
     "execution_count": 71,
     "metadata": {},
     "output_type": "execute_result"
    }
   ],
   "source": [
    "employee_sade['Attrition'].unique()"
   ]
  },
  {
   "cell_type": "code",
   "execution_count": 72,
   "metadata": {},
   "outputs": [],
   "source": [
    "for i in range(len(employee_sade)):\n",
    "    if(employee_sade['Attrition'].iloc[i]=='No'):\n",
    "        employee_sade['Attrition'].iloc[i]=0\n",
    "    elif(employee_sade['Attrition'].iloc[i]=='Yes'):\n",
    "        employee_sade['Attrition'].iloc[i]=1"
   ]
  },
  {
   "cell_type": "markdown",
   "metadata": {},
   "source": [
    "# 5.LOGİSTİK MODELLER (Sınıf dengesizliği ve Hiperparametreye göre)"
   ]
  },
  {
   "cell_type": "code",
   "execution_count": 73,
   "metadata": {},
   "outputs": [],
   "source": [
    "# Modelleri oluştururken sınıf dengesizliği yöntemleri ile dengelenmiş veri, \n",
    "# hiperparametre yöntemleriyle belirlenmiş parametreler ve de RFE yöntemi de kullanılarak gruplanmıştır."
   ]
  },
  {
   "cell_type": "code",
   "execution_count": 74,
   "metadata": {},
   "outputs": [],
   "source": [
    "from sklearn.model_selection import train_test_split\n",
    "from sklearn.linear_model import LogisticRegression\n",
    "from sklearn.metrics import confusion_matrix,accuracy_score,classification_report\n",
    "from sklearn.metrics import roc_auc_score,roc_curve,scorer\n",
    "from sklearn.metrics import f1_score\n",
    "import statsmodels.api as sm\n",
    "from sklearn.metrics import precision_score,recall_score\n",
    "import plotly.tools as tls\n",
    "from yellowbrick.classifier import DiscriminationThreshold\n",
    "from sklearn.metrics import confusion_matrix\n",
    "from sklearn.metrics import classification_report\n",
    "\n",
    "def employee_attrition_prediction(algorithm,training_x,testing_x,\n",
    "                             training_y,testing_y,cols,cf,threshold_plot) :\n",
    "    \n",
    "    #model\n",
    "    algorithm.fit(training_x,training_y)\n",
    "    predictions   = algorithm.predict(testing_x)\n",
    "    probabilities = algorithm.predict_proba(testing_x)\n",
    "    #coeffs\n",
    "    if   cf == \"coefficients\" :\n",
    "        coefficients  = pd.DataFrame(algorithm.coef_.ravel())\n",
    "    elif cf == \"features\" :\n",
    "        coefficients  = pd.DataFrame(algorithm.feature_importances_)\n",
    "    \n",
    "    column_df     = pd.DataFrame(cols)\n",
    "    coef_sumry    = (pd.merge(coefficients,column_df,left_index= True,\n",
    "                              right_index= True, how = \"left\"))\n",
    "    coef_sumry.columns = [\"coefficients\",\"features\"]\n",
    "    coef_sumry    = coef_sumry.sort_values(by = \"coefficients\",ascending = False)\n",
    "    \n",
    "    print (algorithm)\n",
    "    print (\"\\n Classification report : \\n\",classification_report(testing_y,predictions))\n",
    "    print (\"Accuracy   Score : \",accuracy_score(testing_y,predictions))\n",
    "    #confusion matrix\n",
    "    conf_matrix = confusion_matrix(testing_y,predictions)\n",
    "    #roc_auc_score\n",
    "    model_roc_auc = roc_auc_score(testing_y,predictions) \n",
    "    print (\"Area under curve : \",model_roc_auc,\"\\n\")\n",
    "    fpr,tpr,thresholds = roc_curve(testing_y,probabilities[:,1])\n",
    "    \n",
    "    #print(\"Hata Matrisi (Test verileri)\", \"-\"*30, conf_matrix, sep=\"\\n\")\n",
    "    \n",
    "    #plot confusion matrix\n",
    "    trace1 = go.Heatmap(z = conf_matrix ,\n",
    "                        x = [\"Not attrition\",\"attrition\"],\n",
    "                        y = [\"Not attrition\",\"attrition\"],\n",
    "                        showscale  = False,colorscale = \"Picnic\",\n",
    "                        name = \"matrix\")\n",
    "    \n",
    "    #plot roc curve\n",
    "    trace2 = go.Scatter(x = fpr,y = tpr,\n",
    "                        name = \"Roc : \" + str(model_roc_auc),\n",
    "                        line = dict(color = ('rgb(22, 96, 167)'),width = 2))\n",
    "    trace3 = go.Scatter(x = [0,1],y=[0,1],\n",
    "                        line = dict(color = ('rgb(205, 12, 24)'),width = 2,\n",
    "                        dash = 'dot'))\n",
    "    \n",
    "    \n",
    "    \n",
    "    #subplots\n",
    "    fig = tls.make_subplots(rows=1, cols=2,\n",
    "                            subplot_titles=('Confusion Matrix',\n",
    "                                            'Receiver operating characteristic'))\n",
    "    \n",
    "  \n",
    "    fig.append_trace(trace1,1,1)\n",
    "    fig.append_trace(trace2,1,2)\n",
    "    fig.append_trace(trace3,1,2)\n",
    "\n",
    "    \n",
    "    fig['layout'].update(showlegend=False, title=\"Model performance\" ,\n",
    "                         autosize = False,height = 600,width = 800,\n",
    "                         plot_bgcolor = 'rgba(240,240,240, 0.95)',\n",
    "                         paper_bgcolor = 'rgba(240,240,240, 0.95)',\n",
    "                         margin = dict(b = 195))\n",
    "    fig[\"layout\"][\"xaxis2\"].update(dict(title = \"false positive rate\"))\n",
    "    fig[\"layout\"][\"yaxis2\"].update(dict(title = \"true positive rate\"))\n",
    "    \n",
    "    return py.iplot(fig)\n",
    "    \n",
    "    if threshold_plot == True :\n",
    "        visualizer = DiscriminationThreshold(algorithm)\n",
    "        visualizer.fit(training_x,training_y)\n",
    "        visualizer.poof()"
   ]
  },
  {
   "cell_type": "markdown",
   "metadata": {},
   "source": [
    "## 5.1 Logistic Regression(Base) Modeli\n"
   ]
  },
  {
   "cell_type": "code",
   "execution_count": 82,
   "metadata": {},
   "outputs": [],
   "source": [
    "X2=employee_sade2.drop('Attrition', axis=1)\n",
    "y=employee_sade2['Attrition']\n",
    "cols2    = [i for i in X2.columns]\n",
    "target_col=['Attrition']\n",
    "\n",
    "train_X,test_X,train_Y,test_Y = train_test_split(X2,y,test_size = .20 ,random_state = 111)\n"
   ]
  },
  {
   "cell_type": "markdown",
   "metadata": {},
   "source": [
    "### 5.1.1 Hiperparametrelerin GridSearchCV ile ayarlaması"
   ]
  },
  {
   "cell_type": "code",
   "execution_count": 83,
   "metadata": {},
   "outputs": [
    {
     "name": "stdout",
     "output_type": "stream",
     "text": [
      "En iyi parametreler :  {'C': 10, 'penalty': 'l1'}\n",
      "En iyi skor         :  0.8843537414965986\n"
     ]
    }
   ],
   "source": [
    "from sklearn.model_selection import GridSearchCV\n",
    "\n",
    "logreg = LogisticRegression()\n",
    "parametreler = {\"C\": [10 ** x for x in range (-5, 5, 1)],\n",
    "                \"penalty\": ['l1', 'l2']\n",
    "                }\n",
    "\n",
    "grid_cv = GridSearchCV(estimator=logreg,\n",
    "                       param_grid = parametreler,\n",
    "                       cv = 10\n",
    "                      )\n",
    "grid_cv.fit(X2, y)\n",
    "print(\"En iyi parametreler : \", grid_cv.best_params_)\n",
    "print(\"En iyi skor         : \", grid_cv.best_score_)\n"
   ]
  },
  {
   "cell_type": "code",
   "execution_count": 84,
   "metadata": {},
   "outputs": [
    {
     "name": "stdout",
     "output_type": "stream",
     "text": [
      "LogisticRegression(C=10000.0, class_weight=None, dual=False, fit_intercept=True,\n",
      "                   intercept_scaling=1, l1_ratio=None, max_iter=100,\n",
      "                   multi_class='ovr', n_jobs=1, penalty='l1', random_state=None,\n",
      "                   solver='liblinear', tol=0.0001, verbose=0, warm_start=False)\n",
      "\n",
      " Classification report : \n",
      "               precision    recall  f1-score   support\n",
      "\n",
      "           0       0.90      0.96      0.93       253\n",
      "           1       0.62      0.37      0.46        41\n",
      "\n",
      "    accuracy                           0.88       294\n",
      "   macro avg       0.76      0.67      0.70       294\n",
      "weighted avg       0.86      0.88      0.87       294\n",
      "\n",
      "Accuracy   Score :  0.8809523809523809\n",
      "Area under curve :  0.6651402680034705 \n",
      "\n",
      "This is the format of your plot grid:\n",
      "[ (1,1) x1,y1 ]  [ (1,2) x2,y2 ]\n",
      "\n"
     ]
    },
    {
     "data": {
      "text/html": [
       "<iframe id=\"igraph\" scrolling=\"no\" style=\"border:none;\" seamless=\"seamless\" src=\"https://plot.ly/~mehtapc/286.embed\" height=\"600px\" width=\"800px\"></iframe>"
      ],
      "text/plain": [
       "<chart_studio.tools.PlotlyDisplay object>"
      ]
     },
     "execution_count": 84,
     "metadata": {},
     "output_type": "execute_result"
    }
   ],
   "source": [
    "logit_GridSearchCV = LogisticRegression(C=10000.0, class_weight=None, dual=False, fit_intercept=True,\n",
    "          intercept_scaling=1, max_iter=100, multi_class='ovr', n_jobs=1,\n",
    "          penalty='l1', random_state=None, solver='liblinear', tol=0.0001,\n",
    "          verbose=0, warm_start=False)\n",
    "\n",
    "employee_attrition_prediction(logit_GridSearchCV,train_X,test_X,train_Y,test_Y,\n",
    "                         cols2,\"coefficients\",threshold_plot = True)"
   ]
  },
  {
   "cell_type": "markdown",
   "metadata": {},
   "source": [
    "### 5.1.2 Hiperparametrelerin RandomizedSearchCV ile ayarlaması"
   ]
  },
  {
   "cell_type": "code",
   "execution_count": 85,
   "metadata": {},
   "outputs": [
    {
     "name": "stdout",
     "output_type": "stream",
     "text": [
      "En iyi parametreler        :  {'penalty': 'l1', 'C': 100}\n"
     ]
    }
   ],
   "source": [
    "import warnings\n",
    "warnings.filterwarnings('ignore')\n",
    "from sklearn.model_selection import RandomizedSearchCV\n",
    "logreg = LogisticRegression()\n",
    "rs_cv = RandomizedSearchCV(estimator=logreg,\n",
    "                           param_distributions = parametreler,\n",
    "                           cv = 10,\n",
    "                           n_iter = 10,\n",
    "                           random_state = 111,\n",
    "                           scoring = 'precision'\n",
    "                      )\n",
    "rs_cv.fit(X2, y)\n",
    "\n",
    "print(\"En iyi parametreler        : \", rs_cv.best_params_)"
   ]
  },
  {
   "cell_type": "code",
   "execution_count": 87,
   "metadata": {},
   "outputs": [
    {
     "name": "stdout",
     "output_type": "stream",
     "text": [
      "LogisticRegression(C=100.0, class_weight=None, dual=False, fit_intercept=True,\n",
      "                   intercept_scaling=1, l1_ratio=None, max_iter=100,\n",
      "                   multi_class='ovr', n_jobs=1, penalty='l1', random_state=None,\n",
      "                   solver='liblinear', tol=0.0001, verbose=0, warm_start=False)\n",
      "\n",
      " Classification report : \n",
      "               precision    recall  f1-score   support\n",
      "\n",
      "           0       0.90      0.96      0.93       253\n",
      "           1       0.62      0.37      0.46        41\n",
      "\n",
      "    accuracy                           0.88       294\n",
      "   macro avg       0.76      0.67      0.70       294\n",
      "weighted avg       0.86      0.88      0.87       294\n",
      "\n",
      "Accuracy   Score :  0.8809523809523809\n",
      "Area under curve :  0.6651402680034705 \n",
      "\n",
      "This is the format of your plot grid:\n",
      "[ (1,1) x1,y1 ]  [ (1,2) x2,y2 ]\n",
      "\n"
     ]
    },
    {
     "data": {
      "text/html": [
       "<iframe id=\"igraph\" scrolling=\"no\" style=\"border:none;\" seamless=\"seamless\" src=\"https://plot.ly/~mehtapc/288.embed\" height=\"600px\" width=\"800px\"></iframe>"
      ],
      "text/plain": [
       "<chart_studio.tools.PlotlyDisplay object>"
      ]
     },
     "execution_count": 87,
     "metadata": {},
     "output_type": "execute_result"
    }
   ],
   "source": [
    "\n",
    "logit_RandomizedSearchCV = LogisticRegression(C=100.0, class_weight=None, dual=False, fit_intercept=True,\n",
    "          intercept_scaling=1, max_iter=100, multi_class='ovr', n_jobs=1,\n",
    "          penalty='l1', random_state=None, solver='liblinear', tol=0.0001,\n",
    "          verbose=0, warm_start=False)\n",
    "\n",
    "employee_attrition_prediction(logit_RandomizedSearchCV,train_X,test_X,train_Y,test_Y,\n",
    "                         cols2,\"coefficients\",threshold_plot = True)"
   ]
  },
  {
   "cell_type": "markdown",
   "metadata": {},
   "source": [
    "## 5.2 Logistic Regression(Örneklem Artırma) Modeli"
   ]
  },
  {
   "cell_type": "code",
   "execution_count": 88,
   "metadata": {},
   "outputs": [],
   "source": [
    "from sklearn.utils import resample\n",
    "\n",
    "X=employee_sade.drop('Attrition', axis=1)\n",
    "\n",
    "cols= [i for i in X.columns]\n",
    "\n",
    "ise_devam = employee_sade[employee_sade.Attrition == 0]\n",
    "isten_ayrilan = employee_sade[employee_sade.Attrition == 1]\n",
    "\n",
    "isten_ayrilan_artırılmış = resample(isten_ayrilan,\n",
    "                                     replace = True,\n",
    "                                     n_samples = len(ise_devam),\n",
    "                                     random_state = 111)\n",
    "\n",
    "artırılmıs_employee = pd.concat([ise_devam, isten_ayrilan_artırılmış])\n",
    "artırılmıs_employee['Attrition'].value_counts()\n",
    "\n",
    "X_up = artırılmıs_employee.drop('Attrition', axis=1)\n",
    "y_up = artırılmıs_employee['Attrition']\n",
    "\n",
    "#Split train and test data\n",
    "up_train_X,up_test_X,up_train_Y,up_test_Y = train_test_split(X_up,y_up,\n",
    "                                                             test_size = .20 ,\n",
    "                                                            random_state = 111)"
   ]
  },
  {
   "cell_type": "markdown",
   "metadata": {},
   "source": [
    "### 5.2.1 Hiperparametrelerin GridSearchCV ile ayarlaması"
   ]
  },
  {
   "cell_type": "code",
   "execution_count": 89,
   "metadata": {},
   "outputs": [
    {
     "name": "stdout",
     "output_type": "stream",
     "text": [
      "En iyi parametreler :  {'C': 0.01, 'penalty': 'l2'}\n",
      "En iyi skor         :  0.7060016220600163\n"
     ]
    }
   ],
   "source": [
    "\n",
    "grid_cv = GridSearchCV(estimator=logreg,\n",
    "                       param_grid = parametreler,\n",
    "                       cv = 10\n",
    "                      )\n",
    "grid_cv.fit(X_up, y_up)\n",
    "print(\"En iyi parametreler : \", grid_cv.best_params_)\n",
    "print(\"En iyi skor         : \", grid_cv.best_score_)"
   ]
  },
  {
   "cell_type": "code",
   "execution_count": 90,
   "metadata": {},
   "outputs": [
    {
     "name": "stdout",
     "output_type": "stream",
     "text": [
      "LogisticRegression(C=0.01, class_weight=None, dual=False, fit_intercept=True,\n",
      "                   intercept_scaling=1, l1_ratio=None, max_iter=100,\n",
      "                   multi_class='ovr', n_jobs=1, penalty='l2', random_state=None,\n",
      "                   solver='liblinear', tol=0.0001, verbose=0, warm_start=False)\n",
      "\n",
      " Classification report : \n",
      "               precision    recall  f1-score   support\n",
      "\n",
      "           0       0.68      0.73      0.71       252\n",
      "           1       0.70      0.64      0.67       242\n",
      "\n",
      "    accuracy                           0.69       494\n",
      "   macro avg       0.69      0.69      0.69       494\n",
      "weighted avg       0.69      0.69      0.69       494\n",
      "\n",
      "Accuracy   Score :  0.6902834008097166\n",
      "Area under curve :  0.689377541650269 \n",
      "\n",
      "This is the format of your plot grid:\n",
      "[ (1,1) x1,y1 ]  [ (1,2) x2,y2 ]\n",
      "\n"
     ]
    },
    {
     "data": {
      "text/html": [
       "<iframe id=\"igraph\" scrolling=\"no\" style=\"border:none;\" seamless=\"seamless\" src=\"https://plot.ly/~mehtapc/290.embed\" height=\"600px\" width=\"800px\"></iframe>"
      ],
      "text/plain": [
       "<chart_studio.tools.PlotlyDisplay object>"
      ]
     },
     "execution_count": 90,
     "metadata": {},
     "output_type": "execute_result"
    }
   ],
   "source": [
    "logit_up_GridSearchCV = LogisticRegression(C=0.01, class_weight=None, dual=False, fit_intercept=True,\n",
    "                                 intercept_scaling=1, max_iter=100, multi_class='ovr', n_jobs=1,\n",
    "                                 penalty='l2', random_state=None, solver='liblinear', tol=0.0001,\n",
    "                                 verbose=0, warm_start=False)\n",
    "\n",
    "employee_attrition_prediction(logit_up_GridSearchCV,up_train_X,up_test_X,up_train_Y,up_test_Y,\n",
    "                              cols,\"coefficients\",threshold_plot = True)\n"
   ]
  },
  {
   "cell_type": "markdown",
   "metadata": {},
   "source": [
    "### 5.2.2 Hiperparametrelerin RandomizedSearchCV ile ayarlaması"
   ]
  },
  {
   "cell_type": "code",
   "execution_count": 91,
   "metadata": {},
   "outputs": [
    {
     "name": "stdout",
     "output_type": "stream",
     "text": [
      "En iyi parametreler        :  {'penalty': 'l2', 'C': 0.0001}\n"
     ]
    }
   ],
   "source": [
    "logreg = LogisticRegression()\n",
    "rs_cv = RandomizedSearchCV(estimator=logreg,\n",
    "                           param_distributions = parametreler,\n",
    "                           cv = 10,\n",
    "                           n_iter = 10,\n",
    "                           random_state = 111,\n",
    "                           scoring = 'precision'\n",
    "                      )\n",
    "rs_cv.fit(X_up, y_up)\n",
    "\n",
    "print(\"En iyi parametreler        : \", rs_cv.best_params_)"
   ]
  },
  {
   "cell_type": "code",
   "execution_count": 93,
   "metadata": {},
   "outputs": [
    {
     "name": "stdout",
     "output_type": "stream",
     "text": [
      "LogisticRegression(C=0.0001, class_weight=None, dual=False, fit_intercept=True,\n",
      "                   intercept_scaling=1, l1_ratio=None, max_iter=100,\n",
      "                   multi_class='ovr', n_jobs=1, penalty='l2', random_state=None,\n",
      "                   solver='liblinear', tol=0.0001, verbose=0, warm_start=False)\n",
      "\n",
      " Classification report : \n",
      "               precision    recall  f1-score   support\n",
      "\n",
      "           0       0.56      0.90      0.70       252\n",
      "           1       0.73      0.27      0.40       242\n",
      "\n",
      "    accuracy                           0.60       494\n",
      "   macro avg       0.65      0.59      0.55       494\n",
      "weighted avg       0.65      0.60      0.55       494\n",
      "\n",
      "Accuracy   Score :  0.5951417004048583\n",
      "Area under curve :  0.5887445887445888 \n",
      "\n",
      "This is the format of your plot grid:\n",
      "[ (1,1) x1,y1 ]  [ (1,2) x2,y2 ]\n",
      "\n"
     ]
    },
    {
     "data": {
      "text/html": [
       "<iframe id=\"igraph\" scrolling=\"no\" style=\"border:none;\" seamless=\"seamless\" src=\"https://plot.ly/~mehtapc/292.embed\" height=\"600px\" width=\"800px\"></iframe>"
      ],
      "text/plain": [
       "<chart_studio.tools.PlotlyDisplay object>"
      ]
     },
     "execution_count": 93,
     "metadata": {},
     "output_type": "execute_result"
    }
   ],
   "source": [
    "\n",
    "logit_up_RandomizedSearchCV = LogisticRegression(C=0.0001, class_weight=None, dual=False, fit_intercept=True,\n",
    "                                 intercept_scaling=1, max_iter=100, multi_class='ovr', n_jobs=1,\n",
    "                                 penalty='l2', random_state=None, solver='liblinear', tol=0.0001,\n",
    "                                 verbose=0, warm_start=False)\n",
    "\n",
    "employee_attrition_prediction(logit_up_RandomizedSearchCV,up_train_X,up_test_X,up_train_Y,up_test_Y,\n",
    "                              cols,\"coefficients\",threshold_plot = True)"
   ]
  },
  {
   "cell_type": "markdown",
   "metadata": {},
   "source": [
    "## 5.3 Logistic Regression(RFE(Örneklem Arttırmak) ) Modeli "
   ]
  },
  {
   "cell_type": "code",
   "execution_count": 94,
   "metadata": {},
   "outputs": [],
   "source": [
    "# Örneklem Artırma\n",
    "\n",
    "from sklearn.utils import resample\n",
    "\n",
    "X=employee_sade2.drop('Attrition', axis=1)\n",
    "\n",
    "cols= [i for i in X.columns]\n",
    "\n",
    "ise_devam = employee_sade2[employee_sade2.Attrition == 0]\n",
    "isten_ayrilan = employee_sade2[employee_sade2.Attrition == 1]\n",
    "\n",
    "isten_ayrilan_artırılmış = resample(isten_ayrilan,\n",
    "                                     replace = True,\n",
    "                                     n_samples = len(ise_devam),\n",
    "                                     random_state = 111)\n",
    "\n",
    "artırılmıs_employee = pd.concat([ise_devam, isten_ayrilan_artırılmış])\n",
    "artırılmıs_employee['Attrition'].value_counts()\n",
    "\n",
    "X_up = artırılmıs_employee.drop('Attrition', axis=1)\n",
    "y_up = artırılmıs_employee['Attrition']"
   ]
  },
  {
   "cell_type": "code",
   "execution_count": 95,
   "metadata": {},
   "outputs": [],
   "source": [
    "\n",
    "from sklearn.feature_selection import RFE\n",
    "import plotly.figure_factory as ff#visualization\n",
    "\n",
    "logit = LogisticRegression()\n",
    "\n",
    "rfe = RFE(logit,10)\n",
    "rfe = rfe.fit(X_up,y_up.values.ravel())\n",
    "\n",
    "rfe.support_\n",
    "rfe.ranking_\n",
    "\n",
    "#identified columns Recursive Feature Elimination\n",
    "idc_rfe = pd.DataFrame({\"rfe_support\" :rfe.support_,\n",
    "                       \"columns\" : [i for i in cols2],\n",
    "                       \"ranking\" : rfe.ranking_,\n",
    "                      })\n",
    "colss = idc_rfe[idc_rfe[\"rfe_support\"] == True][\"columns\"].tolist()\n",
    "\n",
    "up_X_rfe=X_up[colss]\n",
    "up_Y_rfe=y_up\n",
    "\n",
    "###\n",
    "#Split train and test data\n",
    "up_rfe_train_X,up_rfe_test_X,up_rfe_train_Y,up_rfe_test_Y = train_test_split(up_X_rfe,up_Y_rfe,\n",
    "                                                                         test_size = .20 , random_state=111)\n"
   ]
  },
  {
   "cell_type": "markdown",
   "metadata": {},
   "source": [
    "### 5.3.1 Hiperparametrelerin GridSearchCV ile ayarlaması"
   ]
  },
  {
   "cell_type": "code",
   "execution_count": 96,
   "metadata": {},
   "outputs": [
    {
     "name": "stdout",
     "output_type": "stream",
     "text": [
      "En iyi parametreler :  {'C': 10, 'penalty': 'l1'}\n",
      "En iyi skor         :  0.708029197080292\n"
     ]
    }
   ],
   "source": [
    "grid_cv = GridSearchCV(estimator=logreg,\n",
    "                       param_grid = parametreler,\n",
    "                       cv = 10\n",
    "                      )\n",
    "grid_cv.fit(up_X_rfe, up_Y_rfe)\n",
    "print(\"En iyi parametreler : \", grid_cv.best_params_)\n",
    "print(\"En iyi skor         : \", grid_cv.best_score_)"
   ]
  },
  {
   "cell_type": "code",
   "execution_count": 97,
   "metadata": {},
   "outputs": [
    {
     "name": "stdout",
     "output_type": "stream",
     "text": [
      "LogisticRegression(C=10.0, class_weight=None, dual=False, fit_intercept=True,\n",
      "                   intercept_scaling=1, l1_ratio=None, max_iter=100,\n",
      "                   multi_class='ovr', n_jobs=1, penalty='l1', random_state=None,\n",
      "                   solver='liblinear', tol=0.0001, verbose=0, warm_start=False)\n",
      "\n",
      " Classification report : \n",
      "               precision    recall  f1-score   support\n",
      "\n",
      "           0       0.69      0.73      0.71       252\n",
      "           1       0.70      0.66      0.68       242\n",
      "\n",
      "    accuracy                           0.70       494\n",
      "   macro avg       0.70      0.70      0.70       494\n",
      "weighted avg       0.70      0.70      0.70       494\n",
      "\n",
      "Accuracy   Score :  0.6963562753036437\n",
      "Area under curve :  0.6956578774760593 \n",
      "\n",
      "This is the format of your plot grid:\n",
      "[ (1,1) x1,y1 ]  [ (1,2) x2,y2 ]\n",
      "\n"
     ]
    },
    {
     "data": {
      "text/html": [
       "<iframe id=\"igraph\" scrolling=\"no\" style=\"border:none;\" seamless=\"seamless\" src=\"https://plot.ly/~mehtapc/294.embed\" height=\"600px\" width=\"800px\"></iframe>"
      ],
      "text/plain": [
       "<chart_studio.tools.PlotlyDisplay object>"
      ]
     },
     "execution_count": 97,
     "metadata": {},
     "output_type": "execute_result"
    }
   ],
   "source": [
    "\n",
    "logit_up_rfe_GridSearchCV = LogisticRegression(C=10.0, class_weight=None, dual=False, fit_intercept=True,\n",
    "                                 intercept_scaling=1, max_iter=100, multi_class='ovr', n_jobs=1,\n",
    "                                 penalty='l1', random_state=None, solver='liblinear', tol=0.0001,\n",
    "                                 verbose=0, warm_start=False)\n",
    "\n",
    "employee_attrition_prediction(logit_up_rfe_GridSearchCV,up_rfe_train_X,up_rfe_test_X,up_rfe_train_Y,up_rfe_test_Y,\n",
    "                              cols,\"coefficients\",threshold_plot = True)"
   ]
  },
  {
   "cell_type": "markdown",
   "metadata": {},
   "source": [
    "### 5.3.2 Hiperparametrelerin RandomizedSearchCV ile ayarlaması"
   ]
  },
  {
   "cell_type": "code",
   "execution_count": 98,
   "metadata": {},
   "outputs": [
    {
     "name": "stdout",
     "output_type": "stream",
     "text": [
      "En iyi parametreler        :  {'penalty': 'l2', 'C': 0.0001}\n"
     ]
    }
   ],
   "source": [
    "logreg = LogisticRegression()\n",
    "rs_cv = RandomizedSearchCV(estimator=logreg,\n",
    "                           param_distributions = parametreler,\n",
    "                           cv = 10,\n",
    "                           n_iter = 10,\n",
    "                           random_state = 111,\n",
    "                           scoring = 'precision'\n",
    "                      )\n",
    "rs_cv.fit(up_X_rfe, up_Y_rfe)\n",
    "\n",
    "print(\"En iyi parametreler        : \", rs_cv.best_params_)"
   ]
  },
  {
   "cell_type": "code",
   "execution_count": 99,
   "metadata": {},
   "outputs": [
    {
     "name": "stdout",
     "output_type": "stream",
     "text": [
      "LogisticRegression(C=0.0001, class_weight=None, dual=False, fit_intercept=True,\n",
      "                   intercept_scaling=1, l1_ratio=None, max_iter=100,\n",
      "                   multi_class='ovr', n_jobs=1, penalty='l2', random_state=None,\n",
      "                   solver='liblinear', tol=0.0001, verbose=0, warm_start=False)\n",
      "\n",
      " Classification report : \n",
      "               precision    recall  f1-score   support\n",
      "\n",
      "           0       0.53      0.98      0.69       252\n",
      "           1       0.86      0.10      0.18       242\n",
      "\n",
      "    accuracy                           0.55       494\n",
      "   macro avg       0.70      0.54      0.44       494\n",
      "weighted avg       0.69      0.55      0.44       494\n",
      "\n",
      "Accuracy   Score :  0.5526315789473685\n",
      "Area under curve :  0.5437163846254756 \n",
      "\n",
      "This is the format of your plot grid:\n",
      "[ (1,1) x1,y1 ]  [ (1,2) x2,y2 ]\n",
      "\n"
     ]
    },
    {
     "data": {
      "text/html": [
       "<iframe id=\"igraph\" scrolling=\"no\" style=\"border:none;\" seamless=\"seamless\" src=\"https://plot.ly/~mehtapc/296.embed\" height=\"600px\" width=\"800px\"></iframe>"
      ],
      "text/plain": [
       "<chart_studio.tools.PlotlyDisplay object>"
      ]
     },
     "execution_count": 99,
     "metadata": {},
     "output_type": "execute_result"
    }
   ],
   "source": [
    "\n",
    "logit_up_rfe_RandomizedSearchCV = LogisticRegression(C=0.0001, class_weight=None, dual=False, fit_intercept=True,\n",
    "                                 intercept_scaling=1, max_iter=100, multi_class='ovr', n_jobs=1,\n",
    "                                 penalty='l2', random_state=None, solver='liblinear', tol=0.0001,\n",
    "                                 verbose=0, warm_start=False)\n",
    "\n",
    "employee_attrition_prediction(logit_up_rfe_RandomizedSearchCV,up_rfe_train_X,up_rfe_test_X,up_rfe_train_Y,up_rfe_test_Y,\n",
    "                              cols,\"coefficients\",threshold_plot = True)\n"
   ]
  },
  {
   "cell_type": "markdown",
   "metadata": {},
   "source": [
    "## 5.4 Logistic Regression(Örneklem azaltmak) Modeli "
   ]
  },
  {
   "cell_type": "code",
   "execution_count": 100,
   "metadata": {},
   "outputs": [],
   "source": [
    "\n",
    "ise_devam = employee_sade[employee_sade.Attrition == 0]\n",
    "isten_ayrilan = employee_sade[employee_sade.Attrition == 1]\n",
    "\n",
    "ise_devam_azaltılmış = resample(ise_devam,\n",
    "                                     replace = True,\n",
    "                                     n_samples = len(isten_ayrilan),\n",
    "                                     random_state = 111)\n",
    "\n",
    "azaltılmış_employee = pd.concat([isten_ayrilan, ise_devam_azaltılmış])\n",
    "azaltılmış_employee['Attrition'].value_counts()\n",
    "\n",
    "\n",
    "X_down = azaltılmış_employee.drop('Attrition', axis=1)\n",
    "y_down = azaltılmış_employee['Attrition']"
   ]
  },
  {
   "cell_type": "markdown",
   "metadata": {},
   "source": [
    "### 5.4.1 Hiperparametrelerin GridSearchCV ile ayarlaması"
   ]
  },
  {
   "cell_type": "code",
   "execution_count": 101,
   "metadata": {},
   "outputs": [
    {
     "name": "stdout",
     "output_type": "stream",
     "text": [
      "En iyi parametreler :  {'C': 100, 'penalty': 'l2'}\n",
      "En iyi skor         :  0.7489451476793249\n"
     ]
    }
   ],
   "source": [
    "import warnings\n",
    "warnings.filterwarnings('ignore')\n",
    "grid_cv = GridSearchCV(estimator=logreg,\n",
    "                       param_grid = parametreler,\n",
    "                       cv = 10\n",
    "                      )\n",
    "grid_cv.fit(X_down, y_down)\n",
    "print(\"En iyi parametreler : \", grid_cv.best_params_)\n",
    "print(\"En iyi skor         : \", grid_cv.best_score_)"
   ]
  },
  {
   "cell_type": "code",
   "execution_count": 102,
   "metadata": {},
   "outputs": [
    {
     "name": "stdout",
     "output_type": "stream",
     "text": [
      "LogisticRegression(C=100, class_weight=None, dual=False, fit_intercept=True,\n",
      "                   intercept_scaling=1, l1_ratio=None, max_iter=100,\n",
      "                   multi_class='ovr', n_jobs=1, penalty='l2', random_state=None,\n",
      "                   solver='liblinear', tol=0.0001, verbose=0, warm_start=False)\n",
      "\n",
      " Classification report : \n",
      "               precision    recall  f1-score   support\n",
      "\n",
      "           0       0.73      0.75      0.74        48\n",
      "           1       0.74      0.72      0.73        47\n",
      "\n",
      "    accuracy                           0.74        95\n",
      "   macro avg       0.74      0.74      0.74        95\n",
      "weighted avg       0.74      0.74      0.74        95\n",
      "\n",
      "Accuracy   Score :  0.7368421052631579\n",
      "Area under curve :  0.7367021276595744 \n",
      "\n",
      "This is the format of your plot grid:\n",
      "[ (1,1) x1,y1 ]  [ (1,2) x2,y2 ]\n",
      "\n"
     ]
    },
    {
     "data": {
      "text/html": [
       "<iframe id=\"igraph\" scrolling=\"no\" style=\"border:none;\" seamless=\"seamless\" src=\"https://plot.ly/~mehtapc/298.embed\" height=\"600px\" width=\"800px\"></iframe>"
      ],
      "text/plain": [
       "<chart_studio.tools.PlotlyDisplay object>"
      ]
     },
     "execution_count": 102,
     "metadata": {},
     "output_type": "execute_result"
    }
   ],
   "source": [
    "#Split train and test data\n",
    "down_train_X,down_test_X,down_train_Y,down_test_Y = train_test_split(X_down,y_down,\n",
    "                                                             test_size = .20 ,\n",
    "                                                            random_state = 111)\n",
    "\n",
    "\n",
    "logit_down_GridSearchCV = LogisticRegression(C=100, class_weight=None, dual=False, fit_intercept=True,\n",
    "                                 intercept_scaling=1, max_iter=100, multi_class='ovr', n_jobs=1,\n",
    "                                 penalty='l2', random_state=None, solver='liblinear', tol=0.0001,\n",
    "                                 verbose=0, warm_start=False)\n",
    "\n",
    "employee_attrition_prediction(logit_down_GridSearchCV,down_train_X,down_test_X,down_train_Y,down_test_Y,\n",
    "                              cols,\"coefficients\",threshold_plot = True)"
   ]
  },
  {
   "cell_type": "markdown",
   "metadata": {},
   "source": [
    "### 5.4.2 Hiperparametrelerin RandomizedSearchCV ile ayarlaması"
   ]
  },
  {
   "cell_type": "code",
   "execution_count": 103,
   "metadata": {},
   "outputs": [
    {
     "name": "stdout",
     "output_type": "stream",
     "text": [
      "En iyi parametreler        :  {'penalty': 'l2', 'C': 1}\n"
     ]
    }
   ],
   "source": [
    "import warnings\n",
    "import plotly \n",
    "plotly.tools.set_credentials_file(username='mehtappathemc', api_key='AJ2gJst9m09ln77OoKa3')\n",
    "warnings.filterwarnings('ignore')\n",
    "logreg = LogisticRegression()\n",
    "rs_cv = RandomizedSearchCV(estimator=logreg,\n",
    "                           param_distributions = parametreler,\n",
    "                           cv = 10,\n",
    "                           n_iter = 10,\n",
    "                           random_state = 111,\n",
    "                           scoring = 'precision'\n",
    "                      )\n",
    "rs_cv.fit(X_down, y_down)\n",
    "\n",
    "print(\"En iyi parametreler        : \", rs_cv.best_params_)"
   ]
  },
  {
   "cell_type": "code",
   "execution_count": 104,
   "metadata": {},
   "outputs": [
    {
     "name": "stdout",
     "output_type": "stream",
     "text": [
      "LogisticRegression(C=1.0, class_weight=None, dual=False, fit_intercept=True,\n",
      "                   intercept_scaling=1, l1_ratio=None, max_iter=100,\n",
      "                   multi_class='ovr', n_jobs=1, penalty='l2', random_state=None,\n",
      "                   solver='liblinear', tol=0.0001, verbose=0, warm_start=False)\n",
      "\n",
      " Classification report : \n",
      "               precision    recall  f1-score   support\n",
      "\n",
      "           0       0.73      0.75      0.74        48\n",
      "           1       0.74      0.72      0.73        47\n",
      "\n",
      "    accuracy                           0.74        95\n",
      "   macro avg       0.74      0.74      0.74        95\n",
      "weighted avg       0.74      0.74      0.74        95\n",
      "\n",
      "Accuracy   Score :  0.7368421052631579\n",
      "Area under curve :  0.7367021276595744 \n",
      "\n",
      "This is the format of your plot grid:\n",
      "[ (1,1) x1,y1 ]  [ (1,2) x2,y2 ]\n",
      "\n"
     ]
    },
    {
     "data": {
      "text/html": [
       "<iframe id=\"igraph\" scrolling=\"no\" style=\"border:none;\" seamless=\"seamless\" src=\"https://plot.ly/~mehtappathemc/230.embed\" height=\"600px\" width=\"800px\"></iframe>"
      ],
      "text/plain": [
       "<chart_studio.tools.PlotlyDisplay object>"
      ]
     },
     "execution_count": 104,
     "metadata": {},
     "output_type": "execute_result"
    }
   ],
   "source": [
    "logit_down_RandomizedSearchCV = LogisticRegression(C=1.0, class_weight=None, dual=False, fit_intercept=True,\n",
    "                                 intercept_scaling=1, max_iter=100, multi_class='ovr', n_jobs=1,\n",
    "                                 penalty='l2', random_state=None, solver='liblinear', tol=0.0001,\n",
    "                                 verbose=0, warm_start=False)\n",
    "\n",
    "employee_attrition_prediction(logit_down_RandomizedSearchCV,down_train_X,down_test_X,down_train_Y,down_test_Y,\n",
    "                              cols,\"coefficients\",threshold_plot = True)"
   ]
  },
  {
   "cell_type": "markdown",
   "metadata": {},
   "source": [
    "## 5.5 Logistic Regression(RFE(Örneklem azaltmak)) "
   ]
  },
  {
   "cell_type": "code",
   "execution_count": 105,
   "metadata": {},
   "outputs": [],
   "source": [
    "ise_devam = employee_sade2[employee_sade2.Attrition == 0]\n",
    "isten_ayrilan = employee_sade2[employee_sade2.Attrition == 1]\n",
    "\n",
    "ise_devam_azaltılmış = resample(ise_devam,\n",
    "                                     replace = True,\n",
    "                                     n_samples = len(isten_ayrilan),\n",
    "                                     random_state = 111)\n",
    "\n",
    "azaltılmış_employee = pd.concat([isten_ayrilan, ise_devam_azaltılmış])\n",
    "azaltılmış_employee['Attrition'].value_counts()\n",
    "\n",
    "\n",
    "X_down_rfe = azaltılmış_employee.drop('Attrition', axis=1)\n",
    "y_down_rfe = azaltılmış_employee['Attrition']"
   ]
  },
  {
   "cell_type": "code",
   "execution_count": 106,
   "metadata": {},
   "outputs": [],
   "source": [
    "logit = LogisticRegression()\n",
    "\n",
    "rfe = RFE(logit,10)\n",
    "rfe = rfe.fit(X_down_rfe,y_down_rfe.values.ravel())\n",
    "\n",
    "rfe.support_\n",
    "rfe.ranking_\n",
    "\n",
    "#identified columns Recursive Feature Elimination\n",
    "idc_rfe = pd.DataFrame({\"rfe_support\" :rfe.support_,\n",
    "                       \"columns\" : [i for i in cols2],\n",
    "                       \"ranking\" : rfe.ranking_,\n",
    "                      })\n",
    "colss = idc_rfe[idc_rfe[\"rfe_support\"] == True][\"columns\"].tolist()\n",
    "\n",
    "down_X_rfe=X_down_rfe[colss]\n",
    "down_Y_rfe=y_down_rfe\n",
    "\n",
    "###\n",
    "#Split train and test data\n",
    "down_rfe_train_X,down_rfe_test_X,down_rfe_train_Y,down_rfe_test_Y = train_test_split(down_X_rfe,down_Y_rfe,\n",
    "                                                                         test_size = .20 , random_state=111)"
   ]
  },
  {
   "cell_type": "markdown",
   "metadata": {},
   "source": [
    "### 5.5.1 Hiperparametrelerin GridSearchCV ile ayarlaması"
   ]
  },
  {
   "cell_type": "code",
   "execution_count": 107,
   "metadata": {},
   "outputs": [
    {
     "name": "stdout",
     "output_type": "stream",
     "text": [
      "En iyi parametreler :  {'C': 10, 'penalty': 'l1'}\n",
      "En iyi skor         :  0.7573839662447257\n"
     ]
    }
   ],
   "source": [
    "import warnings\n",
    "warnings.filterwarnings('ignore')\n",
    "grid_cv = GridSearchCV(estimator=logreg,\n",
    "                       param_grid = parametreler,\n",
    "                       cv = 10\n",
    "                      )\n",
    "grid_cv.fit(down_X_rfe, down_Y_rfe)\n",
    "print(\"En iyi parametreler : \", grid_cv.best_params_)\n",
    "print(\"En iyi skor         : \", grid_cv.best_score_)"
   ]
  },
  {
   "cell_type": "code",
   "execution_count": 108,
   "metadata": {},
   "outputs": [
    {
     "name": "stdout",
     "output_type": "stream",
     "text": [
      "LogisticRegression(C=10.0, class_weight=None, dual=False, fit_intercept=True,\n",
      "                   intercept_scaling=1, l1_ratio=None, max_iter=100,\n",
      "                   multi_class='ovr', n_jobs=1, penalty='l1', random_state=None,\n",
      "                   solver='liblinear', tol=0.0001, verbose=0, warm_start=False)\n",
      "\n",
      " Classification report : \n",
      "               precision    recall  f1-score   support\n",
      "\n",
      "           0       0.75      0.85      0.80        48\n",
      "           1       0.82      0.70      0.76        47\n",
      "\n",
      "    accuracy                           0.78        95\n",
      "   macro avg       0.79      0.78      0.78        95\n",
      "weighted avg       0.78      0.78      0.78        95\n",
      "\n",
      "Accuracy   Score :  0.7789473684210526\n",
      "Area under curve :  0.7781471631205674 \n",
      "\n",
      "This is the format of your plot grid:\n",
      "[ (1,1) x1,y1 ]  [ (1,2) x2,y2 ]\n",
      "\n"
     ]
    },
    {
     "data": {
      "text/html": [
       "<iframe id=\"igraph\" scrolling=\"no\" style=\"border:none;\" seamless=\"seamless\" src=\"https://plot.ly/~mehtappathemc/232.embed\" height=\"600px\" width=\"800px\"></iframe>"
      ],
      "text/plain": [
       "<chart_studio.tools.PlotlyDisplay object>"
      ]
     },
     "execution_count": 108,
     "metadata": {},
     "output_type": "execute_result"
    }
   ],
   "source": [
    "\n",
    "logit_down_rfe_GridSearchCV = LogisticRegression(C=10.0, class_weight=None, dual=False, fit_intercept=True,\n",
    "                                 intercept_scaling=1, max_iter=100, multi_class='ovr', n_jobs=1,\n",
    "                                 penalty='l1', random_state=None, solver='liblinear', tol=0.0001,\n",
    "                                 verbose=0, warm_start=False)\n",
    "\n",
    "employee_attrition_prediction(logit_down_rfe_GridSearchCV,down_rfe_train_X,down_rfe_test_X,down_rfe_train_Y,down_rfe_test_Y,\n",
    "                              cols,\"coefficients\",threshold_plot = True)"
   ]
  },
  {
   "cell_type": "markdown",
   "metadata": {},
   "source": [
    "### 5.5.2 Hiperparametrelerin RandomizedSearchCV ile ayarlaması"
   ]
  },
  {
   "cell_type": "code",
   "execution_count": 109,
   "metadata": {},
   "outputs": [
    {
     "name": "stdout",
     "output_type": "stream",
     "text": [
      "En iyi parametreler        :  {'penalty': 'l2', 'C': 0.001}\n"
     ]
    }
   ],
   "source": [
    "import warnings\n",
    "warnings.filterwarnings('ignore')\n",
    "logreg = LogisticRegression()\n",
    "rs_cv = RandomizedSearchCV(estimator=logreg,\n",
    "                           param_distributions = parametreler,\n",
    "                           cv = 10,\n",
    "                           n_iter = 10,\n",
    "                           random_state = 111,\n",
    "                           scoring = 'precision'\n",
    "                      )\n",
    "rs_cv.fit(down_X_rfe, down_Y_rfe)\n",
    "\n",
    "print(\"En iyi parametreler        : \", rs_cv.best_params_)"
   ]
  },
  {
   "cell_type": "code",
   "execution_count": 110,
   "metadata": {},
   "outputs": [
    {
     "name": "stdout",
     "output_type": "stream",
     "text": [
      "LogisticRegression(C=0.001, class_weight=None, dual=False, fit_intercept=True,\n",
      "                   intercept_scaling=1, l1_ratio=None, max_iter=100,\n",
      "                   multi_class='ovr', n_jobs=1, penalty='l2', random_state=None,\n",
      "                   solver='liblinear', tol=0.0001, verbose=0, warm_start=False)\n",
      "\n",
      " Classification report : \n",
      "               precision    recall  f1-score   support\n",
      "\n",
      "           0       0.55      1.00      0.71        48\n",
      "           1       1.00      0.17      0.29        47\n",
      "\n",
      "    accuracy                           0.59        95\n",
      "   macro avg       0.78      0.59      0.50        95\n",
      "weighted avg       0.77      0.59      0.50        95\n",
      "\n",
      "Accuracy   Score :  0.5894736842105263\n",
      "Area under curve :  0.5851063829787234 \n",
      "\n",
      "This is the format of your plot grid:\n",
      "[ (1,1) x1,y1 ]  [ (1,2) x2,y2 ]\n",
      "\n"
     ]
    },
    {
     "data": {
      "text/html": [
       "<iframe id=\"igraph\" scrolling=\"no\" style=\"border:none;\" seamless=\"seamless\" src=\"https://plot.ly/~mehtappathemc/234.embed\" height=\"600px\" width=\"800px\"></iframe>"
      ],
      "text/plain": [
       "<chart_studio.tools.PlotlyDisplay object>"
      ]
     },
     "execution_count": 110,
     "metadata": {},
     "output_type": "execute_result"
    }
   ],
   "source": [
    "logit_down_rfe_RandomizedSearchCV = LogisticRegression(C=0.001, class_weight=None, dual=False, fit_intercept=True,\n",
    "                                 intercept_scaling=1, max_iter=100, multi_class='ovr', n_jobs=1,\n",
    "                                 penalty='l2', random_state=None, solver='liblinear', tol=0.0001,\n",
    "                                 verbose=0, warm_start=False)\n",
    "\n",
    "employee_attrition_prediction(logit_down_rfe_RandomizedSearchCV,down_rfe_train_X,down_rfe_test_X,down_rfe_train_Y,down_rfe_test_Y,\n",
    "                              cols,\"coefficients\",threshold_plot = True)"
   ]
  },
  {
   "cell_type": "markdown",
   "metadata": {},
   "source": [
    "## 5.6 Logistic Regression (SMOTE)\n"
   ]
  },
  {
   "cell_type": "code",
   "execution_count": 111,
   "metadata": {},
   "outputs": [],
   "source": [
    "from imblearn.over_sampling import SMOTE\n",
    "X=employee_sade.drop('Attrition', axis=1)\n",
    "\n",
    "cols= [i for i in X.columns]\n",
    "smote_X = employee_sade[cols]\n",
    "smote_Y = employee_sade[target_col]\n",
    "\n",
    "#oversampling minority class using smote\n",
    "os = SMOTE(random_state = 0)\n",
    "os_smote_X, os_smote_Y = os.fit_sample(smote_X,smote_Y)\n",
    "os_smote_X = pd.DataFrame(data = os_smote_X,columns=cols)\n",
    "os_smote_Y = pd.DataFrame(data = os_smote_Y,columns=target_col)\n",
    "\n",
    "###\n",
    "#Split train and test data\n",
    "smote_train_X,smote_test_X,smote_train_Y,smote_test_Y = train_test_split(os_smote_X,os_smote_Y,\n",
    "                                                                         test_size = .20 ,\n",
    "                                                                         random_state = 111)"
   ]
  },
  {
   "cell_type": "markdown",
   "metadata": {},
   "source": [
    "### 5.6.1 Hiperparametrelerin GridSearchCV ile belirlemesi"
   ]
  },
  {
   "cell_type": "code",
   "execution_count": 112,
   "metadata": {},
   "outputs": [
    {
     "name": "stdout",
     "output_type": "stream",
     "text": [
      "En iyi parametreler :  {'C': 100, 'penalty': 'l1'}\n",
      "En iyi skor         :  0.7903487429034874\n"
     ]
    }
   ],
   "source": [
    "logreg = LogisticRegression()\n",
    "grid_cv = GridSearchCV(estimator=logreg,\n",
    "                       param_grid = parametreler,\n",
    "                       cv = 10\n",
    "                      )\n",
    "grid_cv.fit(os_smote_X, os_smote_Y)\n",
    "print(\"En iyi parametreler : \", grid_cv.best_params_)\n",
    "print(\"En iyi skor         : \", grid_cv.best_score_)\n"
   ]
  },
  {
   "cell_type": "code",
   "execution_count": 113,
   "metadata": {},
   "outputs": [
    {
     "name": "stdout",
     "output_type": "stream",
     "text": [
      "LogisticRegression(C=1000.0, class_weight=None, dual=False, fit_intercept=True,\n",
      "                   intercept_scaling=1, l1_ratio=None, max_iter=100,\n",
      "                   multi_class='ovr', n_jobs=1, penalty='l1', random_state=None,\n",
      "                   solver='liblinear', tol=0.0001, verbose=0, warm_start=False)\n",
      "\n",
      " Classification report : \n",
      "               precision    recall  f1-score   support\n",
      "\n",
      "           0       0.81      0.80      0.81       245\n",
      "           1       0.81      0.82      0.81       249\n",
      "\n",
      "    accuracy                           0.81       494\n",
      "   macro avg       0.81      0.81      0.81       494\n",
      "weighted avg       0.81      0.81      0.81       494\n",
      "\n",
      "Accuracy   Score :  0.8097165991902834\n",
      "Area under curve :  0.809671338414884 \n",
      "\n",
      "This is the format of your plot grid:\n",
      "[ (1,1) x1,y1 ]  [ (1,2) x2,y2 ]\n",
      "\n"
     ]
    },
    {
     "data": {
      "text/html": [
       "<iframe id=\"igraph\" scrolling=\"no\" style=\"border:none;\" seamless=\"seamless\" src=\"https://plot.ly/~mehtappathemc/236.embed\" height=\"600px\" width=\"800px\"></iframe>"
      ],
      "text/plain": [
       "<chart_studio.tools.PlotlyDisplay object>"
      ]
     },
     "execution_count": 113,
     "metadata": {},
     "output_type": "execute_result"
    }
   ],
   "source": [
    "logit_smote_GridSearchCV = LogisticRegression(C=1000.0, class_weight=None, dual=False, fit_intercept=True,\n",
    "                                 intercept_scaling=1, max_iter=100, multi_class='ovr', n_jobs=1,\n",
    "                                 penalty='l1', random_state=None, solver='liblinear', tol=0.0001,\n",
    "                                 verbose=0, warm_start=False)\n",
    "\n",
    "employee_attrition_prediction(logit_smote_GridSearchCV,smote_train_X,smote_test_X,smote_train_Y,smote_test_Y,\n",
    "                              cols,\"coefficients\",threshold_plot = True)\n"
   ]
  },
  {
   "cell_type": "markdown",
   "metadata": {},
   "source": [
    "### 5.6.2 Hiperparametrelerin RandomizedSearchCV ile belirlemesi"
   ]
  },
  {
   "cell_type": "code",
   "execution_count": 114,
   "metadata": {},
   "outputs": [
    {
     "name": "stdout",
     "output_type": "stream",
     "text": [
      "En iyi parametreler        :  {'penalty': 'l2', 'C': 0.0001}\n"
     ]
    }
   ],
   "source": [
    "\n",
    "logreg = LogisticRegression()\n",
    "rs_cv = RandomizedSearchCV(estimator=logreg,\n",
    "                           param_distributions = parametreler,\n",
    "                           cv = 10,\n",
    "                           n_iter = 10,\n",
    "                           random_state = 111,\n",
    "                           scoring = 'precision'\n",
    "                      )\n",
    "rs_cv.fit(os_smote_X, os_smote_Y)\n",
    "\n",
    "print(\"En iyi parametreler        : \", rs_cv.best_params_)"
   ]
  },
  {
   "cell_type": "code",
   "execution_count": 115,
   "metadata": {},
   "outputs": [
    {
     "name": "stdout",
     "output_type": "stream",
     "text": [
      "LogisticRegression(C=0.0001, class_weight=None, dual=False, fit_intercept=True,\n",
      "                   intercept_scaling=1, l1_ratio=None, max_iter=100,\n",
      "                   multi_class='ovr', n_jobs=1, penalty='l2', random_state=None,\n",
      "                   solver='liblinear', tol=0.0001, verbose=0, warm_start=False)\n",
      "\n",
      " Classification report : \n",
      "               precision    recall  f1-score   support\n",
      "\n",
      "           0       0.51      1.00      0.68       245\n",
      "           1       0.95      0.08      0.14       249\n",
      "\n",
      "    accuracy                           0.53       494\n",
      "   macro avg       0.73      0.54      0.41       494\n",
      "weighted avg       0.73      0.53      0.41       494\n",
      "\n",
      "Accuracy   Score :  0.5323886639676113\n",
      "Area under curve :  0.5361117941152365 \n",
      "\n",
      "This is the format of your plot grid:\n",
      "[ (1,1) x1,y1 ]  [ (1,2) x2,y2 ]\n",
      "\n"
     ]
    },
    {
     "data": {
      "text/html": [
       "<iframe id=\"igraph\" scrolling=\"no\" style=\"border:none;\" seamless=\"seamless\" src=\"https://plot.ly/~mehtappathemc/238.embed\" height=\"600px\" width=\"800px\"></iframe>"
      ],
      "text/plain": [
       "<chart_studio.tools.PlotlyDisplay object>"
      ]
     },
     "execution_count": 115,
     "metadata": {},
     "output_type": "execute_result"
    }
   ],
   "source": [
    "\n",
    "logit_smote_RandomizedSearchCV = LogisticRegression(C=0.0001, class_weight=None, dual=False, fit_intercept=True,\n",
    "                                 intercept_scaling=1, max_iter=100, multi_class='ovr', n_jobs=1,\n",
    "                                 penalty='l2', random_state=None, solver='liblinear', tol=0.0001,\n",
    "                                 verbose=0, warm_start=False)\n",
    "\n",
    "employee_attrition_prediction(logit_smote_RandomizedSearchCV,smote_train_X,smote_test_X,smote_train_Y,smote_test_Y,\n",
    "                              cols,\"coefficients\",threshold_plot = True)\n",
    "\n"
   ]
  },
  {
   "cell_type": "markdown",
   "metadata": {},
   "source": [
    "## 5.7 Logistic Regression (SMOTE_RFE)"
   ]
  },
  {
   "cell_type": "code",
   "execution_count": 116,
   "metadata": {},
   "outputs": [],
   "source": [
    "X=employee_sade2.drop('Attrition', axis=1)\n",
    "y=employee_sade2['Attrition']\n",
    "cols2    = [i for i in X.columns]\n",
    "target_col=['Attrition']\n",
    "\n",
    "smote_X_rfe = X\n",
    "smote_Y_rfe = employee_sade2['Attrition']\n",
    "\n",
    "#oversampling minority class using smote\n",
    "os = SMOTE(random_state = 0)\n",
    "os_smote_X,os_smote_Y = os.fit_sample(smote_X_rfe,smote_Y_rfe)\n",
    "os_smote_X_rfe = pd.DataFrame(data = os_smote_X,columns=cols2)\n",
    "os_smote_Y_rfe = pd.DataFrame(data = os_smote_Y,columns=target_col)"
   ]
  },
  {
   "cell_type": "code",
   "execution_count": 117,
   "metadata": {},
   "outputs": [],
   "source": [
    "\n",
    "from sklearn.feature_selection import RFE\n",
    "import plotly.figure_factory as ff#visualization\n",
    "\n",
    "logit = LogisticRegression()\n",
    "\n",
    "rfe = RFE(logit,10)\n",
    "rfe = rfe.fit(os_smote_X_rfe,os_smote_Y_rfe.values.ravel())\n",
    "\n",
    "rfe.support_\n",
    "rfe.ranking_\n",
    "\n",
    "#identified columns Recursive Feature Elimination\n",
    "idc_rfe = pd.DataFrame({\"rfe_support\" :rfe.support_,\n",
    "                       \"columns\" : [i for i in cols2],\n",
    "                       \"ranking\" : rfe.ranking_,\n",
    "                      })\n",
    "colss = idc_rfe[idc_rfe[\"rfe_support\"] == True][\"columns\"].tolist()\n",
    "\n",
    "smote_X_rfe=os_smote_X_rfe[colss]\n",
    "smote_Y_rfe=os_smote_Y_rfe[target_col]\n",
    "\n",
    "###\n",
    "#Split train and test data\n",
    "smote_rfe_train_X,smote_rfe_test_X,smote_rfe_train_Y,smote_rfe_test_Y = train_test_split(smote_X_rfe,smote_Y_rfe,\n",
    "                                                                         test_size = .20 , random_state=111)\n"
   ]
  },
  {
   "cell_type": "markdown",
   "metadata": {},
   "source": [
    "### 5.7.1 Hiperparametrelerin GridSearchCV ile belirlemesi\n"
   ]
  },
  {
   "cell_type": "code",
   "execution_count": 118,
   "metadata": {},
   "outputs": [
    {
     "name": "stdout",
     "output_type": "stream",
     "text": [
      "En iyi parametreler :  {'C': 1, 'penalty': 'l2'}\n",
      "En iyi skor         :  0.8223844282238443\n"
     ]
    }
   ],
   "source": [
    "\n",
    "logreg = LogisticRegression()\n",
    "grid_cv = GridSearchCV(estimator=logreg,\n",
    "                       param_grid = parametreler,\n",
    "                       cv = 10\n",
    "                      )\n",
    "grid_cv.fit(os_smote_X_rfe, os_smote_Y_rfe)\n",
    "print(\"En iyi parametreler : \", grid_cv.best_params_)\n",
    "print(\"En iyi skor         : \", grid_cv.best_score_)\n"
   ]
  },
  {
   "cell_type": "code",
   "execution_count": 119,
   "metadata": {},
   "outputs": [
    {
     "name": "stdout",
     "output_type": "stream",
     "text": [
      "LogisticRegression(C=1.0, class_weight=None, dual=False, fit_intercept=True,\n",
      "                   intercept_scaling=1, l1_ratio=None, max_iter=100,\n",
      "                   multi_class='ovr', n_jobs=1, penalty='l2', random_state=None,\n",
      "                   solver='liblinear', tol=0.0001, verbose=0, warm_start=False)\n",
      "\n",
      " Classification report : \n",
      "               precision    recall  f1-score   support\n",
      "\n",
      "           0       0.81      0.80      0.81       245\n",
      "           1       0.81      0.82      0.81       249\n",
      "\n",
      "    accuracy                           0.81       494\n",
      "   macro avg       0.81      0.81      0.81       494\n",
      "weighted avg       0.81      0.81      0.81       494\n",
      "\n",
      "Accuracy   Score :  0.8097165991902834\n",
      "Area under curve :  0.8096385542168675 \n",
      "\n",
      "This is the format of your plot grid:\n",
      "[ (1,1) x1,y1 ]  [ (1,2) x2,y2 ]\n",
      "\n"
     ]
    },
    {
     "data": {
      "text/html": [
       "<iframe id=\"igraph\" scrolling=\"no\" style=\"border:none;\" seamless=\"seamless\" src=\"https://plot.ly/~mehtappathemc/240.embed\" height=\"600px\" width=\"800px\"></iframe>"
      ],
      "text/plain": [
       "<chart_studio.tools.PlotlyDisplay object>"
      ]
     },
     "execution_count": 119,
     "metadata": {},
     "output_type": "execute_result"
    }
   ],
   "source": [
    "logit_smote_rfe_GridSearchCV = LogisticRegression(C=1.0, class_weight=None, dual=False, fit_intercept=True,\n",
    "          intercept_scaling=1, max_iter=100, multi_class='ovr', n_jobs=1,\n",
    "          penalty='l2', random_state=None, solver='liblinear', tol=0.0001,\n",
    "          verbose=0, warm_start=False)\n",
    "#applying model\n",
    "\n",
    "employee_attrition_prediction(logit_smote_rfe_GridSearchCV,smote_rfe_train_X,smote_rfe_test_X,smote_rfe_train_Y,smote_rfe_test_Y,\n",
    "                         colss,\"coefficients\",threshold_plot = True)\n"
   ]
  },
  {
   "cell_type": "code",
   "execution_count": 120,
   "metadata": {},
   "outputs": [
    {
     "data": {
      "text/html": [
       "<iframe id=\"igraph\" scrolling=\"no\" style=\"border:none;\" seamless=\"seamless\" src=\"https://plot.ly/~mehtappathemc/242.embed\" height=\"740px\" width=\"100%\"></iframe>"
      ],
      "text/plain": [
       "<chart_studio.tools.PlotlyDisplay object>"
      ]
     },
     "execution_count": 120,
     "metadata": {},
     "output_type": "execute_result"
    }
   ],
   "source": [
    "tab_rk = ff.create_table(idc_rfe)\n",
    "py.iplot(tab_rk)"
   ]
  },
  {
   "cell_type": "markdown",
   "metadata": {},
   "source": [
    "### 5.7.2  Hiperparametrelerin RandomizedSearchCV ile belirlemesi"
   ]
  },
  {
   "cell_type": "code",
   "execution_count": 121,
   "metadata": {},
   "outputs": [
    {
     "name": "stdout",
     "output_type": "stream",
     "text": [
      "En iyi parametreler        :  {'penalty': 'l2', 'C': 1}\n"
     ]
    }
   ],
   "source": [
    "\n",
    "logreg = LogisticRegression()\n",
    "rs_cv = RandomizedSearchCV(estimator=logreg,\n",
    "                           param_distributions = parametreler,\n",
    "                           cv = 10,\n",
    "                           n_iter = 10,\n",
    "                           random_state = 111,\n",
    "                           scoring = 'precision'\n",
    "                      )\n",
    "rs_cv.fit(os_smote_X_rfe, os_smote_Y_rfe)\n",
    "\n",
    "print(\"En iyi parametreler        : \", rs_cv.best_params_)"
   ]
  },
  {
   "cell_type": "code",
   "execution_count": 122,
   "metadata": {},
   "outputs": [
    {
     "name": "stdout",
     "output_type": "stream",
     "text": [
      "LogisticRegression(C=1.0, class_weight=None, dual=False, fit_intercept=True,\n",
      "                   intercept_scaling=1, l1_ratio=None, max_iter=100,\n",
      "                   multi_class='ovr', n_jobs=1, penalty='l2', random_state=None,\n",
      "                   solver='liblinear', tol=0.0001, verbose=0, warm_start=False)\n",
      "\n",
      " Classification report : \n",
      "               precision    recall  f1-score   support\n",
      "\n",
      "           0       0.81      0.80      0.81       245\n",
      "           1       0.81      0.82      0.81       249\n",
      "\n",
      "    accuracy                           0.81       494\n",
      "   macro avg       0.81      0.81      0.81       494\n",
      "weighted avg       0.81      0.81      0.81       494\n",
      "\n",
      "Accuracy   Score :  0.8097165991902834\n",
      "Area under curve :  0.8096385542168675 \n",
      "\n",
      "This is the format of your plot grid:\n",
      "[ (1,1) x1,y1 ]  [ (1,2) x2,y2 ]\n",
      "\n"
     ]
    },
    {
     "data": {
      "text/html": [
       "<iframe id=\"igraph\" scrolling=\"no\" style=\"border:none;\" seamless=\"seamless\" src=\"https://plot.ly/~mehtappathemc/244.embed\" height=\"600px\" width=\"800px\"></iframe>"
      ],
      "text/plain": [
       "<chart_studio.tools.PlotlyDisplay object>"
      ]
     },
     "execution_count": 122,
     "metadata": {},
     "output_type": "execute_result"
    }
   ],
   "source": [
    "logit_smote_rfe_RandomizedSearchCV = LogisticRegression(C=1.0, class_weight=None, dual=False, fit_intercept=True,\n",
    "          intercept_scaling=1, max_iter=100, multi_class='ovr', n_jobs=1,\n",
    "          penalty='l2', random_state=None, solver='liblinear', tol=0.0001,\n",
    "          verbose=0, warm_start=False)\n",
    "#applying model\n",
    "\n",
    "employee_attrition_prediction(logit_smote_rfe_RandomizedSearchCV,smote_rfe_train_X,smote_rfe_test_X,smote_rfe_train_Y,smote_rfe_test_Y,\n",
    "                         colss,\"coefficients\",threshold_plot = True)\n"
   ]
  },
  {
   "cell_type": "markdown",
   "metadata": {},
   "source": [
    "## 5.8 Logistic Regression (ADASYN)\n"
   ]
  },
  {
   "cell_type": "code",
   "execution_count": 123,
   "metadata": {},
   "outputs": [],
   "source": [
    "from imblearn.over_sampling import ADASYN\n",
    "\n",
    "adasyn_X = employee_sade[cols]\n",
    "adasyn_Y = employee_sade[target_col]\n",
    "\n",
    "\n",
    "#oversampling minority class using ADASYN\n",
    "\n",
    "ad = ADASYN(random_state = 0)\n",
    "ad_adasyn_X, ad_adasyn_Y = ad.fit_sample(adasyn_X,adasyn_Y)\n",
    "ad_adasyn_X = pd.DataFrame(data = ad_adasyn_X,columns=cols)\n",
    "ad_adasyn_Y = pd.DataFrame(data = ad_adasyn_Y,columns=target_col)\n",
    "###\n",
    "\n",
    "\n",
    "#Split train and test data\n",
    "adasyn_train_X,adasyn_test_X,adasyn_train_Y,adasyn_test_Y = train_test_split(ad_adasyn_X,ad_adasyn_Y,\n",
    "                                                                         test_size = .20 ,\n",
    "                                                                         random_state = 111)"
   ]
  },
  {
   "cell_type": "markdown",
   "metadata": {},
   "source": [
    "### 5.8.1 Parametrelerin GridSearchCV ile belirlenmesi"
   ]
  },
  {
   "cell_type": "code",
   "execution_count": 124,
   "metadata": {},
   "outputs": [
    {
     "name": "stdout",
     "output_type": "stream",
     "text": [
      "En iyi parametreler :  {'C': 1, 'penalty': 'l1'}\n",
      "En iyi skor         :  0.7873042044517725\n"
     ]
    }
   ],
   "source": [
    "logreg = LogisticRegression()\n",
    "grid_cv = GridSearchCV(estimator=logreg,\n",
    "                       param_grid = parametreler,\n",
    "                       cv = 10\n",
    "                      )\n",
    "grid_cv.fit(ad_adasyn_X, ad_adasyn_Y)\n",
    "print(\"En iyi parametreler : \", grid_cv.best_params_)\n",
    "print(\"En iyi skor         : \", grid_cv.best_score_)"
   ]
  },
  {
   "cell_type": "code",
   "execution_count": 125,
   "metadata": {},
   "outputs": [
    {
     "name": "stdout",
     "output_type": "stream",
     "text": [
      "LogisticRegression(C=1.0, class_weight=None, dual=False, fit_intercept=True,\n",
      "                   intercept_scaling=1, l1_ratio=None, max_iter=100,\n",
      "                   multi_class='ovr', n_jobs=1, penalty='l1', random_state=None,\n",
      "                   solver='liblinear', tol=0.0001, verbose=0, warm_start=False)\n",
      "\n",
      " Classification report : \n",
      "               precision    recall  f1-score   support\n",
      "\n",
      "           0       0.77      0.82      0.79       235\n",
      "           1       0.82      0.77      0.80       251\n",
      "\n",
      "    accuracy                           0.79       486\n",
      "   macro avg       0.79      0.79      0.79       486\n",
      "weighted avg       0.80      0.79      0.79       486\n",
      "\n",
      "Accuracy   Score :  0.7942386831275721\n",
      "Area under curve :  0.7949648215648046 \n",
      "\n",
      "This is the format of your plot grid:\n",
      "[ (1,1) x1,y1 ]  [ (1,2) x2,y2 ]\n",
      "\n"
     ]
    },
    {
     "data": {
      "text/html": [
       "<iframe id=\"igraph\" scrolling=\"no\" style=\"border:none;\" seamless=\"seamless\" src=\"https://plot.ly/~mehtappathemc/246.embed\" height=\"600px\" width=\"800px\"></iframe>"
      ],
      "text/plain": [
       "<chart_studio.tools.PlotlyDisplay object>"
      ]
     },
     "execution_count": 125,
     "metadata": {},
     "output_type": "execute_result"
    }
   ],
   "source": [
    "\n",
    "\n",
    "logit_adasyn_GridSearchCV= LogisticRegression(C=1.0, class_weight=None, dual=False, fit_intercept=True,\n",
    "          intercept_scaling=1, max_iter=100, multi_class='ovr', n_jobs=1,\n",
    "          penalty='l1', random_state=None, solver='liblinear', tol=0.0001,\n",
    "          verbose=0, warm_start=False)\n",
    "\n",
    "employee_attrition_prediction(logit_adasyn_GridSearchCV,adasyn_train_X,adasyn_test_X,adasyn_train_Y,adasyn_test_Y,\n",
    "                         cols,\"coefficients\",threshold_plot = True)\n"
   ]
  },
  {
   "cell_type": "markdown",
   "metadata": {},
   "source": [
    "### 5.8.2 Parametrelerin RandomizedSearchCV ile belirlenmesi"
   ]
  },
  {
   "cell_type": "code",
   "execution_count": 126,
   "metadata": {},
   "outputs": [
    {
     "name": "stdout",
     "output_type": "stream",
     "text": [
      "En iyi parametreler        :  {'penalty': 'l2', 'C': 0.001}\n"
     ]
    }
   ],
   "source": [
    "import warnings\n",
    "warnings.filterwarnings('ignore')\n",
    "logreg = LogisticRegression()\n",
    "rs_cv = RandomizedSearchCV(estimator=logreg,\n",
    "                           param_distributions = parametreler,\n",
    "                           cv = 10,\n",
    "                           n_iter = 10,\n",
    "                           random_state = 111,\n",
    "                           scoring = 'precision'\n",
    "                      )\n",
    "rs_cv.fit(ad_adasyn_X, ad_adasyn_Y)\n",
    "\n",
    "print(\"En iyi parametreler        : \", rs_cv.best_params_)"
   ]
  },
  {
   "cell_type": "code",
   "execution_count": 127,
   "metadata": {},
   "outputs": [
    {
     "name": "stdout",
     "output_type": "stream",
     "text": [
      "LogisticRegression(C=0.001, class_weight=None, dual=False, fit_intercept=True,\n",
      "                   intercept_scaling=1, l1_ratio=None, max_iter=100,\n",
      "                   multi_class='ovr', n_jobs=1, penalty='l2', random_state=None,\n",
      "                   solver='liblinear', tol=0.0001, verbose=0, warm_start=False)\n",
      "\n",
      " Classification report : \n",
      "               precision    recall  f1-score   support\n",
      "\n",
      "           0       0.55      0.95      0.70       235\n",
      "           1       0.86      0.28      0.43       251\n",
      "\n",
      "    accuracy                           0.60       486\n",
      "   macro avg       0.70      0.62      0.56       486\n",
      "weighted avg       0.71      0.60      0.56       486\n",
      "\n",
      "Accuracy   Score :  0.6049382716049383\n",
      "Area under curve :  0.6159023480545902 \n",
      "\n",
      "This is the format of your plot grid:\n",
      "[ (1,1) x1,y1 ]  [ (1,2) x2,y2 ]\n",
      "\n"
     ]
    },
    {
     "data": {
      "text/html": [
       "<iframe id=\"igraph\" scrolling=\"no\" style=\"border:none;\" seamless=\"seamless\" src=\"https://plot.ly/~mehtappathemc/248.embed\" height=\"600px\" width=\"800px\"></iframe>"
      ],
      "text/plain": [
       "<chart_studio.tools.PlotlyDisplay object>"
      ]
     },
     "execution_count": 127,
     "metadata": {},
     "output_type": "execute_result"
    }
   ],
   "source": [
    "logit_adasyn_RandomizedSearchCV= LogisticRegression(C=0.001, class_weight=None, dual=False, fit_intercept=True,\n",
    "          intercept_scaling=1, max_iter=100, multi_class='ovr', n_jobs=1,\n",
    "          penalty='l2', random_state=None, solver='liblinear', tol=0.0001,\n",
    "          verbose=0, warm_start=False)\n",
    "\n",
    "employee_attrition_prediction(logit_adasyn_RandomizedSearchCV,adasyn_train_X,adasyn_test_X,adasyn_train_Y,adasyn_test_Y,\n",
    "                         cols,\"coefficients\",threshold_plot = True)\n"
   ]
  },
  {
   "cell_type": "markdown",
   "metadata": {},
   "source": [
    "## 5.9 Logistic Regression (ADASYN_RFE)"
   ]
  },
  {
   "cell_type": "code",
   "execution_count": 128,
   "metadata": {},
   "outputs": [],
   "source": [
    "\n",
    "adasyn_X_rfe = employee_sade2[cols2]\n",
    "adasyn_Y_rfe = employee_sade2[target_col]\n",
    "\n",
    "\n",
    "#oversampling minority class using ADASYN\n",
    "\n",
    "ad = ADASYN(random_state = 0)\n",
    "ad_adasyn_X, ad_adasyn_Y = ad.fit_sample(adasyn_X_rfe,adasyn_Y_rfe)\n",
    "ad_adasyn_X_rfe = pd.DataFrame(data = ad_adasyn_X,columns=cols2)\n",
    "ad_adasyn_Y_rfe = pd.DataFrame(data = ad_adasyn_Y,columns=target_col)\n",
    "###\n",
    "\n"
   ]
  },
  {
   "cell_type": "code",
   "execution_count": 129,
   "metadata": {},
   "outputs": [],
   "source": [
    "logit = LogisticRegression()\n",
    "\n",
    "rfe = RFE(logit,10)\n",
    "rfe = rfe.fit(ad_adasyn_X_rfe,ad_adasyn_Y_rfe.values.ravel())\n",
    "\n",
    "rfe.support_\n",
    "rfe.ranking_\n",
    "\n",
    "#identified columns Recursive Feature Elimination\n",
    "idc_rfe = pd.DataFrame({\"rfe_support\" :rfe.support_,\n",
    "                       \"columns\" : [i for i in cols2],\n",
    "                       \"ranking\" : rfe.ranking_,\n",
    "                      })\n",
    "colss = idc_rfe[idc_rfe[\"rfe_support\"] == True][\"columns\"].tolist()\n",
    "\n",
    "adasyn_X_rfe=ad_adasyn_X_rfe[colss]\n",
    "adasyn_Y_rfe=ad_adasyn_Y_rfe[target_col]\n",
    "\n",
    "###\n",
    "#Split train and test data\n",
    "adasyn_rfe_train_X,adasyn_rfe_test_X,adasyn_rfe_train_Y,adasyn_rfe_test_Y = train_test_split(adasyn_X_rfe,adasyn_Y_rfe,\n",
    "                                                                         test_size = .20 , random_state=111)"
   ]
  },
  {
   "cell_type": "markdown",
   "metadata": {},
   "source": [
    "### 5.9.1 Parametrelerin GridSearchCV ile belirlenmesi"
   ]
  },
  {
   "cell_type": "code",
   "execution_count": 130,
   "metadata": {},
   "outputs": [
    {
     "name": "stdout",
     "output_type": "stream",
     "text": [
      "En iyi parametreler :  {'C': 10000, 'penalty': 'l2'}\n",
      "En iyi skor         :  0.8261767134599505\n"
     ]
    }
   ],
   "source": [
    "logreg = LogisticRegression()\n",
    "grid_cv = GridSearchCV(estimator=logreg,\n",
    "                       param_grid = parametreler,\n",
    "                       cv = 10\n",
    "                      )\n",
    "grid_cv.fit(ad_adasyn_X_rfe, ad_adasyn_Y_rfe)\n",
    "print(\"En iyi parametreler : \", grid_cv.best_params_)\n",
    "print(\"En iyi skor         : \", grid_cv.best_score_)"
   ]
  },
  {
   "cell_type": "code",
   "execution_count": 131,
   "metadata": {},
   "outputs": [
    {
     "name": "stdout",
     "output_type": "stream",
     "text": [
      "LogisticRegression(C=10000.0, class_weight=None, dual=False, fit_intercept=True,\n",
      "                   intercept_scaling=1, l1_ratio=None, max_iter=100,\n",
      "                   multi_class='ovr', n_jobs=1, penalty='l2', random_state=None,\n",
      "                   solver='liblinear', tol=0.0001, verbose=0, warm_start=False)\n",
      "\n",
      " Classification report : \n",
      "               precision    recall  f1-score   support\n",
      "\n",
      "           0       0.79      0.84      0.81       238\n",
      "           1       0.83      0.79      0.81       247\n",
      "\n",
      "    accuracy                           0.81       485\n",
      "   macro avg       0.81      0.81      0.81       485\n",
      "weighted avg       0.81      0.81      0.81       485\n",
      "\n",
      "Accuracy   Score :  0.8123711340206186\n",
      "Area under curve :  0.8128040689960195 \n",
      "\n",
      "This is the format of your plot grid:\n",
      "[ (1,1) x1,y1 ]  [ (1,2) x2,y2 ]\n",
      "\n"
     ]
    },
    {
     "data": {
      "text/html": [
       "<iframe id=\"igraph\" scrolling=\"no\" style=\"border:none;\" seamless=\"seamless\" src=\"https://plot.ly/~mehtappathemc/250.embed\" height=\"600px\" width=\"800px\"></iframe>"
      ],
      "text/plain": [
       "<chart_studio.tools.PlotlyDisplay object>"
      ]
     },
     "execution_count": 131,
     "metadata": {},
     "output_type": "execute_result"
    }
   ],
   "source": [
    "\n",
    "logit_adasyn_rfe_GridSearchCV = LogisticRegression(C=10000.0, class_weight=None, dual=False, fit_intercept=True,\n",
    "          intercept_scaling=1, max_iter=100, multi_class='ovr', n_jobs=1,\n",
    "          penalty='l2', random_state=None, solver='liblinear', tol=0.0001,\n",
    "          verbose=0, warm_start=False)\n",
    "#applying model\n",
    "\n",
    "employee_attrition_prediction(logit_adasyn_rfe_GridSearchCV,adasyn_rfe_train_X,adasyn_rfe_test_X,adasyn_rfe_train_Y,adasyn_rfe_test_Y,\n",
    "                         colss,\"coefficients\",threshold_plot = True)\n"
   ]
  },
  {
   "cell_type": "code",
   "execution_count": 132,
   "metadata": {},
   "outputs": [
    {
     "data": {
      "text/html": [
       "<iframe id=\"igraph\" scrolling=\"no\" style=\"border:none;\" seamless=\"seamless\" src=\"https://plot.ly/~mehtappathemc/252.embed\" height=\"740px\" width=\"100%\"></iframe>"
      ],
      "text/plain": [
       "<chart_studio.tools.PlotlyDisplay object>"
      ]
     },
     "execution_count": 132,
     "metadata": {},
     "output_type": "execute_result"
    }
   ],
   "source": [
    "tab_rk = ff.create_table(idc_rfe)\n",
    "py.iplot(tab_rk)"
   ]
  },
  {
   "cell_type": "markdown",
   "metadata": {},
   "source": [
    "### 5.9.2 Parametrelerin RandomizedSearchCV ile belirlenmesi"
   ]
  },
  {
   "cell_type": "code",
   "execution_count": 133,
   "metadata": {},
   "outputs": [
    {
     "name": "stdout",
     "output_type": "stream",
     "text": [
      "En iyi parametreler        :  {'penalty': 'l2', 'C': 1000}\n"
     ]
    }
   ],
   "source": [
    "import plotly \n",
    "plotly.tools.set_credentials_file(username='mehtapcanli', api_key='m8zSmUfINl7CSDPrRbsR')\n",
    "logreg = LogisticRegression()\n",
    "rs_cv = RandomizedSearchCV(estimator=logreg,\n",
    "                           param_distributions = parametreler,\n",
    "                           cv = 10,\n",
    "                           n_iter = 10,\n",
    "                           random_state = 111,\n",
    "                           scoring = 'precision'\n",
    "                      )\n",
    "rs_cv.fit(ad_adasyn_X_rfe, ad_adasyn_Y_rfe)\n",
    "\n",
    "print(\"En iyi parametreler        : \", rs_cv.best_params_)"
   ]
  },
  {
   "cell_type": "code",
   "execution_count": 134,
   "metadata": {},
   "outputs": [
    {
     "name": "stdout",
     "output_type": "stream",
     "text": [
      "LogisticRegression(C=1000.0, class_weight=None, dual=False, fit_intercept=True,\n",
      "                   intercept_scaling=1, l1_ratio=None, max_iter=100,\n",
      "                   multi_class='ovr', n_jobs=1, penalty='l2', random_state=None,\n",
      "                   solver='liblinear', tol=0.0001, verbose=0, warm_start=False)\n",
      "\n",
      " Classification report : \n",
      "               precision    recall  f1-score   support\n",
      "\n",
      "           0       0.79      0.84      0.81       238\n",
      "           1       0.83      0.79      0.81       247\n",
      "\n",
      "    accuracy                           0.81       485\n",
      "   macro avg       0.81      0.81      0.81       485\n",
      "weighted avg       0.81      0.81      0.81       485\n",
      "\n",
      "Accuracy   Score :  0.8123711340206186\n",
      "Area under curve :  0.8128040689960195 \n",
      "\n",
      "This is the format of your plot grid:\n",
      "[ (1,1) x1,y1 ]  [ (1,2) x2,y2 ]\n",
      "\n"
     ]
    },
    {
     "data": {
      "text/html": [
       "<iframe id=\"igraph\" scrolling=\"no\" style=\"border:none;\" seamless=\"seamless\" src=\"https://plot.ly/~mehtapcanli/18.embed\" height=\"600px\" width=\"800px\"></iframe>"
      ],
      "text/plain": [
       "<chart_studio.tools.PlotlyDisplay object>"
      ]
     },
     "execution_count": 134,
     "metadata": {},
     "output_type": "execute_result"
    }
   ],
   "source": [
    "logit_adasyn_rfe_RandomizedSearchCV = LogisticRegression(C=1000.0, class_weight=None, dual=False, fit_intercept=True,\n",
    "          intercept_scaling=1, max_iter=100, multi_class='ovr', n_jobs=1,\n",
    "          penalty='l2', random_state=None, solver='liblinear', tol=0.0001,\n",
    "          verbose=0, warm_start=False)\n",
    "#applying model\n",
    "\n",
    "employee_attrition_prediction(logit_adasyn_rfe_RandomizedSearchCV,adasyn_rfe_train_X,adasyn_rfe_test_X,adasyn_rfe_train_Y,adasyn_rfe_test_Y,\n",
    "                         colss,\"coefficients\",threshold_plot = True)\n"
   ]
  },
  {
   "cell_type": "markdown",
   "metadata": {},
   "source": [
    "### KNN"
   ]
  },
  {
   "cell_type": "markdown",
   "metadata": {},
   "source": [
    "#### KNN de k parametresinin belirlenmesi"
   ]
  },
  {
   "cell_type": "code",
   "execution_count": 137,
   "metadata": {},
   "outputs": [],
   "source": [
    "from sklearn.neighbors import KNeighborsClassifier\n",
    "komsu_sayisi = np.arange(1, 10)\n",
    "egitim_kumesi_skoru = np.empty(len(komsu_sayisi))\n",
    "test_kumesi_skoru = np.empty(len(komsu_sayisi))"
   ]
  },
  {
   "cell_type": "code",
   "execution_count": 138,
   "metadata": {},
   "outputs": [],
   "source": [
    "for i, k in enumerate(komsu_sayisi):\n",
    "    knn = KNeighborsClassifier(n_neighbors=k)\n",
    "    knn.fit(smote_train_X, smote_train_Y)\n",
    "    egitim_kumesi_skoru[i] = knn.score(smote_train_X, smote_train_Y)\n",
    "\n",
    "    #Compute accuracy on the testing set\n",
    "    test_kumesi_skoru[i] = knn.score(smote_test_X, smote_test_Y)"
   ]
  },
  {
   "cell_type": "code",
   "execution_count": 140,
   "metadata": {},
   "outputs": [
    {
     "data": {
      "image/png": "[encoded data removed]",
      "text/plain": [
       "<Figure size 700x300 with 1 Axes>"
      ]
     },
     "metadata": {},
     "output_type": "display_data"
    }
   ],
   "source": [
    "baslik_font = {'family': 'arial', 'color': 'darkred','weight': 'bold','size': 13 }\n",
    "eksen_font  = {'family': 'arial', 'color': 'darkblue','weight': 'bold','size': 10 }\n",
    "\n",
    "plt.figure(figsize=(7,3), dpi = 100)\n",
    "plt.plot(komsu_sayisi, test_kumesi_skoru, label = 'Test kümesi')\n",
    "plt.plot(komsu_sayisi, egitim_kumesi_skoru, label = 'Eğitim kümesi')\n",
    "plt.legend()\n",
    "plt.title('Komşu Sayılarına Göre Model Skoru (k-NN)', fontdict= baslik_font)\n",
    "plt.xlabel('Komşu Sayısı', fontdict= eksen_font)\n",
    "plt.ylabel('Doğruluk', fontdict= eksen_font)\n",
    "plt.show()"
   ]
  },
  {
   "cell_type": "code",
   "execution_count": 141,
   "metadata": {},
   "outputs": [],
   "source": [
    "def employee_attrition_prediction2(algorithm,training_x,testing_x,\n",
    "                                 training_y,testing_y,threshold_plot = True) :\n",
    "    \n",
    "    #model\n",
    "    algorithm.fit(training_x,training_y)\n",
    "    predictions   = algorithm.predict(testing_x)\n",
    "    probabilities = algorithm.predict_proba(testing_x)\n",
    "    \n",
    "    print (algorithm)\n",
    "    print (\"\\n Classification report : \\n\",classification_report(testing_y,predictions))\n",
    "    print (\"Accuracy Score   : \",accuracy_score(testing_y,predictions))\n",
    "    #confusion matrix\n",
    "    conf_matrix = confusion_matrix(testing_y,predictions)\n",
    "    #roc_auc_score\n",
    "    model_roc_auc = roc_auc_score(testing_y,predictions) \n",
    "    print (\"Area under curve : \",model_roc_auc)\n",
    "    fpr,tpr,thresholds = roc_curve(testing_y,probabilities[:,1])\n",
    "     \n",
    "    #plot roc curve\n",
    "    trace1 = go.Scatter(x = fpr,y = tpr,\n",
    "                        name = \"Roc : \" + str(model_roc_auc),\n",
    "                        line = dict(color = ('rgb(22, 96, 167)'),width = 2),\n",
    "                       )\n",
    "    trace2 = go.Scatter(x = [0,1],y=[0,1],\n",
    "                        line = dict(color = ('rgb(205, 12, 24)'),width = 2,\n",
    "                        dash = 'dot'))\n",
    "    \n",
    "    #plot confusion matrix\n",
    "    trace3 = go.Heatmap(z = conf_matrix ,x = [\"Not attrition\",\"Attrition\"],\n",
    "                        y = [\"Not attrition\",\"Attrition\"],\n",
    "                        showscale  = False,colorscale = \"Blues\",name = \"matrix\",\n",
    "                        xaxis = \"x2\",yaxis = \"y2\"\n",
    "                       )\n",
    "    \n",
    "    layout = go.Layout(dict(title=\"Model performance\" ,\n",
    "                            autosize = False,height = 500,width = 800,\n",
    "                            showlegend = False,\n",
    "                            plot_bgcolor  = \"rgb(243,243,243)\",\n",
    "                            paper_bgcolor = \"rgb(243,243,243)\",\n",
    "                            xaxis = dict(title = \"false positive rate\",\n",
    "                                         gridcolor = 'rgb(255, 255, 255)',\n",
    "                                         domain=[0, 0.6],\n",
    "                                         ticklen=5,gridwidth=2),\n",
    "                            yaxis = dict(title = \"true positive rate\",\n",
    "                                         gridcolor = 'rgb(255, 255, 255)',\n",
    "                                         zerolinewidth=1,\n",
    "                                         ticklen=5,gridwidth=2),\n",
    "                            margin = dict(b=200),\n",
    "                            xaxis2=dict(domain=[0.7, 1],tickangle = 90,\n",
    "                                        gridcolor = 'rgb(255, 255, 255)'),\n",
    "                            yaxis2=dict(anchor='x2',gridcolor = 'rgb(255, 255, 255)')\n",
    "                           )\n",
    "                  )\n",
    "    data = [trace1,trace2,trace3]\n",
    "    fig = go.Figure(data=data,layout=layout)\n",
    "    \n",
    "    return py.iplot(fig)\n",
    "    \n",
    "    if threshold_plot == True : \n",
    "        visualizer = DiscriminationThreshold(algorithm)\n",
    "        visualizer.fit(training_x,training_y)\n",
    "        visualizer.poof()\n",
    "\n",
    "    "
   ]
  },
  {
   "cell_type": "code",
   "execution_count": 142,
   "metadata": {},
   "outputs": [
    {
     "name": "stdout",
     "output_type": "stream",
     "text": [
      "KNeighborsClassifier(algorithm='auto', leaf_size=30, metric='minkowski',\n",
      "                     metric_params=None, n_jobs=1, n_neighbors=5, p=2,\n",
      "                     weights='uniform')\n",
      "\n",
      " Classification report : \n",
      "               precision    recall  f1-score   support\n",
      "\n",
      "           0       0.73      0.64      0.68       245\n",
      "           1       0.68      0.77      0.72       249\n",
      "\n",
      "    accuracy                           0.70       494\n",
      "   macro avg       0.71      0.70      0.70       494\n",
      "weighted avg       0.71      0.70      0.70       494\n",
      "\n",
      "Accuracy Score   :  0.7044534412955465\n",
      "Area under curve :  0.7039422998114909\n"
     ]
    },
    {
     "data": {
      "text/html": [
       "<iframe id=\"igraph\" scrolling=\"no\" style=\"border:none;\" seamless=\"seamless\" src=\"https://plot.ly/~mehtapcanli/20.embed\" height=\"500px\" width=\"800px\"></iframe>"
      ],
      "text/plain": [
       "<chart_studio.tools.PlotlyDisplay object>"
      ]
     },
     "execution_count": 142,
     "metadata": {},
     "output_type": "execute_result"
    }
   ],
   "source": [
    "#k=5 için\n",
    "from sklearn.neighbors import KNeighborsClassifier\n",
    "knn = KNeighborsClassifier(algorithm='auto', leaf_size=30, metric='minkowski',\n",
    "           metric_params=None, n_jobs=1, n_neighbors=5, p=2,\n",
    "           weights='uniform')\n",
    "employee_attrition_prediction2(knn,smote_train_X,smote_test_X,\n",
    "                             smote_train_Y,smote_test_Y,threshold_plot = True)"
   ]
  },
  {
   "cell_type": "code",
   "execution_count": 143,
   "metadata": {},
   "outputs": [
    {
     "name": "stdout",
     "output_type": "stream",
     "text": [
      "KNeighborsClassifier(algorithm='auto', leaf_size=30, metric='minkowski',\n",
      "                     metric_params=None, n_jobs=1, n_neighbors=3, p=2,\n",
      "                     weights='uniform')\n",
      "\n",
      " Classification report : \n",
      "               precision    recall  f1-score   support\n",
      "\n",
      "           0       0.73      0.64      0.69       245\n",
      "           1       0.69      0.77      0.72       249\n",
      "\n",
      "    accuracy                           0.71       494\n",
      "   macro avg       0.71      0.71      0.71       494\n",
      "weighted avg       0.71      0.71      0.71       494\n",
      "\n",
      "Accuracy Score   :  0.7064777327935222\n",
      "Area under curve :  0.7059831161380214\n"
     ]
    },
    {
     "data": {
      "text/html": [
       "<iframe id=\"igraph\" scrolling=\"no\" style=\"border:none;\" seamless=\"seamless\" src=\"https://plot.ly/~mehtapcanli/22.embed\" height=\"500px\" width=\"800px\"></iframe>"
      ],
      "text/plain": [
       "<chart_studio.tools.PlotlyDisplay object>"
      ]
     },
     "execution_count": 143,
     "metadata": {},
     "output_type": "execute_result"
    }
   ],
   "source": [
    "#k=3 için\n",
    "from sklearn.neighbors import KNeighborsClassifier\n",
    "knn = KNeighborsClassifier(algorithm='auto', leaf_size=30, metric='minkowski',\n",
    "           metric_params=None, n_jobs=1, n_neighbors=3, p=2,\n",
    "           weights='uniform')\n",
    "employee_attrition_prediction2(knn,smote_train_X,smote_test_X,\n",
    "                             smote_train_Y,smote_test_Y,threshold_plot = True)"
   ]
  },
  {
   "cell_type": "markdown",
   "metadata": {},
   "source": [
    "## karar agacı"
   ]
  },
  {
   "cell_type": "code",
   "execution_count": 144,
   "metadata": {},
   "outputs": [],
   "source": [
    "from sklearn.tree import DecisionTreeClassifier, export_graphviz\n",
    "import pydotplus\n",
    "import graphviz"
   ]
  },
  {
   "cell_type": "code",
   "execution_count": 145,
   "metadata": {},
   "outputs": [],
   "source": [
    "import os\n",
    "\n",
    "os.environ['PATH'] = os.environ['PATH']+';'+os.environ['CONDA_PREFIX']+r\"\\Library\\bin\\graphviz\""
   ]
  },
  {
   "cell_type": "code",
   "execution_count": 146,
   "metadata": {},
   "outputs": [],
   "source": [
    "from IPython.display import Image"
   ]
  },
  {
   "cell_type": "code",
   "execution_count": 147,
   "metadata": {},
   "outputs": [
    {
     "data": {
      "text/plain": [
       "DecisionTreeClassifier(class_weight=None, criterion='entropy', max_depth=4,\n",
       "                       max_features=1, max_leaf_nodes=None,\n",
       "                       min_impurity_decrease=0.0, min_impurity_split=None,\n",
       "                       min_samples_leaf=1, min_samples_split=2,\n",
       "                       min_weight_fraction_leaf=0.0, presort=False,\n",
       "                       random_state=1337, splitter='best')"
      ]
     },
     "execution_count": 147,
     "metadata": {},
     "output_type": "execute_result"
    }
   ],
   "source": [
    "karar_agaci = DecisionTreeClassifier(\n",
    "    criterion='entropy',\n",
    "    max_features=1,\n",
    "    max_depth=4,\n",
    "    random_state = 1337\n",
    ")\n",
    "\n",
    "karar_agaci.fit(os_smote_X, os_smote_Y)\n"
   ]
  },
  {
   "cell_type": "code",
   "execution_count": 148,
   "metadata": {},
   "outputs": [
    {
     "data": {
      "image/png": "[encoded data removed]",
      "text/plain": [
       "<IPython.core.display.Image object>"
      ]
     },
     "execution_count": 148,
     "metadata": {},
     "output_type": "execute_result"
    }
   ],
   "source": [
    "agac_data = export_graphviz(\n",
    "    karar_agaci, out_file=None,\n",
    "    feature_names=X.columns,\n",
    "    class_names=['çalışan??', 'İşten ayrılanlar'],\n",
    "    filled=True\n",
    ")\n",
    "graph = pydotplus.graph_from_dot_data(agac_data)\n",
    "Image(graph.create_png())"
   ]
  },
  {
   "cell_type": "markdown",
   "metadata": {},
   "source": [
    "### Karar Ağaçları ile Regresyon"
   ]
  },
  {
   "cell_type": "code",
   "execution_count": 149,
   "metadata": {},
   "outputs": [],
   "source": [
    "# Parametre belirleme"
   ]
  },
  {
   "cell_type": "code",
   "execution_count": 150,
   "metadata": {},
   "outputs": [],
   "source": [
    "max_depth = np.arange(1, 33)\n",
    "max_feature=np.arange(1,10)\n",
    "min_samples_split=np.arange(2,6)\n",
    "min_samples_leaf=np.arange(1,6)\n",
    "\n",
    "egitim_kumesi_skoru = np.empty(5760)\n",
    "test_kumesi_skoru = np.empty(5760)\n",
    "x_index=list()\n",
    "# x_index diye tanımladıgım yukarıdakı dort degıskenın yan yana yazılarak olusturdugu sayı,"
   ]
  },
  {
   "cell_type": "code",
   "execution_count": 151,
   "metadata": {},
   "outputs": [],
   "source": [
    "y=0\n",
    "for k in max_depth:\n",
    "    for j in max_feature:\n",
    "        for l in min_samples_leaf:\n",
    "            for m in min_samples_split:\n",
    "                dt_classifier = DecisionTreeClassifier(max_depth = k,\n",
    "                                                       min_samples_split= m,\n",
    "                                                       min_samples_leaf=l,\n",
    "                                                       max_features=j,\n",
    "                                                       splitter  = \"best\",\n",
    "                                                       criterion = \"gini\",\n",
    "                                                      )\n",
    "                dt_classifier.fit(smote_train_X, smote_train_Y)\n",
    "                \n",
    "                \n",
    "                egitim_kumesi_skoru[y] = dt_classifier.score(smote_train_X, smote_train_Y)\n",
    "                x_index.append(k*1000+100*j+10*l+m)\n",
    "                #Compute accuracy on the testing set\n",
    "                test_kumesi_skoru[y] = dt_classifier.score(smote_test_X, smote_test_Y)\n",
    "                y=y+1"
   ]
  },
  {
   "cell_type": "code",
   "execution_count": 152,
   "metadata": {},
   "outputs": [
    {
     "data": {
      "image/png": "[encoded data removed]",
      "text/plain": [
       "<Figure size 700x300 with 1 Axes>"
      ]
     },
     "metadata": {},
     "output_type": "display_data"
    }
   ],
   "source": [
    "\n",
    "plt.figure(figsize=(7,3), dpi = 100)\n",
    "plt.plot(x_index, test_kumesi_skoru, label = 'Test kümesi')\n",
    "plt.plot(x_index, egitim_kumesi_skoru, label = 'Eğitim kümesi')\n",
    "plt.legend()\n",
    "plt.title('Komşu Sayılarına Göre Model Skoru (k-NN)', fontdict= baslik_font)\n",
    "plt.xlabel('Komşu Sayısı', fontdict= eksen_font)\n",
    "plt.ylabel('Doğruluk', fontdict= eksen_font)\n",
    "plt.show()"
   ]
  },
  {
   "cell_type": "code",
   "execution_count": 153,
   "metadata": {},
   "outputs": [],
   "source": [
    "# burdan anladıgım 17000 gıbı egıtımın skore unun sabıtlenıp yaklasık 1 e gıtmesı o zaman aralık olarak max_depth i 15,17 arasında secmek, grafıge bakarken daha mantıklı olacaktır"
   ]
  },
  {
   "cell_type": "code",
   "execution_count": 154,
   "metadata": {},
   "outputs": [],
   "source": [
    "max_depth = np.arange(16, 18)\n",
    "max_feature=np.arange(1,10)\n",
    "min_samples_split=np.arange(2,6)\n",
    "min_samples_leaf=np.arange(1,6)\n",
    "\n",
    "egitim_kumesi_skoru = np.empty(360)\n",
    "test_kumesi_skoru = np.empty(360)\n",
    "x_index=list()\n",
    "# x_index diye tanımladıgım yukarıdakı dort degıskenın yan yana yazılarak olusturdugu sayı,\n"
   ]
  },
  {
   "cell_type": "code",
   "execution_count": 172,
   "metadata": {},
   "outputs": [],
   "source": [
    "y=0\n",
    "for k in max_depth:\n",
    "    for j in max_feature:\n",
    "        for l in min_samples_leaf:\n",
    "            for m in min_samples_split:\n",
    "                dt_classifier = DecisionTreeClassifier(max_depth = k,\n",
    "                                                       min_samples_split= m,\n",
    "                                                       min_samples_leaf=l,\n",
    "                                                       max_features=j,\n",
    "                                                       splitter  = \"best\",\n",
    "                                                       criterion = \"gini\",\n",
    "                                                      )\n",
    "                dt_classifier.fit(smote_train_X, smote_train_Y)\n",
    "                \n",
    "                \n",
    "                egitim_kumesi_skoru[y] = dt_classifier.score(smote_train_X, smote_train_Y)\n",
    "                x_index.append(k*1000+100*j+10*l+m)\n",
    "                #Compute accuracy on the testing set\n",
    "                test_kumesi_skoru[y] = dt_classifier.score(smote_test_X, smote_test_Y)\n",
    "                y=y+1\n"
   ]
  },
  {
   "cell_type": "code",
   "execution_count": 156,
   "metadata": {},
   "outputs": [
    {
     "data": {
      "image/png": "[encoded data removed]",
      "text/plain": [
       "<Figure size 700x300 with 1 Axes>"
      ]
     },
     "metadata": {},
     "output_type": "display_data"
    }
   ],
   "source": [
    "\n",
    "plt.figure(figsize=(7,3), dpi = 100)\n",
    "plt.plot(x_index, test_kumesi_skoru, label = 'Test kümesi')\n",
    "plt.plot(x_index, egitim_kumesi_skoru, label = 'Eğitim kümesi')\n",
    "plt.legend()\n",
    "plt.title('Komşu Sayılarına Göre Model Skoru (k-NN)', fontdict= baslik_font)\n",
    "plt.xlabel('Komşu Sayısı', fontdict= eksen_font)\n",
    "plt.ylabel('Doğruluk', fontdict= eksen_font)\n",
    "plt.show()"
   ]
  },
  {
   "cell_type": "code",
   "execution_count": 157,
   "metadata": {},
   "outputs": [],
   "source": [
    "# aralıgı yıne daraltmak için 16500 16750 aralıgı ıcın max_feature 5-7 aralıgı ve max_depth 16 olacak sekılde grafıge zoom yaparak bakmaya devam edelim"
   ]
  },
  {
   "cell_type": "code",
   "execution_count": 158,
   "metadata": {},
   "outputs": [],
   "source": [
    "max_depth = np.arange(16, 17)\n",
    "max_feature=np.arange(5,8)\n",
    "min_samples_split=np.arange(2,6)\n",
    "min_samples_leaf=np.arange(1,6)\n",
    "\n",
    "egitim_kumesi_skoru = np.empty(60)\n",
    "test_kumesi_skoru = np.empty(60)\n",
    "x_index=list()\n",
    "# x_index diye tanımladıgım yukarıdakı dort degıskenın yan yana yazılarak olusturdugu sayı,\n"
   ]
  },
  {
   "cell_type": "code",
   "execution_count": 171,
   "metadata": {},
   "outputs": [],
   "source": [
    "y=0\n",
    "for k in max_depth:\n",
    "    for j in max_feature:\n",
    "        for l in min_samples_leaf:\n",
    "            for m in min_samples_split:\n",
    "                dt_classifier = DecisionTreeClassifier(max_depth = k,\n",
    "                                                       min_samples_split= m,\n",
    "                                                       min_samples_leaf=l,\n",
    "                                                       max_features=j,\n",
    "                                                       splitter  = \"best\",\n",
    "                                                       criterion = \"gini\",\n",
    "                                                      )\n",
    "                dt_classifier.fit(smote_train_X, smote_train_Y)\n",
    "                \n",
    "                \n",
    "                egitim_kumesi_skoru[y] = dt_classifier.score(smote_train_X, smote_train_Y)\n",
    "                x_index.append(k*1000+100*j+10*l+m)\n",
    "                #Compute accuracy on the testing set\n",
    "                test_kumesi_skoru[y] = dt_classifier.score(smote_test_X, smote_test_Y)\n",
    "                y=y+1\n"
   ]
  },
  {
   "cell_type": "code",
   "execution_count": 160,
   "metadata": {},
   "outputs": [
    {
     "data": {
      "image/png": "[encoded data removed]",
      "text/plain": [
       "<Figure size 700x300 with 1 Axes>"
      ]
     },
     "metadata": {},
     "output_type": "display_data"
    }
   ],
   "source": [
    "\n",
    "plt.figure(figsize=(7,3), dpi = 100)\n",
    "plt.plot(x_index, test_kumesi_skoru, label = 'Test kümesi')\n",
    "plt.plot(x_index, egitim_kumesi_skoru, label = 'Eğitim kümesi')\n",
    "plt.legend()\n",
    "plt.title('Komşu Sayılarına Göre Model Skoru (k-NN)', fontdict= baslik_font)\n",
    "plt.xlabel('Komşu Sayısı', fontdict= eksen_font)\n",
    "plt.ylabel('Doğruluk', fontdict= eksen_font)\n",
    "plt.show()"
   ]
  },
  {
   "cell_type": "code",
   "execution_count": 161,
   "metadata": {},
   "outputs": [],
   "source": [
    "# aralıgı yıne daraltmak için 16700 16750 aralıgı ıcın max_feature 7 ve max_depth 16 olacak sekılde grafıge zoom yaparak bakmaya devam edelim"
   ]
  },
  {
   "cell_type": "code",
   "execution_count": 162,
   "metadata": {},
   "outputs": [],
   "source": [
    "max_depth = np.arange(16, 17)\n",
    "max_feature=np.arange(7,8)\n",
    "min_samples_split=np.arange(2,6)\n",
    "min_samples_leaf=np.arange(1,6)\n",
    "\n",
    "egitim_kumesi_skoru = np.empty(20)\n",
    "test_kumesi_skoru = np.empty(20)\n",
    "x_index=list()\n",
    "# x_index diye tanımladıgım yukarıdakı dort degıskenın yan yana yazılarak olusturdugu sayı,"
   ]
  },
  {
   "cell_type": "code",
   "execution_count": 170,
   "metadata": {},
   "outputs": [],
   "source": [
    "y=0\n",
    "for k in max_depth:\n",
    "    for j in max_feature:\n",
    "        for l in min_samples_leaf:\n",
    "            for m in min_samples_split:\n",
    "                dt_classifier = DecisionTreeClassifier(max_depth = k,\n",
    "                                                       min_samples_split= m,\n",
    "                                                       min_samples_leaf=l,\n",
    "                                                       max_features=j,\n",
    "                                                       splitter  = \"best\",\n",
    "                                                       criterion = \"gini\",\n",
    "                                                      )\n",
    "                dt_classifier.fit(smote_train_X, smote_train_Y)\n",
    "                \n",
    "                \n",
    "                egitim_kumesi_skoru[y] = dt_classifier.score(smote_train_X, smote_train_Y)\n",
    "                x_index.append(k*1000+100*j+10*l+m)\n",
    "                #Compute accuracy on the testing set\n",
    "                test_kumesi_skoru[y] = dt_classifier.score(smote_test_X, smote_test_Y)\n",
    "                y=y+1\n"
   ]
  },
  {
   "cell_type": "code",
   "execution_count": 164,
   "metadata": {},
   "outputs": [
    {
     "data": {
      "image/png": "[encoded data removed]",
      "text/plain": [
       "<Figure size 700x300 with 1 Axes>"
      ]
     },
     "metadata": {},
     "output_type": "display_data"
    }
   ],
   "source": [
    "\n",
    "plt.figure(figsize=(7,3), dpi = 100)\n",
    "plt.plot(x_index, test_kumesi_skoru, label = 'Test kümesi')\n",
    "plt.plot(x_index, egitim_kumesi_skoru, label = 'Eğitim kümesi')\n",
    "plt.legend()\n",
    "plt.title('Komşu Sayılarına Göre Model Skoru (k-NN)', fontdict= baslik_font)\n",
    "plt.xlabel('Komşu Sayısı', fontdict= eksen_font)\n",
    "plt.ylabel('Doğruluk', fontdict= eksen_font)\n",
    "plt.show()"
   ]
  },
  {
   "cell_type": "code",
   "execution_count": 165,
   "metadata": {},
   "outputs": [],
   "source": [
    "# aralıgı yıne daraltmak için 16700 16750 aralıgı ıcın min_samples_leaf 1 veya 2 , max_feature 7 ve max_depth 16 olacak sekılde grafıge zoom yaparak bakmaya devam edelim"
   ]
  },
  {
   "cell_type": "code",
   "execution_count": 166,
   "metadata": {},
   "outputs": [],
   "source": [
    "max_depth = np.arange(16, 17)\n",
    "max_feature=np.arange(7,8)\n",
    "min_samples_split=np.arange(2,6)\n",
    "min_samples_leaf=np.arange(1,3)\n",
    "\n",
    "egitim_kumesi_skoru = np.empty(8)\n",
    "test_kumesi_skoru = np.empty(8)\n",
    "x_index=list()\n",
    "# x_index diye tanımladıgım yukarıdakı dort degıskenın yan yana yazılarak olusturdugu sayı,"
   ]
  },
  {
   "cell_type": "code",
   "execution_count": 169,
   "metadata": {},
   "outputs": [],
   "source": [
    "y=0\n",
    "for k in max_depth:\n",
    "    for j in max_feature:\n",
    "        for l in min_samples_leaf:\n",
    "            for m in min_samples_split:\n",
    "                dt_classifier = DecisionTreeClassifier(max_depth = k,\n",
    "                                                       min_samples_split= m,\n",
    "                                                       min_samples_leaf=l,\n",
    "                                                       max_features=j,\n",
    "                                                       splitter  = \"best\",\n",
    "                                                       criterion = \"gini\",\n",
    "                                                      )\n",
    "                dt_classifier.fit(smote_train_X, smote_train_Y)\n",
    "                \n",
    "                \n",
    "                egitim_kumesi_skoru[y] = dt_classifier.score(smote_train_X, smote_train_Y)\n",
    "                x_index.append(k*1000+100*j+10*l+m)\n",
    "                #Compute accuracy on the testing set\n",
    "                test_kumesi_skoru[y] = dt_classifier.score(smote_test_X, smote_test_Y)\n",
    "                y=y+1\n"
   ]
  },
  {
   "cell_type": "code",
   "execution_count": 168,
   "metadata": {},
   "outputs": [
    {
     "data": {
      "image/png": "[encoded data removed]",
      "text/plain": [
       "<Figure size 700x300 with 1 Axes>"
      ]
     },
     "metadata": {},
     "output_type": "display_data"
    }
   ],
   "source": [
    "\n",
    "plt.figure(figsize=(7,3), dpi = 100)\n",
    "plt.plot(x_index, test_kumesi_skoru, label = 'Test kümesi')\n",
    "plt.plot(x_index, egitim_kumesi_skoru, label = 'Eğitim kümesi')\n",
    "plt.legend()\n",
    "plt.title('Komşu Sayılarına Göre Model Skoru (k-NN)', fontdict= baslik_font)\n",
    "plt.xlabel('Komşu Sayısı', fontdict= eksen_font)\n",
    "plt.ylabel('Doğruluk', fontdict= eksen_font)\n",
    "plt.show()"
   ]
  },
  {
   "cell_type": "code",
   "execution_count": 173,
   "metadata": {},
   "outputs": [],
   "source": [
    "# Best degerler\n",
    "# max_depth = 16\n",
    "# max_feature=7\n",
    "# min_samples_split=2\n",
    "# min_samples_leaf=1"
   ]
  },
  {
   "cell_type": "code",
   "execution_count": 175,
   "metadata": {},
   "outputs": [
    {
     "name": "stdout",
     "output_type": "stream",
     "text": [
      "DecisionTreeClassifier(class_weight=None, criterion='gini', max_depth=16,\n",
      "                       max_features=7, max_leaf_nodes=None,\n",
      "                       min_impurity_decrease=0.0, min_impurity_split=None,\n",
      "                       min_samples_leaf=1, min_samples_split=2,\n",
      "                       min_weight_fraction_leaf=0.0, presort=False,\n",
      "                       random_state=None, splitter='best')\n",
      "\n",
      " Classification report : \n",
      "               precision    recall  f1-score   support\n",
      "\n",
      "           0       0.85      0.78      0.81       245\n",
      "           1       0.80      0.86      0.83       249\n",
      "\n",
      "    accuracy                           0.82       494\n",
      "   macro avg       0.82      0.82      0.82       494\n",
      "weighted avg       0.82      0.82      0.82       494\n",
      "\n",
      "Accuracy   Score :  0.8218623481781376\n",
      "Area under curve :  0.8215228259978691 \n",
      "\n",
      "This is the format of your plot grid:\n",
      "[ (1,1) x1,y1 ]  [ (1,2) x2,y2 ]\n",
      "\n"
     ]
    },
    {
     "data": {
      "text/html": [
       "<iframe id=\"igraph\" scrolling=\"no\" style=\"border:none;\" seamless=\"seamless\" src=\"https://plot.ly/~mehtapcanli/24.embed\" height=\"600px\" width=\"800px\"></iframe>"
      ],
      "text/plain": [
       "<chart_studio.tools.PlotlyDisplay object>"
      ]
     },
     "execution_count": 175,
     "metadata": {},
     "output_type": "execute_result"
    }
   ],
   "source": [
    "dt_classifier = DecisionTreeClassifier(max_depth = 16,\n",
    "                                        max_features=7,\n",
    "                                        min_samples_split=2,\n",
    "                                        min_samples_leaf=1,\n",
    "                                        splitter  = \"best\",\n",
    "                                        criterion = \"gini\",\n",
    "                                        )\n",
    "dt_classifier.fit(smote_train_X,smote_train_Y)\n",
    "\n",
    "employee_attrition_prediction(dt_classifier,\n",
    "                              smote_train_X,smote_test_X,smote_train_Y,smote_test_Y,\n",
    "                              cols,\"features\",threshold_plot = True)\n",
    "\n"
   ]
  },
  {
   "cell_type": "markdown",
   "metadata": {},
   "source": [
    "## Rasgele Orman"
   ]
  },
  {
   "cell_type": "markdown",
   "metadata": {},
   "source": [
    "### Rasgele Orman ile Sınıflandırma"
   ]
  },
  {
   "cell_type": "code",
   "execution_count": 176,
   "metadata": {},
   "outputs": [
    {
     "data": {
      "text/plain": [
       "RandomForestClassifier(bootstrap=True, class_weight=None, criterion='gini',\n",
       "                       max_depth=None, max_features='auto', max_leaf_nodes=None,\n",
       "                       min_impurity_decrease=0.0, min_impurity_split=None,\n",
       "                       min_samples_leaf=1, min_samples_split=2,\n",
       "                       min_weight_fraction_leaf=0.0, n_estimators=25,\n",
       "                       n_jobs=None, oob_score=False, random_state=2, verbose=0,\n",
       "                       warm_start=False)"
      ]
     },
     "execution_count": 176,
     "metadata": {},
     "output_type": "execute_result"
    }
   ],
   "source": [
    "from sklearn.ensemble import RandomForestClassifier\n",
    "rastgele_orman = RandomForestClassifier(n_estimators=25, random_state=2)\n",
    "rastgele_orman.fit(smote_train_X, smote_train_Y) "
   ]
  },
  {
   "cell_type": "code",
   "execution_count": 177,
   "metadata": {},
   "outputs": [
    {
     "name": "stdout",
     "output_type": "stream",
     "text": [
      "Rastgele Orman Doğruluk Değeri : 0.87\n"
     ]
    }
   ],
   "source": [
    "from sklearn.metrics import accuracy_score\n",
    "y_tahmin_ro = rastgele_orman.predict(smote_test_X)\n",
    "print(\"Rastgele Orman Doğruluk Değeri : {:.2f}\".format(accuracy_score(smote_test_Y, y_tahmin_ro)))"
   ]
  },
  {
   "cell_type": "code",
   "execution_count": 178,
   "metadata": {},
   "outputs": [
    {
     "data": {
      "image/png": "[encoded data removed]",
      "text/plain": [
       "<Figure size 576x396 with 1 Axes>"
      ]
     },
     "metadata": {},
     "output_type": "display_data"
    }
   ],
   "source": [
    "önem_dereceleri = pd.Series(data=rastgele_orman.feature_importances_,\n",
    "                        index= smote_train_X.columns)\n",
    "\n",
    "önem_dereceleri_sıralı = önem_dereceleri.sort_values()\n",
    "\n",
    "önem_dereceleri_sıralı.plot(kind='barh', color='darkblue')\n",
    "plt.title('Değişkenlerin Önem Dereceleri')\n",
    "plt.show()"
   ]
  },
  {
   "cell_type": "markdown",
   "metadata": {},
   "source": [
    "### SVM"
   ]
  },
  {
   "cell_type": "code",
   "execution_count": 180,
   "metadata": {},
   "outputs": [
    {
     "name": "stdout",
     "output_type": "stream",
     "text": [
      "SVC(C=1.0, cache_size=200, class_weight=None, coef0=0.0,\n",
      "    decision_function_shape='ovr', degree=3, gamma=1.0, kernel='linear',\n",
      "    max_iter=-1, probability=True, random_state=None, shrinking=True, tol=0.001,\n",
      "    verbose=False)\n",
      "\n",
      " Classification report : \n",
      "               precision    recall  f1-score   support\n",
      "\n",
      "           0       0.76      0.85      0.80       245\n",
      "           1       0.83      0.74      0.79       249\n",
      "\n",
      "    accuracy                           0.80       494\n",
      "   macro avg       0.80      0.80      0.80       494\n",
      "weighted avg       0.80      0.80      0.80       494\n",
      "\n",
      "Accuracy   Score :  0.7955465587044535\n",
      "Area under curve :  0.7959757396934677 \n",
      "\n",
      "This is the format of your plot grid:\n",
      "[ (1,1) x1,y1 ]  [ (1,2) x2,y2 ]\n",
      "\n"
     ]
    },
    {
     "data": {
      "text/html": [
       "<iframe id=\"igraph\" scrolling=\"no\" style=\"border:none;\" seamless=\"seamless\" src=\"https://plot.ly/~mehtapcanli/26.embed\" height=\"600px\" width=\"800px\"></iframe>"
      ],
      "text/plain": [
       "<chart_studio.tools.PlotlyDisplay object>"
      ]
     },
     "execution_count": 180,
     "metadata": {},
     "output_type": "execute_result"
    }
   ],
   "source": [
    "from sklearn.svm import SVC\n",
    "\n",
    "#Support vector classifier\n",
    "#using linear hyper plane\n",
    "svc_lin  = SVC(C=1.0, cache_size=200, class_weight=None, coef0=0.0,\n",
    "               decision_function_shape='ovr', degree=3, gamma=1.0, kernel='linear',\n",
    "               max_iter=-1, probability=True, random_state=None, shrinking=True,\n",
    "               tol=0.001, verbose=False)\n",
    "\n",
    "employee_attrition_prediction(svc_lin,smote_train_X,smote_test_X,smote_train_Y,smote_test_Y,\n",
    "                         cols,\"coefficients\",threshold_plot = False)"
   ]
  },
  {
   "cell_type": "markdown",
   "metadata": {},
   "source": [
    "## XGBoost ile Boosting"
   ]
  },
  {
   "cell_type": "markdown",
   "metadata": {},
   "source": [
    "### XGBoost ile Sınıflandırma"
   ]
  },
  {
   "cell_type": "code",
   "execution_count": 181,
   "metadata": {},
   "outputs": [],
   "source": [
    "import xgboost as xgb\n",
    "import warnings\n",
    "warnings.filterwarnings('ignore')\n",
    "attrition_dmatrix = xgb.DMatrix(data=smote_X, label=smote_Y)"
   ]
  },
  {
   "cell_type": "code",
   "execution_count": 182,
   "metadata": {},
   "outputs": [],
   "source": [
    "params = {\"objective\":\"reg:logistic\", \"max_depth\":3, \"silent\":1}"
   ]
  },
  {
   "cell_type": "code",
   "execution_count": 183,
   "metadata": {},
   "outputs": [
    {
     "data": {
      "text/html": [
       "<div>\n",
       "<style scoped>\n",
       "    .dataframe tbody tr th:only-of-type {\n",
       "        vertical-align: middle;\n",
       "    }\n",
       "\n",
       "    .dataframe tbody tr th {\n",
       "        vertical-align: top;\n",
       "    }\n",
       "\n",
       "    .dataframe thead th {\n",
       "        text-align: right;\n",
       "    }\n",
       "</style>\n",
       "<table border=\"1\" class=\"dataframe\">\n",
       "  <thead>\n",
       "    <tr style=\"text-align: right;\">\n",
       "      <th></th>\n",
       "      <th>train-error-mean</th>\n",
       "      <th>train-error-std</th>\n",
       "      <th>test-error-mean</th>\n",
       "      <th>test-error-std</th>\n",
       "    </tr>\n",
       "  </thead>\n",
       "  <tbody>\n",
       "    <tr>\n",
       "      <th>0</th>\n",
       "      <td>0.139796000000000</td>\n",
       "      <td>0.012933835625985</td>\n",
       "      <td>0.144218000000000</td>\n",
       "      <td>0.025289076258337</td>\n",
       "    </tr>\n",
       "    <tr>\n",
       "      <th>1</th>\n",
       "      <td>0.134694000000000</td>\n",
       "      <td>0.008456006977291</td>\n",
       "      <td>0.148299666666667</td>\n",
       "      <td>0.018354766162741</td>\n",
       "    </tr>\n",
       "    <tr>\n",
       "      <th>2</th>\n",
       "      <td>0.134013666666667</td>\n",
       "      <td>0.008830585497136</td>\n",
       "      <td>0.146258333333333</td>\n",
       "      <td>0.019527382643070</td>\n",
       "    </tr>\n",
       "    <tr>\n",
       "      <th>3</th>\n",
       "      <td>0.131292333333333</td>\n",
       "      <td>0.011674123873860</td>\n",
       "      <td>0.146258666666667</td>\n",
       "      <td>0.021099143431797</td>\n",
       "    </tr>\n",
       "    <tr>\n",
       "      <th>4</th>\n",
       "      <td>0.128231333333333</td>\n",
       "      <td>0.013287212507604</td>\n",
       "      <td>0.142176666666667</td>\n",
       "      <td>0.022684687938980</td>\n",
       "    </tr>\n",
       "  </tbody>\n",
       "</table>\n",
       "</div>"
      ],
      "text/plain": [
       "   train-error-mean   train-error-std   test-error-mean    test-error-std\n",
       "0 0.139796000000000 0.012933835625985 0.144218000000000 0.025289076258337\n",
       "1 0.134694000000000 0.008456006977291 0.148299666666667 0.018354766162741\n",
       "2 0.134013666666667 0.008830585497136 0.146258333333333 0.019527382643070\n",
       "3 0.131292333333333 0.011674123873860 0.146258666666667 0.021099143431797\n",
       "4 0.128231333333333 0.013287212507604 0.142176666666667 0.022684687938980"
      ]
     },
     "metadata": {},
     "output_type": "display_data"
    }
   ],
   "source": [
    "attrition_cv = xgb.cv(dtrain=attrition_dmatrix, params=params, nfold=3, \n",
    "                    num_boost_round=5, metrics=\"error\", as_pandas=True, seed=123)\n",
    "display(attrition_cv)"
   ]
  },
  {
   "cell_type": "code",
   "execution_count": 184,
   "metadata": {},
   "outputs": [
    {
     "name": "stdout",
     "output_type": "stream",
     "text": [
      "Doğruluk Değeri : 0.858\n"
     ]
    }
   ],
   "source": [
    "print('Doğruluk Değeri : {:.3f}'.format((1-attrition_cv[\"test-error-mean\"]).max()))"
   ]
  },
  {
   "cell_type": "code",
   "execution_count": 185,
   "metadata": {},
   "outputs": [
    {
     "data": {
      "text/html": [
       "<div>\n",
       "<style scoped>\n",
       "    .dataframe tbody tr th:only-of-type {\n",
       "        vertical-align: middle;\n",
       "    }\n",
       "\n",
       "    .dataframe tbody tr th {\n",
       "        vertical-align: top;\n",
       "    }\n",
       "\n",
       "    .dataframe thead th {\n",
       "        text-align: right;\n",
       "    }\n",
       "</style>\n",
       "<table border=\"1\" class=\"dataframe\">\n",
       "  <thead>\n",
       "    <tr style=\"text-align: right;\">\n",
       "      <th></th>\n",
       "      <th>train-auc-mean</th>\n",
       "      <th>train-auc-std</th>\n",
       "      <th>test-auc-mean</th>\n",
       "      <th>test-auc-std</th>\n",
       "    </tr>\n",
       "  </thead>\n",
       "  <tbody>\n",
       "    <tr>\n",
       "      <th>0</th>\n",
       "      <td>0.745115666666667</td>\n",
       "      <td>0.007707943795563</td>\n",
       "      <td>0.703123333333333</td>\n",
       "      <td>0.051787074605757</td>\n",
       "    </tr>\n",
       "    <tr>\n",
       "      <th>1</th>\n",
       "      <td>0.795664333333333</td>\n",
       "      <td>0.020127462902435</td>\n",
       "      <td>0.742381333333333</td>\n",
       "      <td>0.031633592464692</td>\n",
       "    </tr>\n",
       "    <tr>\n",
       "      <th>2</th>\n",
       "      <td>0.808331000000000</td>\n",
       "      <td>0.014621412950419</td>\n",
       "      <td>0.752558333333333</td>\n",
       "      <td>0.033862094218889</td>\n",
       "    </tr>\n",
       "    <tr>\n",
       "      <th>3</th>\n",
       "      <td>0.816783666666667</td>\n",
       "      <td>0.011450213748611</td>\n",
       "      <td>0.758833666666667</td>\n",
       "      <td>0.032875941612202</td>\n",
       "    </tr>\n",
       "    <tr>\n",
       "      <th>4</th>\n",
       "      <td>0.832384333333333</td>\n",
       "      <td>0.009368811391467</td>\n",
       "      <td>0.763500000000000</td>\n",
       "      <td>0.032074843694085</td>\n",
       "    </tr>\n",
       "  </tbody>\n",
       "</table>\n",
       "</div>"
      ],
      "text/plain": [
       "     train-auc-mean     train-auc-std     test-auc-mean      test-auc-std\n",
       "0 0.745115666666667 0.007707943795563 0.703123333333333 0.051787074605757\n",
       "1 0.795664333333333 0.020127462902435 0.742381333333333 0.031633592464692\n",
       "2 0.808331000000000 0.014621412950419 0.752558333333333 0.033862094218889\n",
       "3 0.816783666666667 0.011450213748611 0.758833666666667 0.032875941612202\n",
       "4 0.832384333333333 0.009368811391467 0.763500000000000 0.032074843694085"
      ]
     },
     "metadata": {},
     "output_type": "display_data"
    },
    {
     "name": "stdout",
     "output_type": "stream",
     "text": [
      "AUC Skoru : 0.763\n"
     ]
    }
   ],
   "source": [
    "attrition_auc = xgb.cv(dtrain=attrition_dmatrix, params=params, nfold=3, \n",
    "                    num_boost_round=5, metrics=\"auc\", as_pandas=True, seed=123)\n",
    "display(attrition_auc)\n",
    "print('AUC Skoru : {:.3f}'.format(attrition_auc[\"test-auc-mean\"].max()))"
   ]
  },
  {
   "cell_type": "code",
   "execution_count": 186,
   "metadata": {},
   "outputs": [],
   "source": [
    "from sklearn.datasets import load_boston\n",
    "from sklearn.metrics import mean_squared_error"
   ]
  },
  {
   "cell_type": "code",
   "execution_count": 187,
   "metadata": {},
   "outputs": [],
   "source": [
    "xg_reg = xgb.XGBRegressor(objective ='reg:linear', seed=123)"
   ]
  },
  {
   "cell_type": "code",
   "execution_count": 188,
   "metadata": {},
   "outputs": [
    {
     "name": "stdout",
     "output_type": "stream",
     "text": [
      "[21:42:04] WARNING: C:/Jenkins/workspace/xgboost-win64_release_0.90/src/objective/regression_obj.cu:152: reg:linear is now deprecated in favor of reg:squarederror.\n",
      "RMSE: 0.358450\n"
     ]
    }
   ],
   "source": [
    "\n",
    "xg_reg.fit(smote_train_X,smote_train_Y)\n",
    "y_tahmin = xg_reg.predict(smote_test_X)\n",
    "rmse = np.sqrt(mean_squared_error(smote_test_Y, y_tahmin))\n",
    "print(\"RMSE: %f\" % (rmse))"
   ]
  },
  {
   "cell_type": "code",
   "execution_count": 189,
   "metadata": {},
   "outputs": [
    {
     "name": "stdout",
     "output_type": "stream",
     "text": [
      "[21:42:04] WARNING: C:/Jenkins/workspace/xgboost-win64_release_0.90/src/objective/regression_obj.cu:152: reg:linear is now deprecated in favor of reg:squarederror.\n"
     ]
    }
   ],
   "source": [
    "DM_train = xgb.DMatrix(data = smote_train_X, label=smote_train_Y)\n",
    "DM_test =  xgb.DMatrix(data = smote_test_X, label=smote_test_Y)\n",
    "params = {\"booster\":\"gblinear\", \"objective\":\"reg:linear\"}\n",
    "xg_reg = xgb.train(dtrain=DM_train, params=params, num_boost_round=5)"
   ]
  },
  {
   "cell_type": "code",
   "execution_count": 190,
   "metadata": {},
   "outputs": [
    {
     "name": "stdout",
     "output_type": "stream",
     "text": [
      "RMSE: 0.449735\n"
     ]
    }
   ],
   "source": [
    "y_tahmin_gblinear = xg_reg.predict(DM_test)\n",
    "rmse = np.sqrt(mean_squared_error(smote_test_Y, y_tahmin_gblinear))\n",
    "print(\"RMSE: %f\" % (rmse))"
   ]
  },
  {
   "cell_type": "code",
   "execution_count": 191,
   "metadata": {},
   "outputs": [
    {
     "data": {
      "image/png": "[encoded data removed]",
      "text/plain": [
       "<Figure size 576x576 with 1 Axes>"
      ]
     },
     "metadata": {},
     "output_type": "display_data"
    }
   ],
   "source": [
    "plt.figure(figsize=(8,8))\n",
    "plt.title(\"'gbtree' ve 'gblinear' karşılaştırması\", size = 14)\n",
    "ax1 = plt.scatter(smote_test_Y, y_tahmin)\n",
    "ax2 = plt.scatter(smote_test_Y, y_tahmin_gblinear, alpha=0.30)\n",
    "ax3 = plt.plot(smote_test_Y, smote_test_Y, color=\"red\")\n",
    "plt.legend((ax1, ax2), ('gbtree', 'gblinear'))\n",
    "plt.xlabel(\"Gerçek Değerler\")\n",
    "plt.ylabel(\"Tahmin Değerler\")\n",
    "plt.show()"
   ]
  },
  {
   "cell_type": "code",
   "execution_count": 192,
   "metadata": {},
   "outputs": [
    {
     "name": "stdout",
     "output_type": "stream",
     "text": [
      "XGBClassifier(base_score=0.5, booster='gbtree', colsample_bylevel=1,\n",
      "              colsample_bynode=1, colsample_bytree=1, gamma=0,\n",
      "              learning_rate=0.9, max_delta_step=0, max_depth=7,\n",
      "              min_child_weight=1, missing=None, n_estimators=100, n_jobs=1,\n",
      "              nthread=None, objective='binary:logistic', random_state=0,\n",
      "              reg_alpha=0, reg_lambda=1, scale_pos_weight=1, seed=None,\n",
      "              silent=True, subsample=1, verbosity=1)\n",
      "\n",
      " Classification report : \n",
      "               precision    recall  f1-score   support\n",
      "\n",
      "           0       0.89      0.88      0.88       245\n",
      "           1       0.88      0.89      0.89       249\n",
      "\n",
      "    accuracy                           0.88       494\n",
      "   macro avg       0.88      0.88      0.88       494\n",
      "weighted avg       0.88      0.88      0.88       494\n",
      "\n",
      "Accuracy   Score :  0.8846153846153846\n",
      "Area under curve :  0.884558642734202 \n",
      "\n",
      "This is the format of your plot grid:\n",
      "[ (1,1) x1,y1 ]  [ (1,2) x2,y2 ]\n",
      "\n"
     ]
    },
    {
     "data": {
      "text/html": [
       "<iframe id=\"igraph\" scrolling=\"no\" style=\"border:none;\" seamless=\"seamless\" src=\"https://plot.ly/~mehtapcanli/28.embed\" height=\"600px\" width=\"800px\"></iframe>"
      ],
      "text/plain": [
       "<chart_studio.tools.PlotlyDisplay object>"
      ]
     },
     "execution_count": 192,
     "metadata": {},
     "output_type": "execute_result"
    }
   ],
   "source": [
    "from xgboost import XGBClassifier\n",
    "\n",
    "xgc = XGBClassifier(base_score=0.5, booster='gbtree', colsample_bylevel=1,\n",
    "                    colsample_bytree=1, gamma=0, learning_rate=0.9, max_delta_step=0,\n",
    "                    max_depth = 7, min_child_weight=1, missing=None, n_estimators=100,\n",
    "                    n_jobs=1, nthread=None, objective='binary:logistic', random_state=0,\n",
    "                    reg_alpha=0, reg_lambda=1, scale_pos_weight=1, seed=None,\n",
    "                    silent=True, subsample=1)\n",
    "\n",
    "\n",
    "employee_attrition_prediction(xgc,smote_train_X,smote_test_X,smote_train_Y,smote_test_Y,\n",
    "                         cols,\"features\",threshold_plot = True)"
   ]
  },
  {
   "cell_type": "code",
   "execution_count": null,
   "metadata": {},
   "outputs": [],
   "source": []
  },
  {
   "cell_type": "code",
   "execution_count": null,
   "metadata": {},
   "outputs": [],
   "source": []
  },
  {
   "cell_type": "markdown",
   "metadata": {},
   "source": [
    "### XGBoost ile model performansını artırma"
   ]
  },
  {
   "cell_type": "code",
   "execution_count": null,
   "metadata": {},
   "outputs": [],
   "source": [
    "sonra bakılacak"
   ]
  },
  {
   "cell_type": "markdown",
   "metadata": {},
   "source": [
    "## Light GBM ile Boosting"
   ]
  },
  {
   "cell_type": "markdown",
   "metadata": {},
   "source": [
    "### Light GBM ile Sınıflandırma"
   ]
  },
  {
   "cell_type": "code",
   "execution_count": null,
   "metadata": {},
   "outputs": [],
   "source": [
    "import lightgbm as lgb\n",
    "# smote_train_X,smote_test_X,smote_train_Y,smote_test_Y "
   ]
  },
  {
   "cell_type": "code",
   "execution_count": null,
   "metadata": {},
   "outputs": [],
   "source": [
    "d_train = lgb.Dataset(smote_train_X, label=smote_train_Y)"
   ]
  },
  {
   "cell_type": "code",
   "execution_count": null,
   "metadata": {},
   "outputs": [],
   "source": [
    "params = {'boosting_type' : 'gbdt',\n",
    "          'objective' : 'binary',\n",
    "          'metric' : 'binary_logloss',\n",
    "          'sub_feature' : 0.5,\n",
    "          'num_leaves' :  10,\n",
    "          'min_data' : 50,\n",
    "          'max_depth' : 10}"
   ]
  },
  {
   "cell_type": "code",
   "execution_count": null,
   "metadata": {},
   "outputs": [],
   "source": [
    "lgb_model = lgb.train(params, d_train, num_boost_round = 100)"
   ]
  },
  {
   "cell_type": "code",
   "execution_count": null,
   "metadata": {},
   "outputs": [],
   "source": [
    "y_tahmin=lgb_model.predict(smote_test_X)\n",
    "y_tahmin[:10]"
   ]
  },
  {
   "cell_type": "code",
   "execution_count": null,
   "metadata": {},
   "outputs": [],
   "source": [
    "y_tahmin = [0 if tahmin < 0.5 else 1 for tahmin in y_tahmin]\n",
    "y_tahmin[:10]"
   ]
  },
  {
   "cell_type": "code",
   "execution_count": null,
   "metadata": {},
   "outputs": [],
   "source": [
    "from sklearn.metrics import accuracy_score\n",
    "dogruluk=accuracy_score(y_tahmin,smote_test_Y)\n",
    "dogruluk"
   ]
  },
  {
   "cell_type": "markdown",
   "metadata": {},
   "source": [
    "### Light GBM ile Regresyon"
   ]
  },
  {
   "cell_type": "code",
   "execution_count": null,
   "metadata": {},
   "outputs": [],
   "source": [
    "d_train = lgb.Dataset(smote_train_X, label=smote_train_Y)"
   ]
  },
  {
   "cell_type": "code",
   "execution_count": null,
   "metadata": {},
   "outputs": [],
   "source": [
    "params = {\n",
    "    'boosting_type': 'gbdt',\n",
    "    'objective': 'regression',\n",
    "    'metric': 'rmsle',\n",
    "    'max_depth': 6, \n",
    "    'learning_rate': 0.1,\n",
    "    'verbose': 0}\n",
    "n_estimators = 100"
   ]
  },
  {
   "cell_type": "code",
   "execution_count": null,
   "metadata": {},
   "outputs": [],
   "source": [
    "lgb_reg_model = lgb.train(params, d_train, num_boost_round = 100)\n",
    "y_tahmin = lgb_reg_model.predict(smote_test_X)\n",
    "y_tahmin_train = lgb_reg_model.predict(smote_train_X)\n",
    "\n",
    "rmse = np.sqrt(mean_squared_error(smote_test_Y, y_tahmin))\n",
    "print(\"RMSE: %f\" % (rmse))"
   ]
  },
  {
   "cell_type": "code",
   "execution_count": null,
   "metadata": {},
   "outputs": [],
   "source": [
    "plt.figure(figsize=(10,10))\n",
    "plt.title('Gerçek Değerler & Tahminler\\n', size = 14)\n",
    "ax1 = plt.scatter(smote_test_Y, y_tahmin)\n",
    "ax2 = plt.scatter(smote_train_Y, y_tahmin_train,alpha=0.30)\n",
    "ax3 = plt.plot(smote_test_Y, smote_test_Y, color=\"red\")\n",
    "plt.legend((ax1, ax2), ('Test Kümesi', 'Eğitim Kümesi'))\n",
    "plt.xlabel(\"Gerçek Değerler\")\n",
    "plt.ylabel(\"Tahminler\")\n",
    "plt.show()"
   ]
  },
  {
   "cell_type": "code",
   "execution_count": null,
   "metadata": {},
   "outputs": [],
   "source": [
    "from lightgbm import LGBMClassifier\n",
    "\n",
    "lgbm_c = LGBMClassifier(boosting_type='gbdt', class_weight=None, colsample_bytree=1.0,\n",
    "                        learning_rate=0.5, max_depth=7, min_child_samples=20,\n",
    "                        min_child_weight=0.001, min_split_gain=0.0, n_estimators=100,\n",
    "                        n_jobs=-1, num_leaves=500, objective='binary', random_state=None,\n",
    "                        reg_alpha=0.0, reg_lambda=0.0, silent=True, subsample=1.0,\n",
    "                        subsample_for_bin=200000, subsample_freq=0)\n",
    "\n",
    "employee_attrition_prediction(lgbm_c,smote_train_X,smote_test_X,smote_train_Y,smote_test_Y,\n",
    "                         cols,\"features\",threshold_plot = True)"
   ]
  },
  {
   "cell_type": "code",
   "execution_count": null,
   "metadata": {},
   "outputs": [],
   "source": []
  },
  {
   "cell_type": "markdown",
   "metadata": {},
   "source": [
    "## Model Performans karşılaştırma"
   ]
  },
  {
   "cell_type": "code",
   "execution_count": null,
   "metadata": {},
   "outputs": [],
   "source": []
  },
  {
   "cell_type": "code",
   "execution_count": null,
   "metadata": {},
   "outputs": [],
   "source": [
    "from sklearn.metrics import f1_score\n",
    "\n",
    "#gives model report in dataframe\n",
    "def model_report(model,training_x,testing_x,training_y,testing_y,name) :\n",
    "    model.fit(training_x,training_y)\n",
    "    predictions  = model.predict(testing_x)\n",
    "    accuracy     = accuracy_score(testing_y,predictions)\n",
    "    recallscore  = recall_score(testing_y,predictions)\n",
    "    precision    = precision_score(testing_y,predictions)\n",
    "    roc_auc      = roc_auc_score(testing_y,predictions)\n",
    "    f1score      = f1_score(testing_y,predictions) \n",
    "    \n",
    "    df = pd.DataFrame({\"Model\"           : [name],\n",
    "                       \"Accuracy_score\"  : [accuracy],\n",
    "                       \"Recall_score\"    : [recallscore],\n",
    "                       \"Precision\"       : [precision],\n",
    "                       \"f1_score\"        : [f1score],\n",
    "                       \"Area_under_curve\": [roc_auc],\n",
    "                      })\n",
    "    return df\n",
    "\n",
    "#outputs for every model\n",
    "model1 = model_report(logit_GridSearchCV,train_X,test_X,train_Y,test_Y,\n",
    "                      \"Logistic Regr(Base)_Grid\")\n",
    "model2 = model_report(logit_RandomizedSearchCV,train_X,test_X,train_Y,test_Y,\n",
    "                      \"Logistic Regr(Base)_Rand\")\n",
    "model3 = model_report(logit_up_GridSearchCV,up_train_X,up_test_X,up_train_Y,up_test_Y,\n",
    "                      \"Logistic Regr(Up)_Grid\")\n",
    "model4 = model_report(logit_up_RandomizedSearchCV,up_train_X,up_test_X,up_train_Y,up_test_Y,\n",
    "                      \"Logistic Regr(Up)_Rand\")\n",
    "model5 = model_report(logit_up_rfe_GridSearchCV,up_rfe_train_X,up_rfe_test_X,up_rfe_train_Y,up_rfe_test_Y,\n",
    "                      \"Logistic Regr(Up_RFE)_Grid\")\n",
    "model6 = model_report(logit_up_rfe_RandomizedSearchCV,up_rfe_train_X,up_rfe_test_X,up_rfe_train_Y,up_rfe_test_Y,\n",
    "                      \"Logistic Regr(Up_RFE)_Rand\")\n",
    "model7 = model_report(logit_down_GridSearchCV,down_train_X,down_test_X,down_train_Y,down_test_Y,\n",
    "                    \"Logistic Regr(Down)_Grid\")\n",
    "model8 = model_report(logit_down_RandomizedSearchCV,down_train_X,down_test_X,down_train_Y,down_test_Y,\n",
    "                      \"Logistic Regr(Down)_Rand\")\n",
    "model9 = model_report(logit_down_rfe_GridSearchCV,down_rfe_train_X,down_rfe_test_X,down_rfe_train_Y,down_rfe_test_Y,\n",
    "                      \"Logistic Regr(Down_RFE)_Gr\")\n",
    "model10 = model_report(logit_down_rfe_RandomizedSearchCV,down_rfe_train_X,down_rfe_test_X,down_rfe_train_Y,down_rfe_test_Y,\n",
    "                      \"Logistic Regr(Down_RFE)_R\")\n",
    "model11 = model_report(logit_smote_GridSearchCV,smote_train_X,smote_test_X,smote_train_Y,smote_test_Y,\n",
    "                      \"Logistic Regr(SMOTE)_Grid\")\n",
    "model12 = model_report(logit_smote_RandomizedSearchCV,smote_train_X,smote_test_X,smote_train_Y,smote_test_Y,\n",
    "                      \"Logistic Regr(SMOTE)_Rand\")\n",
    "model13 = model_report(logit_smote_rfe_GridSearchCV,smote_rfe_train_X,smote_rfe_test_X,smote_rfe_train_Y,smote_rfe_test_Y,\n",
    "                      \"Logistic Regr(SMOTE_RFE)_G\")\n",
    "model14 = model_report(logit_smote_rfe_RandomizedSearchCV,smote_rfe_train_X,smote_rfe_test_X,smote_rfe_train_Y,smote_rfe_test_Y,\n",
    "                      \"Logistic Regr(SMOTE_RFE)_R\")\n",
    "model15 = model_report(logit_adasyn_GridSearchCV,adasyn_train_X,adasyn_test_X,adasyn_train_Y,adasyn_test_Y,\n",
    "                      \"Logistic Regr(ADASYN)_Grid\")\n",
    "model16 = model_report(logit_adasyn_RandomizedSearchCV,adasyn_train_X,adasyn_test_X,adasyn_train_Y,adasyn_test_Y,\n",
    "                      \"Logistic Regr(ADASYN)_Rand\")\n",
    "model17= model_report(logit_adasyn_rfe_GridSearchCV,adasyn_rfe_train_X,adasyn_rfe_test_X,adasyn_rfe_train_Y,adasyn_rfe_test_Y,\n",
    "                      \"Logistic Regr(ADASYN_RFE)_G\")\n",
    "model18 = model_report(logit_adasyn_rfe_RandomizedSearchCV,adasyn_rfe_train_X,adasyn_rfe_test_X,adasyn_rfe_train_Y,adasyn_rfe_test_Y,\n",
    "                      \"Logistic Regr(ADASYN_RFE)_R\")\n",
    "\n",
    "#concat all models\n",
    "model_performances = pd.concat([model1,model2,model3,model4,model5,model6,model7,model8,model9,model10,model11,model12,model13,model14,model15,model16,model17,model18],axis = 0).reset_index()\n",
    "\n",
    "model_performances = model_performances.drop(columns = \"index\",axis =1)\n",
    "\n",
    "table  = ff.create_table(np.round(model_performances,4))\n",
    "\n",
    "py.iplot(table)"
   ]
  },
  {
   "cell_type": "code",
   "execution_count": null,
   "metadata": {},
   "outputs": [],
   "source": [
    "def employee_attrition_prediction_feature(algorithm,training_x,testing_x,\n",
    "                             training_y,testing_y,cols,threshold_plot) :\n",
    "    \n",
    "    #model\n",
    "    algorithm.fit(training_x,training_y)\n",
    "    predictions   = algorithm.predict(testing_x)\n",
    "    probabilities = algorithm.predict_proba(testing_x)\n",
    "    #coeffs\n",
    "    coefficients  = pd.DataFrame(algorithm.coef_.ravel())\n",
    "    \n",
    "    column_df     = pd.DataFrame(cols)\n",
    "    coef_sumry    = (pd.merge(coefficients,column_df,left_index= True,\n",
    "                              right_index= True, how = \"left\"))\n",
    "    coef_sumry.columns = [\"coefficients\",\"features\"]\n",
    "    coef_sumry    = coef_sumry.sort_values(by = \"coefficients\",ascending = False)\n",
    "    \n",
    "    print (algorithm)\n",
    "    print (\"\\n Classification report : \\n\",classification_report(testing_y,predictions))\n",
    "    print (\"Accuracy   Score : \",accuracy_score(testing_y,predictions))\n",
    "    #confusion matrix\n",
    "    conf_matrix = confusion_matrix(testing_y,predictions)\n",
    "    #roc_auc_score\n",
    "    model_roc_auc = roc_auc_score(testing_y,predictions) \n",
    "    print (\"Area under curve : \",model_roc_auc,\"\\n\")\n",
    "    fpr,tpr,thresholds = roc_curve(testing_y,probabilities[:,1])\n",
    "    \n",
    "    #plot confusion matrix\n",
    "    trace1 = go.Heatmap(z = conf_matrix ,\n",
    "                        x = [\"Not churn\",\"Churn\"],\n",
    "                        y = [\"Not churn\",\"Churn\"],\n",
    "                        showscale  = False,colorscale = \"Picnic\",\n",
    "                        name = \"matrix\")\n",
    "    \n",
    "    #plot roc curve\n",
    "    trace2 = go.Scatter(x = fpr,y = tpr,\n",
    "                        name = \"Roc : \" + str(model_roc_auc),\n",
    "                        line = dict(color = ('rgb(22, 96, 167)'),width = 2))\n",
    "    trace3 = go.Scatter(x = [0,1],y=[0,1],\n",
    "                        line = dict(color = ('rgb(205, 12, 24)'),width = 2,\n",
    "                        dash = 'dot'))\n",
    "    \n",
    "    #plot coeffs\n",
    "    trace4 = go.Bar(x = coef_sumry[\"features\"],y = coef_sumry[\"coefficients\"],\n",
    "                    name = \"coefficients\",\n",
    "                    marker = dict(color = coef_sumry[\"coefficients\"],\n",
    "                                  colorscale = \"Picnic\",\n",
    "                                  line = dict(width = .6,color = \"black\")))\n",
    "    \n",
    "    #subplots\n",
    "    fig = tls.make_subplots(rows=2, cols=2, specs=[[{}, {}], [{'colspan': 2}, None]],\n",
    "                            subplot_titles=('Confusion Matrix',\n",
    "                                            'Receiver operating characteristic',\n",
    "                                            'Feature Importances'))\n",
    "    \n",
    "    fig.append_trace(trace1,1,1)\n",
    "    fig.append_trace(trace2,1,2)\n",
    "    fig.append_trace(trace3,1,2)\n",
    "    fig.append_trace(trace4,2,1)\n",
    "    \n",
    "    fig['layout'].update(showlegend=False, title=\"Model performance\" ,\n",
    "                         autosize = False,height = 900,width = 800,\n",
    "                         plot_bgcolor = 'rgba(240,240,240, 0.95)',\n",
    "                         paper_bgcolor = 'rgba(240,240,240, 0.95)',\n",
    "                         margin = dict(b = 195))\n",
    "    fig[\"layout\"][\"xaxis2\"].update(dict(title = \"false positive rate\"))\n",
    "    fig[\"layout\"][\"yaxis2\"].update(dict(title = \"true positive rate\"))\n",
    "    fig[\"layout\"][\"xaxis3\"].update(dict(showgrid = True,tickfont = dict(size = 10),\n",
    "                                        tickangle = 90))\n",
    "    return py.iplot(fig)\n",
    "    \n",
    "    if threshold_plot == True : \n",
    "        visualizer = DiscriminationThreshold(algorithm)\n",
    "        visualizer.fit(training_x,training_y)\n",
    "        visualizer.poof()"
   ]
  },
  {
   "cell_type": "code",
   "execution_count": null,
   "metadata": {},
   "outputs": [],
   "source": [
    "employee_attrition_prediction_feature(logit_smote_rfe_RandomizedSearchCV,adasyn_rfe_train_X,adasyn_rfe_test_X,adasyn_rfe_train_Y,adasyn_rfe_test_Y,\n",
    "                         colss,threshold_plot = True)"
   ]
  },
  {
   "cell_type": "code",
   "execution_count": null,
   "metadata": {},
   "outputs": [],
   "source": []
  },
  {
   "cell_type": "code",
   "execution_count": null,
   "metadata": {},
   "outputs": [],
   "source": []
  },
  {
   "cell_type": "code",
   "execution_count": null,
   "metadata": {},
   "outputs": [],
   "source": []
  },
  {
   "cell_type": "code",
   "execution_count": null,
   "metadata": {},
   "outputs": [],
   "source": []
  }
 ],
 "metadata": {
  "kernelspec": {
   "display_name": "Python 3",
   "language": "python",
   "name": "python3"
  },
  "language_info": {
   "codemirror_mode": {
    "name": "ipython",
    "version": 3
   },
   "file_extension": ".py",
   "mimetype": "text/x-python",
   "name": "python",
   "nbconvert_exporter": "python",
   "pygments_lexer": "ipython3",
   "version": "3.7.1"
  }
 },
 "nbformat": 4,
 "nbformat_minor": 2
}
